{
 "cells": [
  {
   "cell_type": "markdown",
   "id": "c5774336",
   "metadata": {},
   "source": [
    "# Regression Models"
   ]
  },
  {
   "cell_type": "code",
   "execution_count": 18,
   "id": "8a72da4b",
   "metadata": {},
   "outputs": [],
   "source": [
    "import pandas as pd\n",
    "import numpy as np\n",
    "from sklearn.linear_model import LinearRegression, Ridge, Lasso\n",
    "from sklearn.tree import DecisionTreeRegressor\n",
    "from sklearn.ensemble import GradientBoostingRegressor\n",
    "from sklearn.model_selection import train_test_split, cross_validate\n",
    "from sklearn.model_selection import GridSearchCV"
   ]
  },
  {
   "cell_type": "code",
   "execution_count": 19,
   "id": "1f030167",
   "metadata": {},
   "outputs": [
    {
     "data": {
      "text/html": [
       "<div>\n",
       "<style scoped>\n",
       "    .dataframe tbody tr th:only-of-type {\n",
       "        vertical-align: middle;\n",
       "    }\n",
       "\n",
       "    .dataframe tbody tr th {\n",
       "        vertical-align: top;\n",
       "    }\n",
       "\n",
       "    .dataframe thead th {\n",
       "        text-align: right;\n",
       "    }\n",
       "</style>\n",
       "<table border=\"1\" class=\"dataframe\">\n",
       "  <thead>\n",
       "    <tr style=\"text-align: right;\">\n",
       "      <th></th>\n",
       "      <th>day_elapse</th>\n",
       "      <th>achievements</th>\n",
       "      <th>average_playtime</th>\n",
       "      <th>median_playtime</th>\n",
       "      <th>price</th>\n",
       "      <th>positive_percentage</th>\n",
       "      <th>english_0</th>\n",
       "      <th>english_1</th>\n",
       "      <th>required_age_0</th>\n",
       "      <th>required_age_3</th>\n",
       "      <th>...</th>\n",
       "      <th>tag_Western</th>\n",
       "      <th>tag_Word Game</th>\n",
       "      <th>tag_World War I</th>\n",
       "      <th>tag_World War II</th>\n",
       "      <th>tag_Wrestling</th>\n",
       "      <th>tag_Zombies</th>\n",
       "      <th>tag_e-sports</th>\n",
       "      <th>popularity</th>\n",
       "      <th>positive_ratings</th>\n",
       "      <th>negative_ratings</th>\n",
       "    </tr>\n",
       "  </thead>\n",
       "  <tbody>\n",
       "    <tr>\n",
       "      <th>0</th>\n",
       "      <td>-7.584710</td>\n",
       "      <td>-0.128306</td>\n",
       "      <td>9.557829</td>\n",
       "      <td>0.072624</td>\n",
       "      <td>0.141186</td>\n",
       "      <td>1.110537</td>\n",
       "      <td>0</td>\n",
       "      <td>1</td>\n",
       "      <td>1</td>\n",
       "      <td>0</td>\n",
       "      <td>...</td>\n",
       "      <td>0</td>\n",
       "      <td>0</td>\n",
       "      <td>0</td>\n",
       "      <td>0</td>\n",
       "      <td>0</td>\n",
       "      <td>0</td>\n",
       "      <td>0</td>\n",
       "      <td>Popular</td>\n",
       "      <td>124534</td>\n",
       "      <td>3339</td>\n",
       "    </tr>\n",
       "    <tr>\n",
       "      <th>1</th>\n",
       "      <td>-8.329745</td>\n",
       "      <td>-0.128306</td>\n",
       "      <td>0.069619</td>\n",
       "      <td>-0.035710</td>\n",
       "      <td>-0.265175</td>\n",
       "      <td>0.536451</td>\n",
       "      <td>0</td>\n",
       "      <td>1</td>\n",
       "      <td>1</td>\n",
       "      <td>0</td>\n",
       "      <td>...</td>\n",
       "      <td>0</td>\n",
       "      <td>0</td>\n",
       "      <td>0</td>\n",
       "      <td>0</td>\n",
       "      <td>0</td>\n",
       "      <td>0</td>\n",
       "      <td>0</td>\n",
       "      <td>Popular</td>\n",
       "      <td>3318</td>\n",
       "      <td>633</td>\n",
       "    </tr>\n",
       "    <tr>\n",
       "      <th>2</th>\n",
       "      <td>-6.414491</td>\n",
       "      <td>-0.128306</td>\n",
       "      <td>0.020358</td>\n",
       "      <td>-0.047606</td>\n",
       "      <td>-0.265175</td>\n",
       "      <td>0.775589</td>\n",
       "      <td>0</td>\n",
       "      <td>1</td>\n",
       "      <td>1</td>\n",
       "      <td>0</td>\n",
       "      <td>...</td>\n",
       "      <td>0</td>\n",
       "      <td>0</td>\n",
       "      <td>0</td>\n",
       "      <td>1</td>\n",
       "      <td>0</td>\n",
       "      <td>0</td>\n",
       "      <td>0</td>\n",
       "      <td>Popular</td>\n",
       "      <td>3416</td>\n",
       "      <td>398</td>\n",
       "    </tr>\n",
       "    <tr>\n",
       "      <th>3</th>\n",
       "      <td>-7.312387</td>\n",
       "      <td>-0.128306</td>\n",
       "      <td>0.059220</td>\n",
       "      <td>0.016120</td>\n",
       "      <td>-0.265175</td>\n",
       "      <td>0.480095</td>\n",
       "      <td>0</td>\n",
       "      <td>1</td>\n",
       "      <td>1</td>\n",
       "      <td>0</td>\n",
       "      <td>...</td>\n",
       "      <td>0</td>\n",
       "      <td>0</td>\n",
       "      <td>0</td>\n",
       "      <td>0</td>\n",
       "      <td>0</td>\n",
       "      <td>0</td>\n",
       "      <td>0</td>\n",
       "      <td>Popular</td>\n",
       "      <td>1273</td>\n",
       "      <td>267</td>\n",
       "    </tr>\n",
       "    <tr>\n",
       "      <th>4</th>\n",
       "      <td>-8.054853</td>\n",
       "      <td>-0.128306</td>\n",
       "      <td>0.259548</td>\n",
       "      <td>0.114258</td>\n",
       "      <td>-0.265175</td>\n",
       "      <td>0.999691</td>\n",
       "      <td>0</td>\n",
       "      <td>1</td>\n",
       "      <td>1</td>\n",
       "      <td>0</td>\n",
       "      <td>...</td>\n",
       "      <td>0</td>\n",
       "      <td>0</td>\n",
       "      <td>0</td>\n",
       "      <td>0</td>\n",
       "      <td>0</td>\n",
       "      <td>0</td>\n",
       "      <td>0</td>\n",
       "      <td>Popular</td>\n",
       "      <td>5250</td>\n",
       "      <td>288</td>\n",
       "    </tr>\n",
       "  </tbody>\n",
       "</table>\n",
       "<p>5 rows × 417 columns</p>\n",
       "</div>"
      ],
      "text/plain": [
       "   day_elapse  achievements  average_playtime  median_playtime     price  \\\n",
       "0   -7.584710     -0.128306          9.557829         0.072624  0.141186   \n",
       "1   -8.329745     -0.128306          0.069619        -0.035710 -0.265175   \n",
       "2   -6.414491     -0.128306          0.020358        -0.047606 -0.265175   \n",
       "3   -7.312387     -0.128306          0.059220         0.016120 -0.265175   \n",
       "4   -8.054853     -0.128306          0.259548         0.114258 -0.265175   \n",
       "\n",
       "   positive_percentage  english_0  english_1  required_age_0  required_age_3  \\\n",
       "0             1.110537          0          1               1               0   \n",
       "1             0.536451          0          1               1               0   \n",
       "2             0.775589          0          1               1               0   \n",
       "3             0.480095          0          1               1               0   \n",
       "4             0.999691          0          1               1               0   \n",
       "\n",
       "   ...  tag_Western  tag_Word Game  tag_World War I  tag_World War II  \\\n",
       "0  ...            0              0                0                 0   \n",
       "1  ...            0              0                0                 0   \n",
       "2  ...            0              0                0                 1   \n",
       "3  ...            0              0                0                 0   \n",
       "4  ...            0              0                0                 0   \n",
       "\n",
       "   tag_Wrestling  tag_Zombies  tag_e-sports  popularity  positive_ratings  \\\n",
       "0              0            0             0     Popular            124534   \n",
       "1              0            0             0     Popular              3318   \n",
       "2              0            0             0     Popular              3416   \n",
       "3              0            0             0     Popular              1273   \n",
       "4              0            0             0     Popular              5250   \n",
       "\n",
       "   negative_ratings  \n",
       "0              3339  \n",
       "1               633  \n",
       "2               398  \n",
       "3               267  \n",
       "4               288  \n",
       "\n",
       "[5 rows x 417 columns]"
      ]
     },
     "execution_count": 19,
     "metadata": {},
     "output_type": "execute_result"
    }
   ],
   "source": [
    "df = pd.read_csv(\"project_preprocess.csv\")\n",
    "df.drop('positive_percentage', axis=1)\n",
    "df.head()"
   ]
  },
  {
   "cell_type": "code",
   "execution_count": 20,
   "id": "d382bf19",
   "metadata": {},
   "outputs": [],
   "source": [
    "df.positive_percentage = df.positive_ratings.divide(df.positive_ratings + df.negative_ratings)"
   ]
  },
  {
   "cell_type": "code",
   "execution_count": 21,
   "id": "dc1d9271",
   "metadata": {},
   "outputs": [],
   "source": [
    "(df_train, df_test) = train_test_split(df, random_state=0)"
   ]
  },
  {
   "cell_type": "code",
   "execution_count": 22,
   "id": "f871bf50",
   "metadata": {},
   "outputs": [],
   "source": [
    "X_train = df_train.drop([\"positive_percentage\", \"positive_ratings\", \"negative_ratings\", \"popularity\"], axis=1)\n",
    "X_test = df_test.drop([\"positive_percentage\", \"positive_ratings\", \"negative_ratings\", \"popularity\"], axis=1)\n",
    "y_train = df_train.positive_percentage\n",
    "y_test = df_test.positive_percentage"
   ]
  },
  {
   "cell_type": "markdown",
   "id": "61971365",
   "metadata": {},
   "source": [
    "## Linear Model"
   ]
  },
  {
   "cell_type": "code",
   "execution_count": 6,
   "id": "e3111b04",
   "metadata": {},
   "outputs": [
    {
     "name": "stdout",
     "output_type": "stream",
     "text": [
      "Training R2:  0.13063861062903948\n",
      "Test R2:  -40164027.075303175\n"
     ]
    }
   ],
   "source": [
    "lr = LinearRegression()\n",
    "lr.fit(X_train, y_train)\n",
    "print(\"Training R2: \", lr.score(X_train, y_train))\n",
    "print(\"Test R2: \", lr.score(X_test, y_test))"
   ]
  },
  {
   "cell_type": "code",
   "execution_count": 21,
   "id": "d53896d6",
   "metadata": {},
   "outputs": [
    {
     "data": {
      "text/plain": [
       "required_age_12   -1.665435e+09\n",
       "required_age_16   -1.665435e+09\n",
       "required_age_18   -1.665435e+09\n",
       "required_age_7    -1.665435e+09\n",
       "required_age_0    -1.665435e+09\n",
       "                       ...     \n",
       "tag_3D Vision      3.736369e-01\n",
       "tag_Blood          1.221183e+05\n",
       "Documentary        8.964884e+06\n",
       "english_1          1.857707e+10\n",
       "english_0          1.857707e+10\n",
       "Length: 413, dtype: float64"
      ]
     },
     "execution_count": 21,
     "metadata": {},
     "output_type": "execute_result"
    }
   ],
   "source": [
    "coef = pd.Series(lr.coef_, index=X_train.columns)\n",
    "coef.sort_values()"
   ]
  },
  {
   "cell_type": "markdown",
   "id": "4c50f738",
   "metadata": {},
   "source": [
    "## Ridge"
   ]
  },
  {
   "cell_type": "code",
   "execution_count": 16,
   "id": "dcdb3a67",
   "metadata": {},
   "outputs": [
    {
     "data": {
      "text/plain": [
       "GridSearchCV(estimator=Ridge(),\n",
       "             param_grid={'alpha': [0.0001, 0.01, 0.1, 1, 10, 100, 1000, 10000,\n",
       "                                   100000]},\n",
       "             return_train_score=True)"
      ]
     },
     "execution_count": 16,
     "metadata": {},
     "output_type": "execute_result"
    }
   ],
   "source": [
    "grid = {'alpha': [0.0001,0.01,0.1,1,10,100,1000,10000,100000]}\n",
    "ridge = Ridge()\n",
    "ridgeCV = GridSearchCV(ridge, param_grid=grid, return_train_score=True)\n",
    "ridgeCV.fit(X_train, y_train)"
   ]
  },
  {
   "cell_type": "code",
   "execution_count": 18,
   "id": "c8dc2c66",
   "metadata": {},
   "outputs": [
    {
     "name": "stdout",
     "output_type": "stream",
     "text": [
      "best params:  {'alpha': 10}\n",
      "train R2:  0.107270963019565\n",
      "test R2:  0.10244809238746344\n"
     ]
    }
   ],
   "source": [
    "print('best params: ', ridgeCV.best_params_)\n",
    "print('train R2: ', ridgeCV.best_score_)\n",
    "print('test R2: ', ridgeCV.best_estimator_.score(X_test, y_test))"
   ]
  },
  {
   "cell_type": "code",
   "execution_count": 20,
   "id": "104c76d4",
   "metadata": {},
   "outputs": [
    {
     "data": {
      "text/plain": [
       "tag_Basketball         -0.095402\n",
       "tag_Comic Book         -0.085100\n",
       "Software Training      -0.082750\n",
       "tag_Mining             -0.057610\n",
       "Violent                -0.057450\n",
       "                          ...   \n",
       "tag_Education           0.087521\n",
       "tag_Visual Novel        0.105043\n",
       "SteamVR Collectibles    0.111640\n",
       "tag_Cute                0.127378\n",
       "tag_Classic             0.148029\n",
       "Length: 413, dtype: float64"
      ]
     },
     "execution_count": 20,
     "metadata": {},
     "output_type": "execute_result"
    }
   ],
   "source": [
    "ridge = ridgeCV.best_estimator_\n",
    "coef = pd.Series(ridge.coef_, index=X_train.columns)\n",
    "coef.sort_values()"
   ]
  },
  {
   "cell_type": "markdown",
   "id": "097e11e0",
   "metadata": {},
   "source": [
    "## Lasso"
   ]
  },
  {
   "cell_type": "code",
   "execution_count": 30,
   "id": "e95da391",
   "metadata": {},
   "outputs": [
    {
     "data": {
      "text/plain": [
       "GridSearchCV(estimator=Lasso(),\n",
       "             param_grid={'alpha': [5e-05, 0.0001, 0.01, 0.1, 1, 10, 100, 1000,\n",
       "                                   10000, 100000]},\n",
       "             return_train_score=True)"
      ]
     },
     "execution_count": 30,
     "metadata": {},
     "output_type": "execute_result"
    }
   ],
   "source": [
    "grid = {'alpha': [0.00005, 0.0001,0.01,0.1,1,10,100,1000,10000,100000]}\n",
    "lasso = Lasso()\n",
    "lassoCV = GridSearchCV(lasso, param_grid=grid, return_train_score=True)\n",
    "lassoCV.fit(X_train, y_train)"
   ]
  },
  {
   "cell_type": "code",
   "execution_count": 31,
   "id": "93c702aa",
   "metadata": {},
   "outputs": [
    {
     "name": "stdout",
     "output_type": "stream",
     "text": [
      "best params:  {'alpha': 5e-05}\n",
      "train R2:  0.10635674775028763\n",
      "test R2:  0.10189801769083995\n"
     ]
    }
   ],
   "source": [
    "print('best params: ', lassoCV.best_params_)\n",
    "print('train R2: ', lassoCV.best_score_)\n",
    "print('test R2: ', lassoCV.best_estimator_.score(X_test, y_test))"
   ]
  },
  {
   "cell_type": "code",
   "execution_count": 32,
   "id": "c2fea876",
   "metadata": {},
   "outputs": [
    {
     "data": {
      "text/plain": [
       "tag_Basketball         -0.100052\n",
       "Violent                -0.057733\n",
       "Software Training      -0.057093\n",
       "In-App Purchases       -0.056851\n",
       "tag_Comic Book         -0.046748\n",
       "                          ...   \n",
       "tag_Education           0.079693\n",
       "tag_Visual Novel        0.097388\n",
       "SteamVR Collectibles    0.116532\n",
       "tag_Cute                0.127730\n",
       "tag_Classic             0.144534\n",
       "Length: 413, dtype: float64"
      ]
     },
     "execution_count": 32,
     "metadata": {},
     "output_type": "execute_result"
    }
   ],
   "source": [
    "lasso = lassoCV.best_estimator_\n",
    "coef = pd.Series(lasso.coef_, index=X_train.columns)\n",
    "coef.sort_values()"
   ]
  },
  {
   "cell_type": "code",
   "execution_count": 38,
   "id": "f480a865",
   "metadata": {},
   "outputs": [
    {
     "data": {
      "text/plain": [
       "english_1         -0.0\n",
       "required_age_3     0.0\n",
       "required_age_7    -0.0\n",
       "required_age_18    0.0\n",
       "windows           -0.0\n",
       "                  ... \n",
       "tag_Werewolves    -0.0\n",
       "tag_Word Game      0.0\n",
       "tag_World War I    0.0\n",
       "tag_Wrestling      0.0\n",
       "tag_e-sports      -0.0\n",
       "Length: 250, dtype: float64"
      ]
     },
     "execution_count": 38,
     "metadata": {},
     "output_type": "execute_result"
    }
   ],
   "source": [
    "coef[coef.isin([0])]"
   ]
  },
  {
   "cell_type": "code",
   "execution_count": 39,
   "id": "e848187c",
   "metadata": {},
   "outputs": [
    {
     "data": {
      "text/plain": [
       "250"
      ]
     },
     "execution_count": 39,
     "metadata": {},
     "output_type": "execute_result"
    }
   ],
   "source": [
    "coef[coef.isin([0])].count()"
   ]
  },
  {
   "cell_type": "code",
   "execution_count": 40,
   "id": "a1392d0d",
   "metadata": {},
   "outputs": [
    {
     "data": {
      "text/plain": [
       "413"
      ]
     },
     "execution_count": 40,
     "metadata": {},
     "output_type": "execute_result"
    }
   ],
   "source": [
    "coef.count()"
   ]
  },
  {
   "cell_type": "markdown",
   "id": "d8b39260",
   "metadata": {},
   "source": [
    "## Decision Tree"
   ]
  },
  {
   "cell_type": "code",
   "execution_count": 6,
   "id": "fa8a3a17",
   "metadata": {},
   "outputs": [],
   "source": [
    "tree = DecisionTreeRegressor()"
   ]
  },
  {
   "cell_type": "code",
   "execution_count": 7,
   "id": "8992a46e",
   "metadata": {},
   "outputs": [
    {
     "data": {
      "text/plain": [
       "DecisionTreeRegressor()"
      ]
     },
     "execution_count": 7,
     "metadata": {},
     "output_type": "execute_result"
    }
   ],
   "source": [
    "tree.fit(X_train, y_train)"
   ]
  },
  {
   "cell_type": "code",
   "execution_count": 9,
   "id": "9373740a",
   "metadata": {},
   "outputs": [],
   "source": [
    "cv = cross_validate(tree, X_train, y_train, return_train_score=True)"
   ]
  },
  {
   "cell_type": "code",
   "execution_count": 11,
   "id": "b99e9729",
   "metadata": {},
   "outputs": [],
   "source": [
    "training_score = cv['train_score'].mean()\n",
    "validation_score = cv['test_score'].mean()\n",
    "test_score = tree.score(X_test,y_test)"
   ]
  },
  {
   "cell_type": "code",
   "execution_count": 12,
   "id": "5724d2bb",
   "metadata": {},
   "outputs": [
    {
     "name": "stdout",
     "output_type": "stream",
     "text": [
      "  training score: 0.996\n",
      "validation score: -0.683\n",
      "test score: -0.711\n"
     ]
    }
   ],
   "source": [
    "print('  training score:',training_score.round(3))\n",
    "print('validation score:',validation_score.round(3))\n",
    "print('test score:',test_score.round(3))"
   ]
  },
  {
   "cell_type": "markdown",
   "id": "b68894db",
   "metadata": {},
   "source": [
    "Score is worse than baseline"
   ]
  },
  {
   "cell_type": "markdown",
   "id": "9a9bfdfe",
   "metadata": {},
   "source": [
    "## Gradient Boosting Tree"
   ]
  },
  {
   "cell_type": "code",
   "execution_count": 23,
   "id": "b3a25353",
   "metadata": {},
   "outputs": [],
   "source": [
    "tree = GradientBoostingRegressor()"
   ]
  },
  {
   "cell_type": "code",
   "execution_count": 24,
   "id": "f7fcabac",
   "metadata": {},
   "outputs": [
    {
     "data": {
      "text/plain": [
       "GradientBoostingRegressor()"
      ]
     },
     "execution_count": 24,
     "metadata": {},
     "output_type": "execute_result"
    }
   ],
   "source": [
    "tree.fit(X_train, y_train)"
   ]
  },
  {
   "cell_type": "code",
   "execution_count": 25,
   "id": "39345462",
   "metadata": {},
   "outputs": [
    {
     "data": {
      "text/plain": [
       "0.136"
      ]
     },
     "execution_count": 25,
     "metadata": {},
     "output_type": "execute_result"
    }
   ],
   "source": [
    "tree.score(X_test, y_test).round(3)"
   ]
  },
  {
   "cell_type": "markdown",
   "id": "001cbfe5",
   "metadata": {},
   "source": [
    "Better than baseline, but not great"
   ]
  },
  {
   "cell_type": "code",
   "execution_count": 26,
   "id": "3c6b6d7c",
   "metadata": {},
   "outputs": [
    {
     "ename": "ValueError",
     "evalue": "Length of values (18) does not match length of index (3)",
     "output_type": "error",
     "traceback": [
      "\u001b[0;31m---------------------------------------------------------------------------\u001b[0m",
      "\u001b[0;31mValueError\u001b[0m                                Traceback (most recent call last)",
      "Input \u001b[0;32mIn [26]\u001b[0m, in \u001b[0;36m<cell line: 9>\u001b[0;34m()\u001b[0m\n\u001b[1;32m      7\u001b[0m results[\u001b[38;5;124m'\u001b[39m\u001b[38;5;124mmax_depth\u001b[39m\u001b[38;5;124m'\u001b[39m] \u001b[38;5;241m=\u001b[39m grid[\u001b[38;5;124m'\u001b[39m\u001b[38;5;124mmax_depth\u001b[39m\u001b[38;5;124m'\u001b[39m]\n\u001b[1;32m      8\u001b[0m results[\u001b[38;5;124m'\u001b[39m\u001b[38;5;124mn_estimators\u001b[39m\u001b[38;5;124m'\u001b[39m] \u001b[38;5;241m=\u001b[39m grid[\u001b[38;5;124m'\u001b[39m\u001b[38;5;124mn_estimators\u001b[39m\u001b[38;5;124m'\u001b[39m]\n\u001b[0;32m----> 9\u001b[0m results[\u001b[38;5;124m'\u001b[39m\u001b[38;5;124mtrain R2\u001b[39m\u001b[38;5;124m'\u001b[39m] \u001b[38;5;241m=\u001b[39m grid_search\u001b[38;5;241m.\u001b[39mcv_results_[\u001b[38;5;124m'\u001b[39m\u001b[38;5;124mmean_train_score\u001b[39m\u001b[38;5;124m'\u001b[39m]\n\u001b[1;32m     10\u001b[0m results[\u001b[38;5;124m'\u001b[39m\u001b[38;5;124mval R2\u001b[39m\u001b[38;5;124m'\u001b[39m] \u001b[38;5;241m=\u001b[39m grid_search\u001b[38;5;241m.\u001b[39mcv_results_[\u001b[38;5;124m'\u001b[39m\u001b[38;5;124mmean_test_score\u001b[39m\u001b[38;5;124m'\u001b[39m]\n",
      "File \u001b[0;32m~/miniconda3/lib/python3.9/site-packages/pandas/core/frame.py:3655\u001b[0m, in \u001b[0;36mDataFrame.__setitem__\u001b[0;34m(self, key, value)\u001b[0m\n\u001b[1;32m   3652\u001b[0m     \u001b[38;5;28mself\u001b[39m\u001b[38;5;241m.\u001b[39m_setitem_array([key], value)\n\u001b[1;32m   3653\u001b[0m \u001b[38;5;28;01melse\u001b[39;00m:\n\u001b[1;32m   3654\u001b[0m     \u001b[38;5;66;03m# set column\u001b[39;00m\n\u001b[0;32m-> 3655\u001b[0m     \u001b[38;5;28;43mself\u001b[39;49m\u001b[38;5;241;43m.\u001b[39;49m\u001b[43m_set_item\u001b[49m\u001b[43m(\u001b[49m\u001b[43mkey\u001b[49m\u001b[43m,\u001b[49m\u001b[43m \u001b[49m\u001b[43mvalue\u001b[49m\u001b[43m)\u001b[49m\n",
      "File \u001b[0;32m~/miniconda3/lib/python3.9/site-packages/pandas/core/frame.py:3832\u001b[0m, in \u001b[0;36mDataFrame._set_item\u001b[0;34m(self, key, value)\u001b[0m\n\u001b[1;32m   3822\u001b[0m \u001b[38;5;28;01mdef\u001b[39;00m \u001b[38;5;21m_set_item\u001b[39m(\u001b[38;5;28mself\u001b[39m, key, value) \u001b[38;5;241m-\u001b[39m\u001b[38;5;241m>\u001b[39m \u001b[38;5;28;01mNone\u001b[39;00m:\n\u001b[1;32m   3823\u001b[0m     \u001b[38;5;124;03m\"\"\"\u001b[39;00m\n\u001b[1;32m   3824\u001b[0m \u001b[38;5;124;03m    Add series to DataFrame in specified column.\u001b[39;00m\n\u001b[1;32m   3825\u001b[0m \n\u001b[0;32m   (...)\u001b[0m\n\u001b[1;32m   3830\u001b[0m \u001b[38;5;124;03m    ensure homogeneity.\u001b[39;00m\n\u001b[1;32m   3831\u001b[0m \u001b[38;5;124;03m    \"\"\"\u001b[39;00m\n\u001b[0;32m-> 3832\u001b[0m     value \u001b[38;5;241m=\u001b[39m \u001b[38;5;28;43mself\u001b[39;49m\u001b[38;5;241;43m.\u001b[39;49m\u001b[43m_sanitize_column\u001b[49m\u001b[43m(\u001b[49m\u001b[43mvalue\u001b[49m\u001b[43m)\u001b[49m\n\u001b[1;32m   3834\u001b[0m     \u001b[38;5;28;01mif\u001b[39;00m (\n\u001b[1;32m   3835\u001b[0m         key \u001b[38;5;129;01min\u001b[39;00m \u001b[38;5;28mself\u001b[39m\u001b[38;5;241m.\u001b[39mcolumns\n\u001b[1;32m   3836\u001b[0m         \u001b[38;5;129;01mand\u001b[39;00m value\u001b[38;5;241m.\u001b[39mndim \u001b[38;5;241m==\u001b[39m \u001b[38;5;241m1\u001b[39m\n\u001b[1;32m   3837\u001b[0m         \u001b[38;5;129;01mand\u001b[39;00m \u001b[38;5;129;01mnot\u001b[39;00m is_extension_array_dtype(value)\n\u001b[1;32m   3838\u001b[0m     ):\n\u001b[1;32m   3839\u001b[0m         \u001b[38;5;66;03m# broadcast across multiple columns if necessary\u001b[39;00m\n\u001b[1;32m   3840\u001b[0m         \u001b[38;5;28;01mif\u001b[39;00m \u001b[38;5;129;01mnot\u001b[39;00m \u001b[38;5;28mself\u001b[39m\u001b[38;5;241m.\u001b[39mcolumns\u001b[38;5;241m.\u001b[39mis_unique \u001b[38;5;129;01mor\u001b[39;00m \u001b[38;5;28misinstance\u001b[39m(\u001b[38;5;28mself\u001b[39m\u001b[38;5;241m.\u001b[39mcolumns, MultiIndex):\n",
      "File \u001b[0;32m~/miniconda3/lib/python3.9/site-packages/pandas/core/frame.py:4535\u001b[0m, in \u001b[0;36mDataFrame._sanitize_column\u001b[0;34m(self, value)\u001b[0m\n\u001b[1;32m   4532\u001b[0m     \u001b[38;5;28;01mreturn\u001b[39;00m _reindex_for_setitem(value, \u001b[38;5;28mself\u001b[39m\u001b[38;5;241m.\u001b[39mindex)\n\u001b[1;32m   4534\u001b[0m \u001b[38;5;28;01mif\u001b[39;00m is_list_like(value):\n\u001b[0;32m-> 4535\u001b[0m     \u001b[43mcom\u001b[49m\u001b[38;5;241;43m.\u001b[39;49m\u001b[43mrequire_length_match\u001b[49m\u001b[43m(\u001b[49m\u001b[43mvalue\u001b[49m\u001b[43m,\u001b[49m\u001b[43m \u001b[49m\u001b[38;5;28;43mself\u001b[39;49m\u001b[38;5;241;43m.\u001b[39;49m\u001b[43mindex\u001b[49m\u001b[43m)\u001b[49m\n\u001b[1;32m   4536\u001b[0m \u001b[38;5;28;01mreturn\u001b[39;00m sanitize_array(value, \u001b[38;5;28mself\u001b[39m\u001b[38;5;241m.\u001b[39mindex, copy\u001b[38;5;241m=\u001b[39m\u001b[38;5;28;01mTrue\u001b[39;00m, allow_2d\u001b[38;5;241m=\u001b[39m\u001b[38;5;28;01mTrue\u001b[39;00m)\n",
      "File \u001b[0;32m~/miniconda3/lib/python3.9/site-packages/pandas/core/common.py:557\u001b[0m, in \u001b[0;36mrequire_length_match\u001b[0;34m(data, index)\u001b[0m\n\u001b[1;32m    553\u001b[0m \u001b[38;5;124;03m\"\"\"\u001b[39;00m\n\u001b[1;32m    554\u001b[0m \u001b[38;5;124;03mCheck the length of data matches the length of the index.\u001b[39;00m\n\u001b[1;32m    555\u001b[0m \u001b[38;5;124;03m\"\"\"\u001b[39;00m\n\u001b[1;32m    556\u001b[0m \u001b[38;5;28;01mif\u001b[39;00m \u001b[38;5;28mlen\u001b[39m(data) \u001b[38;5;241m!=\u001b[39m \u001b[38;5;28mlen\u001b[39m(index):\n\u001b[0;32m--> 557\u001b[0m     \u001b[38;5;28;01mraise\u001b[39;00m \u001b[38;5;167;01mValueError\u001b[39;00m(\n\u001b[1;32m    558\u001b[0m         \u001b[38;5;124m\"\u001b[39m\u001b[38;5;124mLength of values \u001b[39m\u001b[38;5;124m\"\u001b[39m\n\u001b[1;32m    559\u001b[0m         \u001b[38;5;124mf\u001b[39m\u001b[38;5;124m\"\u001b[39m\u001b[38;5;124m(\u001b[39m\u001b[38;5;132;01m{\u001b[39;00m\u001b[38;5;28mlen\u001b[39m(data)\u001b[38;5;132;01m}\u001b[39;00m\u001b[38;5;124m) \u001b[39m\u001b[38;5;124m\"\u001b[39m\n\u001b[1;32m    560\u001b[0m         \u001b[38;5;124m\"\u001b[39m\u001b[38;5;124mdoes not match length of index \u001b[39m\u001b[38;5;124m\"\u001b[39m\n\u001b[1;32m    561\u001b[0m         \u001b[38;5;124mf\u001b[39m\u001b[38;5;124m\"\u001b[39m\u001b[38;5;124m(\u001b[39m\u001b[38;5;132;01m{\u001b[39;00m\u001b[38;5;28mlen\u001b[39m(index)\u001b[38;5;132;01m}\u001b[39;00m\u001b[38;5;124m)\u001b[39m\u001b[38;5;124m\"\u001b[39m\n\u001b[1;32m    562\u001b[0m     )\n",
      "\u001b[0;31mValueError\u001b[0m: Length of values (18) does not match length of index (3)"
     ]
    }
   ],
   "source": [
    "tr = GradientBoostingRegressor()\n",
    "grid = {'n_estimators':[10,100,200], 'max_depth' : [1,5,10], 'learning_rate':[.1,.05]}\n",
    "grid_search = GridSearchCV(tr, param_grid = grid, return_train_score = True, n_jobs=-1)\n",
    "\n",
    "grid_search.fit(X_train,y_train)"
   ]
  },
  {
   "cell_type": "code",
   "execution_count": 28,
   "id": "1fba9036",
   "metadata": {},
   "outputs": [
    {
     "name": "stdout",
     "output_type": "stream",
     "text": [
      "         best B = {'learning_rate': 0.1, 'max_depth': 5, 'n_estimators': 200}\n",
      "  validation R2 = 0.162\n"
     ]
    }
   ],
   "source": [
    "print('         best B =',grid_search.best_params_)\n",
    "print('  validation R2 =',grid_search.best_score_.round(3))"
   ]
  },
  {
   "cell_type": "code",
   "execution_count": 30,
   "id": "f8282b0e",
   "metadata": {},
   "outputs": [
    {
     "data": {
      "text/plain": [
       "0.159"
      ]
     },
     "execution_count": 30,
     "metadata": {},
     "output_type": "execute_result"
    }
   ],
   "source": [
    "test_score = grid_search.best_estimator_.score(X_test, y_test).round(3)\n",
    "test_score"
   ]
  },
  {
   "cell_type": "markdown",
   "id": "eb166844",
   "metadata": {},
   "source": [
    ".159 is a better result, still not great"
   ]
  },
  {
   "cell_type": "code",
   "execution_count": null,
   "id": "3a7cad65",
   "metadata": {},
   "outputs": [],
   "source": []
  },
  {
   "cell_type": "code",
   "execution_count": null,
   "id": "9c093d94",
   "metadata": {},
   "outputs": [],
   "source": []
  }
 ],
 "metadata": {
  "kernelspec": {
   "display_name": "Python 3 (ipykernel)",
   "language": "python",
   "name": "python3"
  },
  "language_info": {
   "codemirror_mode": {
    "name": "ipython",
    "version": 3
   },
   "file_extension": ".py",
   "mimetype": "text/x-python",
   "name": "python",
   "nbconvert_exporter": "python",
   "pygments_lexer": "ipython3",
   "version": "3.9.5"
  }
 },
 "nbformat": 4,
 "nbformat_minor": 5
}
