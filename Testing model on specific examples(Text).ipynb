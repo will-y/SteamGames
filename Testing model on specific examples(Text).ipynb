{
 "cells": [
  {
   "cell_type": "markdown",
   "id": "a2aaf357",
   "metadata": {},
   "source": []
  },
  {
   "cell_type": "markdown",
   "id": "146cc13d",
   "metadata": {},
   "source": [
    "## Why is text data failiing?"
   ]
  },
  {
   "cell_type": "code",
   "execution_count": 96,
   "id": "02f76da0",
   "metadata": {},
   "outputs": [],
   "source": [
    "import pandas as pd\n",
    "import os\n",
    "import pandas as pd\n",
    "import numpy as np\n",
    "from sklearn.model_selection import train_test_split\n",
    "from sklearn.model_selection import GridSearchCV\n",
    "from sklearn.neighbors import KNeighborsClassifier\n",
    "from sklearn.tree import DecisionTreeClassifier, export_graphviz\n",
    "from sklearn.svm import SVC\n",
    "from sklearn.metrics import confusion_matrix\n",
    "from sklearn.ensemble import RandomForestClassifier, GradientBoostingClassifier\n",
    "from sklearn.linear_model import LogisticRegression"
   ]
  },
  {
   "cell_type": "code",
   "execution_count": 118,
   "id": "21476cf8",
   "metadata": {},
   "outputs": [
    {
     "data": {
      "text/html": [
       "<div>\n",
       "<style scoped>\n",
       "    .dataframe tbody tr th:only-of-type {\n",
       "        vertical-align: middle;\n",
       "    }\n",
       "\n",
       "    .dataframe tbody tr th {\n",
       "        vertical-align: top;\n",
       "    }\n",
       "\n",
       "    .dataframe thead th {\n",
       "        text-align: right;\n",
       "    }\n",
       "</style>\n",
       "<table border=\"1\" class=\"dataframe\">\n",
       "  <thead>\n",
       "    <tr style=\"text-align: right;\">\n",
       "      <th></th>\n",
       "      <th>popularity</th>\n",
       "      <th>action</th>\n",
       "      <th>adventure</th>\n",
       "      <th>available</th>\n",
       "      <th>based</th>\n",
       "      <th>battle</th>\n",
       "      <th>best</th>\n",
       "      <th>build</th>\n",
       "      <th>challenge</th>\n",
       "      <th>challenging</th>\n",
       "      <th>...</th>\n",
       "      <th>try</th>\n",
       "      <th>unique</th>\n",
       "      <th>unlock</th>\n",
       "      <th>use</th>\n",
       "      <th>using</th>\n",
       "      <th>various</th>\n",
       "      <th>want</th>\n",
       "      <th>way</th>\n",
       "      <th>weapons</th>\n",
       "      <th>world</th>\n",
       "    </tr>\n",
       "  </thead>\n",
       "  <tbody>\n",
       "    <tr>\n",
       "      <th>0</th>\n",
       "      <td>Popular</td>\n",
       "      <td>0.225381</td>\n",
       "      <td>0.0</td>\n",
       "      <td>0.0</td>\n",
       "      <td>0.224651</td>\n",
       "      <td>0.0</td>\n",
       "      <td>0.0</td>\n",
       "      <td>0.0</td>\n",
       "      <td>0.0</td>\n",
       "      <td>0.0</td>\n",
       "      <td>...</td>\n",
       "      <td>0.0</td>\n",
       "      <td>0.000000</td>\n",
       "      <td>0.0</td>\n",
       "      <td>0.0</td>\n",
       "      <td>0.0</td>\n",
       "      <td>0.0</td>\n",
       "      <td>0.0</td>\n",
       "      <td>0.0</td>\n",
       "      <td>0.000000</td>\n",
       "      <td>0.163636</td>\n",
       "    </tr>\n",
       "    <tr>\n",
       "      <th>1</th>\n",
       "      <td>Popular</td>\n",
       "      <td>0.204416</td>\n",
       "      <td>0.0</td>\n",
       "      <td>0.0</td>\n",
       "      <td>0.000000</td>\n",
       "      <td>0.0</td>\n",
       "      <td>0.0</td>\n",
       "      <td>0.0</td>\n",
       "      <td>0.0</td>\n",
       "      <td>0.0</td>\n",
       "      <td>...</td>\n",
       "      <td>0.0</td>\n",
       "      <td>0.346357</td>\n",
       "      <td>0.0</td>\n",
       "      <td>0.0</td>\n",
       "      <td>0.0</td>\n",
       "      <td>0.0</td>\n",
       "      <td>0.0</td>\n",
       "      <td>0.0</td>\n",
       "      <td>0.210029</td>\n",
       "      <td>0.000000</td>\n",
       "    </tr>\n",
       "    <tr>\n",
       "      <th>2</th>\n",
       "      <td>Popular</td>\n",
       "      <td>0.000000</td>\n",
       "      <td>0.0</td>\n",
       "      <td>0.0</td>\n",
       "      <td>0.369677</td>\n",
       "      <td>0.0</td>\n",
       "      <td>0.0</td>\n",
       "      <td>0.0</td>\n",
       "      <td>0.0</td>\n",
       "      <td>0.0</td>\n",
       "      <td>...</td>\n",
       "      <td>0.0</td>\n",
       "      <td>0.314201</td>\n",
       "      <td>0.0</td>\n",
       "      <td>0.0</td>\n",
       "      <td>0.0</td>\n",
       "      <td>0.0</td>\n",
       "      <td>0.0</td>\n",
       "      <td>0.0</td>\n",
       "      <td>0.000000</td>\n",
       "      <td>0.000000</td>\n",
       "    </tr>\n",
       "    <tr>\n",
       "      <th>3</th>\n",
       "      <td>Popular</td>\n",
       "      <td>0.000000</td>\n",
       "      <td>0.0</td>\n",
       "      <td>0.0</td>\n",
       "      <td>0.000000</td>\n",
       "      <td>0.0</td>\n",
       "      <td>0.0</td>\n",
       "      <td>0.0</td>\n",
       "      <td>0.0</td>\n",
       "      <td>0.0</td>\n",
       "      <td>...</td>\n",
       "      <td>0.0</td>\n",
       "      <td>0.000000</td>\n",
       "      <td>0.0</td>\n",
       "      <td>0.0</td>\n",
       "      <td>0.0</td>\n",
       "      <td>0.0</td>\n",
       "      <td>0.0</td>\n",
       "      <td>0.0</td>\n",
       "      <td>0.000000</td>\n",
       "      <td>0.000000</td>\n",
       "    </tr>\n",
       "    <tr>\n",
       "      <th>4</th>\n",
       "      <td>Popular</td>\n",
       "      <td>0.395474</td>\n",
       "      <td>0.0</td>\n",
       "      <td>0.0</td>\n",
       "      <td>0.000000</td>\n",
       "      <td>0.0</td>\n",
       "      <td>0.0</td>\n",
       "      <td>0.0</td>\n",
       "      <td>0.0</td>\n",
       "      <td>0.0</td>\n",
       "      <td>...</td>\n",
       "      <td>0.0</td>\n",
       "      <td>0.000000</td>\n",
       "      <td>0.0</td>\n",
       "      <td>0.0</td>\n",
       "      <td>0.0</td>\n",
       "      <td>0.0</td>\n",
       "      <td>0.0</td>\n",
       "      <td>0.0</td>\n",
       "      <td>0.000000</td>\n",
       "      <td>0.000000</td>\n",
       "    </tr>\n",
       "  </tbody>\n",
       "</table>\n",
       "<p>5 rows × 90 columns</p>\n",
       "</div>"
      ],
      "text/plain": [
       "  popularity    action  adventure  available     based  battle  best  build  \\\n",
       "0    Popular  0.225381        0.0        0.0  0.224651     0.0   0.0    0.0   \n",
       "1    Popular  0.204416        0.0        0.0  0.000000     0.0   0.0    0.0   \n",
       "2    Popular  0.000000        0.0        0.0  0.369677     0.0   0.0    0.0   \n",
       "3    Popular  0.000000        0.0        0.0  0.000000     0.0   0.0    0.0   \n",
       "4    Popular  0.395474        0.0        0.0  0.000000     0.0   0.0    0.0   \n",
       "\n",
       "   challenge  challenging  ...  try    unique  unlock  use  using  various  \\\n",
       "0        0.0          0.0  ...  0.0  0.000000     0.0  0.0    0.0      0.0   \n",
       "1        0.0          0.0  ...  0.0  0.346357     0.0  0.0    0.0      0.0   \n",
       "2        0.0          0.0  ...  0.0  0.314201     0.0  0.0    0.0      0.0   \n",
       "3        0.0          0.0  ...  0.0  0.000000     0.0  0.0    0.0      0.0   \n",
       "4        0.0          0.0  ...  0.0  0.000000     0.0  0.0    0.0      0.0   \n",
       "\n",
       "   want  way   weapons     world  \n",
       "0   0.0  0.0  0.000000  0.163636  \n",
       "1   0.0  0.0  0.210029  0.000000  \n",
       "2   0.0  0.0  0.000000  0.000000  \n",
       "3   0.0  0.0  0.000000  0.000000  \n",
       "4   0.0  0.0  0.000000  0.000000  \n",
       "\n",
       "[5 rows x 90 columns]"
      ]
     },
     "execution_count": 118,
     "metadata": {},
     "output_type": "execute_result"
    }
   ],
   "source": [
    "steam=pd.read_csv(\"preprocess_project.csv\")\n",
    "originalSteam=pd.read_csv(\"steam.csv\")\n",
    "steamDescriptions=pd.read_csv(\"steam_description_data.csv\")\n",
    "TFIDFDescriptions=pd.read_csv(\"TFIDFDescriptions.csv\")\n",
    "\n",
    "BOWDescriptions=pd.read_csv(\"BOWDescriptions.csv\")\n",
    "\n",
    "steam.head()\n",
    "TFIDFDescriptions.head()"
   ]
  },
  {
   "cell_type": "code",
   "execution_count": 119,
   "id": "38087a60",
   "metadata": {},
   "outputs": [],
   "source": [
    "(df_train, df_test) = train_test_split(TFIDFDescriptions, random_state=0)\n",
    "X_train = df_train.drop(\"popularity\", axis=1)\n",
    "X_test = df_test.drop(\"popularity\", axis=1)\n",
    "y_train = df_train.popularity\n",
    "y_test = df_test.popularity\n",
    "\n"
   ]
  },
  {
   "cell_type": "code",
   "execution_count": 120,
   "id": "4351d2e2",
   "metadata": {},
   "outputs": [],
   "source": [
    "(bow_train, bow_test) = train_test_split(BOWDescriptions , random_state=0)\n",
    "Xb_train = bow_train.drop(\"popularity\", axis=1)\n",
    "Xb_test = bow_test.drop(\"popularity\", axis=1)\n",
    "yb_train = bow_train.popularity\n",
    "yb_test = bow_test.popularity"
   ]
  },
  {
   "cell_type": "code",
   "execution_count": 13,
   "id": "cbc2418f",
   "metadata": {},
   "outputs": [
    {
     "name": "stdout",
     "output_type": "stream",
     "text": [
      "Random Forests:\n",
      "optimal parameters: {'max_depth': 28, 'n_estimators': 100}\n",
      "optimal validation R2 = 0.695\n"
     ]
    }
   ],
   "source": [
    "grid = {'n_estimators':[10,100,200],'max_depth':np.arange(1,30)}\n",
    "rf = RandomForestClassifier(n_jobs=-1)\n",
    "rfCV = GridSearchCV(rf,param_grid=grid,n_jobs=-1)\n",
    "rfCV.fit(X_train,y_train)\n",
    "print('Random Forests:')\n",
    "print('optimal parameters:',rfCV.best_params_)\n",
    "print('optimal validation R2 =',rfCV.best_score_.round(3))"
   ]
  },
  {
   "cell_type": "code",
   "execution_count": 15,
   "id": "b1c26bc0",
   "metadata": {},
   "outputs": [
    {
     "data": {
      "text/plain": [
       "0.698"
      ]
     },
     "execution_count": 15,
     "metadata": {},
     "output_type": "execute_result"
    }
   ],
   "source": [
    "bestForest=rfCV.best_estimator_\n",
    "test_score = bestForest.score(X_test, y_test).round(3)\n",
    "test_score"
   ]
  },
  {
   "cell_type": "code",
   "execution_count": 20,
   "id": "742dc105",
   "metadata": {},
   "outputs": [
    {
     "data": {
      "text/plain": [
       "Low popularity    4658\n",
       "Average           1166\n",
       "Popular            945\n",
       "Name: popularity, dtype: int64"
      ]
     },
     "execution_count": 20,
     "metadata": {},
     "output_type": "execute_result"
    }
   ],
   "source": [
    "y_test.value_counts()"
   ]
  },
  {
   "cell_type": "code",
   "execution_count": 17,
   "id": "701298db",
   "metadata": {},
   "outputs": [],
   "source": [
    "yh = rfCV.predict(X_test)"
   ]
  },
  {
   "cell_type": "code",
   "execution_count": 18,
   "id": "b827e9cb",
   "metadata": {},
   "outputs": [
    {
     "data": {
      "text/html": [
       "<div>\n",
       "<style scoped>\n",
       "    .dataframe tbody tr th:only-of-type {\n",
       "        vertical-align: middle;\n",
       "    }\n",
       "\n",
       "    .dataframe tbody tr th {\n",
       "        vertical-align: top;\n",
       "    }\n",
       "\n",
       "    .dataframe thead th {\n",
       "        text-align: right;\n",
       "    }\n",
       "</style>\n",
       "<table border=\"1\" class=\"dataframe\">\n",
       "  <thead>\n",
       "    <tr style=\"text-align: right;\">\n",
       "      <th></th>\n",
       "      <th>Average</th>\n",
       "      <th>Low popularity</th>\n",
       "      <th>Popular</th>\n",
       "      <th>total</th>\n",
       "    </tr>\n",
       "  </thead>\n",
       "  <tbody>\n",
       "    <tr>\n",
       "      <th>Average</th>\n",
       "      <td>7</td>\n",
       "      <td>1128</td>\n",
       "      <td>31</td>\n",
       "      <td>1166</td>\n",
       "    </tr>\n",
       "    <tr>\n",
       "      <th>Low popularity</th>\n",
       "      <td>5</td>\n",
       "      <td>4643</td>\n",
       "      <td>10</td>\n",
       "      <td>4658</td>\n",
       "    </tr>\n",
       "    <tr>\n",
       "      <th>Popular</th>\n",
       "      <td>5</td>\n",
       "      <td>865</td>\n",
       "      <td>75</td>\n",
       "      <td>945</td>\n",
       "    </tr>\n",
       "  </tbody>\n",
       "</table>\n",
       "</div>"
      ],
      "text/plain": [
       "                Average  Low popularity  Popular  total\n",
       "Average               7            1128       31   1166\n",
       "Low popularity        5            4643       10   4658\n",
       "Popular               5             865       75    945"
      ]
     },
     "execution_count": 18,
     "metadata": {},
     "output_type": "execute_result"
    }
   ],
   "source": [
    "y = y_test.astype('category')\n",
    "cols = y.cat.categories\n",
    "M = confusion_matrix(y, yh)\n",
    "ConfusionMatrix = pd.DataFrame(M, index=cols, columns=cols)\n",
    "ConfusionMatrix['total'] = ConfusionMatrix.sum(axis=1)\n",
    "ConfusionMatrix"
   ]
  },
  {
   "cell_type": "code",
   "execution_count": null,
   "id": "e71913e1",
   "metadata": {},
   "outputs": [],
   "source": [
    "# From the confusion matrix,\n",
    "#it seems like the mode couldn't really distinguish between what makes a game popular, average and unpopular from text data\n"
   ]
  },
  {
   "cell_type": "code",
   "execution_count": 89,
   "id": "867eb5fd",
   "metadata": {},
   "outputs": [],
   "source": [
    "# example where this fail \n",
    "def predict(appid, model, data, steam):\n",
    "    data[\"appid\"]=steam[\"appid\"]\n",
    "    sample=data.loc[data[\"appid\"]==appid]\n",
    "    sample=sample.drop(\"popularity\",axis=1)\n",
    "    return model.predict(sample.iloc[:,:-1])"
   ]
  },
  {
   "cell_type": "code",
   "execution_count": 92,
   "id": "118f5335",
   "metadata": {},
   "outputs": [
    {
     "data": {
      "text/plain": [
       "appid                                                                50\n",
       "name                                          Half-Life: Opposing Force\n",
       "release_date                                                 1999-11-01\n",
       "english                                                               1\n",
       "developer                                              Gearbox Software\n",
       "publisher                                                         Valve\n",
       "platforms                                             windows;mac;linux\n",
       "required_age                                                          0\n",
       "categories          Single-player;Multi-player;Valve Anti-Cheat enabled\n",
       "genres                                                           Action\n",
       "steamspy_tags                                         FPS;Action;Sci-fi\n",
       "achievements                                                          0\n",
       "positive_ratings                                                   5250\n",
       "negative_ratings                                                    288\n",
       "average_playtime                                                    624\n",
       "median_playtime                                                     415\n",
       "owners                                                 5000000-10000000\n",
       "price                                                              3.99\n",
       "popularity                                                      Popular\n",
       "Name: 4, dtype: object"
      ]
     },
     "execution_count": 92,
     "metadata": {},
     "output_type": "execute_result"
    }
   ],
   "source": [
    "sample=originalSteam.loc[originalSteam[\"popularity\"]==\"Popular\"].iloc[1,:]\n",
    "sample"
   ]
  },
  {
   "cell_type": "code",
   "execution_count": 93,
   "id": "033bd5a2",
   "metadata": {},
   "outputs": [],
   "source": [
    "appid=sample.appid"
   ]
  },
  {
   "cell_type": "code",
   "execution_count": 94,
   "id": "1c81321a",
   "metadata": {},
   "outputs": [
    {
     "name": "stdout",
     "output_type": "stream",
     "text": [
      "4    Return to the Black Mesa Research Facility as one of the military specialists assigned to eliminate Gordon Freeman. Experience an entirely new episode of single player action. Meet fierce alien opponents, and experiment with new weaponry. Named 'Game of the Year' by the Academy of Interactive Arts and Sciences.\n",
      "Name: detailed_description, dtype: object\n"
     ]
    }
   ],
   "source": [
    "pd.set_option('display.max_colwidth', None)\n",
    "print(str(steamDescriptions.loc[steamDescriptions[\"steam_appid\"]==appid].detailed_description))"
   ]
  },
  {
   "cell_type": "code",
   "execution_count": null,
   "id": "0eee65dd",
   "metadata": {},
   "outputs": [],
   "source": []
  },
  {
   "cell_type": "code",
   "execution_count": 95,
   "id": "442e3bd8",
   "metadata": {},
   "outputs": [
    {
     "data": {
      "text/plain": [
       "array(['Low popularity'], dtype=object)"
      ]
     },
     "execution_count": 95,
     "metadata": {},
     "output_type": "execute_result"
    }
   ],
   "source": [
    "predict(appid, bestForest, TFIDFDescriptions, originalSteam)\n",
    "# but this game should be highly popular."
   ]
  },
  {
   "cell_type": "code",
   "execution_count": 121,
   "id": "a5bd610a",
   "metadata": {},
   "outputs": [
    {
     "name": "stdout",
     "output_type": "stream",
     "text": [
      "Gradient Boosting Trees:\n",
      "optimal parameters: {'learning_rate': 0.01, 'n_estimators': 200}\n",
      "optimal validation R2 = 0.692\n"
     ]
    }
   ],
   "source": [
    "grid = {'learning_rate':[0.01,0.001],'n_estimators':[100,200]}\n",
    "gbt = GradientBoostingClassifier()\n",
    "gbtCV = GridSearchCV(gbt,param_grid=grid,n_jobs=-1)\n",
    "gbtCV.fit(X_train,y_train)\n",
    "print('Gradient Boosting Trees:')\n",
    "print('optimal parameters:',gbtCV.best_params_)\n",
    "print('optimal validation R2 =',gbtCV.best_score_.round(3))"
   ]
  },
  {
   "cell_type": "code",
   "execution_count": 122,
   "id": "2298e248",
   "metadata": {},
   "outputs": [
    {
     "data": {
      "text/plain": [
       "0.6941941202540995"
      ]
     },
     "execution_count": 122,
     "metadata": {},
     "output_type": "execute_result"
    }
   ],
   "source": [
    "bestGbt=gbtCV.best_estimator_\n",
    "bestGbt.score(X_test, y_test)"
   ]
  },
  {
   "cell_type": "code",
   "execution_count": 125,
   "id": "079f4cd8",
   "metadata": {},
   "outputs": [
    {
     "data": {
      "text/html": [
       "<div>\n",
       "<style scoped>\n",
       "    .dataframe tbody tr th:only-of-type {\n",
       "        vertical-align: middle;\n",
       "    }\n",
       "\n",
       "    .dataframe tbody tr th {\n",
       "        vertical-align: top;\n",
       "    }\n",
       "\n",
       "    .dataframe thead th {\n",
       "        text-align: right;\n",
       "    }\n",
       "</style>\n",
       "<table border=\"1\" class=\"dataframe\">\n",
       "  <thead>\n",
       "    <tr style=\"text-align: right;\">\n",
       "      <th></th>\n",
       "      <th>Average</th>\n",
       "      <th>Low popularity</th>\n",
       "      <th>Popular</th>\n",
       "      <th>total</th>\n",
       "    </tr>\n",
       "  </thead>\n",
       "  <tbody>\n",
       "    <tr>\n",
       "      <th>Average</th>\n",
       "      <td>0</td>\n",
       "      <td>1153</td>\n",
       "      <td>13</td>\n",
       "      <td>1166</td>\n",
       "    </tr>\n",
       "    <tr>\n",
       "      <th>Low popularity</th>\n",
       "      <td>0</td>\n",
       "      <td>4649</td>\n",
       "      <td>9</td>\n",
       "      <td>4658</td>\n",
       "    </tr>\n",
       "    <tr>\n",
       "      <th>Popular</th>\n",
       "      <td>0</td>\n",
       "      <td>895</td>\n",
       "      <td>50</td>\n",
       "      <td>945</td>\n",
       "    </tr>\n",
       "  </tbody>\n",
       "</table>\n",
       "</div>"
      ],
      "text/plain": [
       "                Average  Low popularity  Popular  total\n",
       "Average               0            1153       13   1166\n",
       "Low popularity        0            4649        9   4658\n",
       "Popular               0             895       50    945"
      ]
     },
     "execution_count": 125,
     "metadata": {},
     "output_type": "execute_result"
    }
   ],
   "source": [
    "yh = bestGbt.predict(X_test)\n",
    "y = y_test.astype('category')\n",
    "cols = y.cat.categories\n",
    "M = confusion_matrix(y, yh)\n",
    "ConfusionMatrix = pd.DataFrame(M, index=cols, columns=cols)\n",
    "ConfusionMatrix['total'] = ConfusionMatrix.sum(axis=1)\n",
    "ConfusionMatrix"
   ]
  },
  {
   "cell_type": "code",
   "execution_count": 126,
   "id": "4da5aa8f",
   "metadata": {},
   "outputs": [
    {
     "data": {
      "text/plain": [
       "array(['Low popularity'], dtype=object)"
      ]
     },
     "execution_count": 126,
     "metadata": {},
     "output_type": "execute_result"
    }
   ],
   "source": [
    "predict(appid, bestGbt, TFIDFDescriptions, originalSteam)"
   ]
  },
  {
   "cell_type": "code",
   "execution_count": null,
   "id": "4f6f1533",
   "metadata": {},
   "outputs": [],
   "source": []
  }
 ],
 "metadata": {
  "kernelspec": {
   "display_name": "Python 3 (ipykernel)",
   "language": "python",
   "name": "python3"
  },
  "language_info": {
   "codemirror_mode": {
    "name": "ipython",
    "version": 3
   },
   "file_extension": ".py",
   "mimetype": "text/x-python",
   "name": "python",
   "nbconvert_exporter": "python",
   "pygments_lexer": "ipython3",
   "version": "3.7.11"
  }
 },
 "nbformat": 4,
 "nbformat_minor": 5
}
