{
 "cells": [
  {
   "cell_type": "markdown",
   "metadata": {},
   "source": [
    "GradientBoostedTrees to predict popularity"
   ]
  },
  {
   "cell_type": "code",
   "execution_count": 28,
   "metadata": {},
   "outputs": [],
   "source": [
    "import numpy as np\n",
    "import pandas as pd\n",
    "from sklearn.tree import DecisionTreeClassifier\n",
    "from sklearn.ensemble import GradientBoostingClassifier\n",
    "from sklearn.model_selection import train_test_split, GridSearchCV"
   ]
  },
  {
   "cell_type": "code",
   "execution_count": 29,
   "metadata": {},
   "outputs": [
    {
     "data": {
      "text/html": [
       "<div>\n",
       "<style scoped>\n",
       "    .dataframe tbody tr th:only-of-type {\n",
       "        vertical-align: middle;\n",
       "    }\n",
       "\n",
       "    .dataframe tbody tr th {\n",
       "        vertical-align: top;\n",
       "    }\n",
       "\n",
       "    .dataframe thead th {\n",
       "        text-align: right;\n",
       "    }\n",
       "</style>\n",
       "<table border=\"1\" class=\"dataframe\">\n",
       "  <thead>\n",
       "    <tr style=\"text-align: right;\">\n",
       "      <th></th>\n",
       "      <th>day_elapse</th>\n",
       "      <th>achievements</th>\n",
       "      <th>average_playtime</th>\n",
       "      <th>median_playtime</th>\n",
       "      <th>price</th>\n",
       "      <th>positive_percentage</th>\n",
       "      <th>english_0</th>\n",
       "      <th>english_1</th>\n",
       "      <th>required_age_0</th>\n",
       "      <th>required_age_3</th>\n",
       "      <th>...</th>\n",
       "      <th>tag_Western</th>\n",
       "      <th>tag_Word Game</th>\n",
       "      <th>tag_World War I</th>\n",
       "      <th>tag_World War II</th>\n",
       "      <th>tag_Wrestling</th>\n",
       "      <th>tag_Zombies</th>\n",
       "      <th>tag_e-sports</th>\n",
       "      <th>popularity</th>\n",
       "      <th>positive_ratings</th>\n",
       "      <th>negative_ratings</th>\n",
       "    </tr>\n",
       "  </thead>\n",
       "  <tbody>\n",
       "    <tr>\n",
       "      <th>0</th>\n",
       "      <td>-7.584710</td>\n",
       "      <td>-0.128306</td>\n",
       "      <td>9.557829</td>\n",
       "      <td>0.072624</td>\n",
       "      <td>0.141186</td>\n",
       "      <td>1.110537</td>\n",
       "      <td>0</td>\n",
       "      <td>1</td>\n",
       "      <td>1</td>\n",
       "      <td>0</td>\n",
       "      <td>...</td>\n",
       "      <td>0</td>\n",
       "      <td>0</td>\n",
       "      <td>0</td>\n",
       "      <td>0</td>\n",
       "      <td>0</td>\n",
       "      <td>0</td>\n",
       "      <td>0</td>\n",
       "      <td>Popular</td>\n",
       "      <td>124534</td>\n",
       "      <td>3339</td>\n",
       "    </tr>\n",
       "    <tr>\n",
       "      <th>1</th>\n",
       "      <td>-8.329745</td>\n",
       "      <td>-0.128306</td>\n",
       "      <td>0.069619</td>\n",
       "      <td>-0.035710</td>\n",
       "      <td>-0.265175</td>\n",
       "      <td>0.536451</td>\n",
       "      <td>0</td>\n",
       "      <td>1</td>\n",
       "      <td>1</td>\n",
       "      <td>0</td>\n",
       "      <td>...</td>\n",
       "      <td>0</td>\n",
       "      <td>0</td>\n",
       "      <td>0</td>\n",
       "      <td>0</td>\n",
       "      <td>0</td>\n",
       "      <td>0</td>\n",
       "      <td>0</td>\n",
       "      <td>Popular</td>\n",
       "      <td>3318</td>\n",
       "      <td>633</td>\n",
       "    </tr>\n",
       "    <tr>\n",
       "      <th>2</th>\n",
       "      <td>-6.414491</td>\n",
       "      <td>-0.128306</td>\n",
       "      <td>0.020358</td>\n",
       "      <td>-0.047606</td>\n",
       "      <td>-0.265175</td>\n",
       "      <td>0.775589</td>\n",
       "      <td>0</td>\n",
       "      <td>1</td>\n",
       "      <td>1</td>\n",
       "      <td>0</td>\n",
       "      <td>...</td>\n",
       "      <td>0</td>\n",
       "      <td>0</td>\n",
       "      <td>0</td>\n",
       "      <td>1</td>\n",
       "      <td>0</td>\n",
       "      <td>0</td>\n",
       "      <td>0</td>\n",
       "      <td>Popular</td>\n",
       "      <td>3416</td>\n",
       "      <td>398</td>\n",
       "    </tr>\n",
       "    <tr>\n",
       "      <th>3</th>\n",
       "      <td>-7.312387</td>\n",
       "      <td>-0.128306</td>\n",
       "      <td>0.059220</td>\n",
       "      <td>0.016120</td>\n",
       "      <td>-0.265175</td>\n",
       "      <td>0.480095</td>\n",
       "      <td>0</td>\n",
       "      <td>1</td>\n",
       "      <td>1</td>\n",
       "      <td>0</td>\n",
       "      <td>...</td>\n",
       "      <td>0</td>\n",
       "      <td>0</td>\n",
       "      <td>0</td>\n",
       "      <td>0</td>\n",
       "      <td>0</td>\n",
       "      <td>0</td>\n",
       "      <td>0</td>\n",
       "      <td>Popular</td>\n",
       "      <td>1273</td>\n",
       "      <td>267</td>\n",
       "    </tr>\n",
       "    <tr>\n",
       "      <th>4</th>\n",
       "      <td>-8.054853</td>\n",
       "      <td>-0.128306</td>\n",
       "      <td>0.259548</td>\n",
       "      <td>0.114258</td>\n",
       "      <td>-0.265175</td>\n",
       "      <td>0.999691</td>\n",
       "      <td>0</td>\n",
       "      <td>1</td>\n",
       "      <td>1</td>\n",
       "      <td>0</td>\n",
       "      <td>...</td>\n",
       "      <td>0</td>\n",
       "      <td>0</td>\n",
       "      <td>0</td>\n",
       "      <td>0</td>\n",
       "      <td>0</td>\n",
       "      <td>0</td>\n",
       "      <td>0</td>\n",
       "      <td>Popular</td>\n",
       "      <td>5250</td>\n",
       "      <td>288</td>\n",
       "    </tr>\n",
       "  </tbody>\n",
       "</table>\n",
       "<p>5 rows × 417 columns</p>\n",
       "</div>"
      ],
      "text/plain": [
       "   day_elapse  achievements  average_playtime  median_playtime     price  \\\n",
       "0   -7.584710     -0.128306          9.557829         0.072624  0.141186   \n",
       "1   -8.329745     -0.128306          0.069619        -0.035710 -0.265175   \n",
       "2   -6.414491     -0.128306          0.020358        -0.047606 -0.265175   \n",
       "3   -7.312387     -0.128306          0.059220         0.016120 -0.265175   \n",
       "4   -8.054853     -0.128306          0.259548         0.114258 -0.265175   \n",
       "\n",
       "   positive_percentage  english_0  english_1  required_age_0  required_age_3  \\\n",
       "0             1.110537          0          1               1               0   \n",
       "1             0.536451          0          1               1               0   \n",
       "2             0.775589          0          1               1               0   \n",
       "3             0.480095          0          1               1               0   \n",
       "4             0.999691          0          1               1               0   \n",
       "\n",
       "   ...  tag_Western  tag_Word Game  tag_World War I  tag_World War II  \\\n",
       "0  ...            0              0                0                 0   \n",
       "1  ...            0              0                0                 0   \n",
       "2  ...            0              0                0                 1   \n",
       "3  ...            0              0                0                 0   \n",
       "4  ...            0              0                0                 0   \n",
       "\n",
       "   tag_Wrestling  tag_Zombies  tag_e-sports  popularity  positive_ratings  \\\n",
       "0              0            0             0     Popular            124534   \n",
       "1              0            0             0     Popular              3318   \n",
       "2              0            0             0     Popular              3416   \n",
       "3              0            0             0     Popular              1273   \n",
       "4              0            0             0     Popular              5250   \n",
       "\n",
       "   negative_ratings  \n",
       "0              3339  \n",
       "1               633  \n",
       "2               398  \n",
       "3               267  \n",
       "4               288  \n",
       "\n",
       "[5 rows x 417 columns]"
      ]
     },
     "execution_count": 29,
     "metadata": {},
     "output_type": "execute_result"
    }
   ],
   "source": [
    "df = pd.read_csv('project_preprocess.csv')\n",
    "df.head()"
   ]
  },
  {
   "cell_type": "code",
   "execution_count": 30,
   "metadata": {},
   "outputs": [],
   "source": [
    "(df_train,df_test) = train_test_split(df,train_size=0.8,test_size=0.2,random_state=0)"
   ]
  },
  {
   "cell_type": "code",
   "execution_count": 31,
   "metadata": {},
   "outputs": [
    {
     "data": {
      "text/plain": [
       "3818"
      ]
     },
     "execution_count": 31,
     "metadata": {},
     "output_type": "execute_result"
    }
   ],
   "source": [
    "df_train['popularity'].value_counts()['Average']"
   ]
  },
  {
   "cell_type": "code",
   "execution_count": 32,
   "metadata": {},
   "outputs": [],
   "source": [
    "to_remove = df_train['popularity'].value_counts()['Low popularity'] - df_train['popularity'].value_counts()['Average']\n",
    "drops = []\n",
    "\n",
    "for index, row in df_train.iterrows():\n",
    "    if to_remove <=0:\n",
    "        break\n",
    "    if row['popularity'] == 'Low popularity':\n",
    "        drops.append(index)\n",
    "        to_remove -= 1"
   ]
  },
  {
   "cell_type": "code",
   "execution_count": 33,
   "metadata": {},
   "outputs": [
    {
     "data": {
      "text/plain": [
       "Average           3818\n",
       "Low popularity    3818\n",
       "Popular           2992\n",
       "Name: popularity, dtype: int64"
      ]
     },
     "execution_count": 33,
     "metadata": {},
     "output_type": "execute_result"
    }
   ],
   "source": [
    "df_train = df_train.drop(drops)\n",
    "df_train['popularity'].value_counts()"
   ]
  },
  {
   "cell_type": "code",
   "execution_count": 34,
   "metadata": {},
   "outputs": [],
   "source": [
    "X_train = df_train.drop('popularity', axis = 1).drop('positive_ratings', axis = 1)\n",
    "y_train = df_train['popularity']\n",
    "X_test = df_test.drop('popularity', axis = 1).drop('positive_ratings', axis = 1)\n",
    "y_test = df_test['popularity']"
   ]
  },
  {
   "cell_type": "code",
   "execution_count": 35,
   "metadata": {},
   "outputs": [
    {
     "data": {
      "text/html": [
       "<div>\n",
       "<style scoped>\n",
       "    .dataframe tbody tr th:only-of-type {\n",
       "        vertical-align: middle;\n",
       "    }\n",
       "\n",
       "    .dataframe tbody tr th {\n",
       "        vertical-align: top;\n",
       "    }\n",
       "\n",
       "    .dataframe thead th {\n",
       "        text-align: right;\n",
       "    }\n",
       "</style>\n",
       "<table border=\"1\" class=\"dataframe\">\n",
       "  <thead>\n",
       "    <tr style=\"text-align: right;\">\n",
       "      <th></th>\n",
       "      <th>day_elapse</th>\n",
       "      <th>achievements</th>\n",
       "      <th>average_playtime</th>\n",
       "      <th>median_playtime</th>\n",
       "      <th>price</th>\n",
       "      <th>positive_percentage</th>\n",
       "      <th>english_0</th>\n",
       "      <th>english_1</th>\n",
       "      <th>required_age_0</th>\n",
       "      <th>required_age_3</th>\n",
       "      <th>...</th>\n",
       "      <th>tag_Web Publishing</th>\n",
       "      <th>tag_Werewolves</th>\n",
       "      <th>tag_Western</th>\n",
       "      <th>tag_Word Game</th>\n",
       "      <th>tag_World War I</th>\n",
       "      <th>tag_World War II</th>\n",
       "      <th>tag_Wrestling</th>\n",
       "      <th>tag_Zombies</th>\n",
       "      <th>tag_e-sports</th>\n",
       "      <th>negative_ratings</th>\n",
       "    </tr>\n",
       "  </thead>\n",
       "  <tbody>\n",
       "    <tr>\n",
       "      <th>121</th>\n",
       "      <td>-4.734309</td>\n",
       "      <td>-0.046075</td>\n",
       "      <td>6.717113</td>\n",
       "      <td>0.734522</td>\n",
       "      <td>0.115788</td>\n",
       "      <td>1.037266</td>\n",
       "      <td>0</td>\n",
       "      <td>1</td>\n",
       "      <td>1</td>\n",
       "      <td>0</td>\n",
       "      <td>...</td>\n",
       "      <td>0</td>\n",
       "      <td>0</td>\n",
       "      <td>0</td>\n",
       "      <td>0</td>\n",
       "      <td>0</td>\n",
       "      <td>0</td>\n",
       "      <td>0</td>\n",
       "      <td>0</td>\n",
       "      <td>0</td>\n",
       "      <td>16433</td>\n",
       "    </tr>\n",
       "    <tr>\n",
       "      <th>2092</th>\n",
       "      <td>-0.992435</td>\n",
       "      <td>-0.077266</td>\n",
       "      <td>-0.081995</td>\n",
       "      <td>-0.062050</td>\n",
       "      <td>3.036506</td>\n",
       "      <td>-0.374186</td>\n",
       "      <td>0</td>\n",
       "      <td>1</td>\n",
       "      <td>1</td>\n",
       "      <td>0</td>\n",
       "      <td>...</td>\n",
       "      <td>0</td>\n",
       "      <td>0</td>\n",
       "      <td>0</td>\n",
       "      <td>0</td>\n",
       "      <td>0</td>\n",
       "      <td>0</td>\n",
       "      <td>0</td>\n",
       "      <td>0</td>\n",
       "      <td>0</td>\n",
       "      <td>135</td>\n",
       "    </tr>\n",
       "    <tr>\n",
       "      <th>20150</th>\n",
       "      <td>1.046134</td>\n",
       "      <td>-0.003541</td>\n",
       "      <td>0.669509</td>\n",
       "      <td>0.921451</td>\n",
       "      <td>3.671445</td>\n",
       "      <td>0.067336</td>\n",
       "      <td>0</td>\n",
       "      <td>1</td>\n",
       "      <td>1</td>\n",
       "      <td>0</td>\n",
       "      <td>...</td>\n",
       "      <td>0</td>\n",
       "      <td>0</td>\n",
       "      <td>0</td>\n",
       "      <td>0</td>\n",
       "      <td>0</td>\n",
       "      <td>0</td>\n",
       "      <td>0</td>\n",
       "      <td>0</td>\n",
       "      <td>0</td>\n",
       "      <td>978</td>\n",
       "    </tr>\n",
       "    <tr>\n",
       "      <th>5063</th>\n",
       "      <td>0.093003</td>\n",
       "      <td>-0.077266</td>\n",
       "      <td>0.076188</td>\n",
       "      <td>0.060728</td>\n",
       "      <td>-0.671536</td>\n",
       "      <td>0.436015</td>\n",
       "      <td>0</td>\n",
       "      <td>1</td>\n",
       "      <td>1</td>\n",
       "      <td>0</td>\n",
       "      <td>...</td>\n",
       "      <td>0</td>\n",
       "      <td>0</td>\n",
       "      <td>0</td>\n",
       "      <td>0</td>\n",
       "      <td>0</td>\n",
       "      <td>0</td>\n",
       "      <td>0</td>\n",
       "      <td>0</td>\n",
       "      <td>0</td>\n",
       "      <td>9</td>\n",
       "    </tr>\n",
       "    <tr>\n",
       "      <th>3818</th>\n",
       "      <td>-0.771494</td>\n",
       "      <td>-0.094279</td>\n",
       "      <td>-0.081995</td>\n",
       "      <td>-0.062050</td>\n",
       "      <td>0.115788</td>\n",
       "      <td>-0.248405</td>\n",
       "      <td>0</td>\n",
       "      <td>1</td>\n",
       "      <td>1</td>\n",
       "      <td>0</td>\n",
       "      <td>...</td>\n",
       "      <td>0</td>\n",
       "      <td>0</td>\n",
       "      <td>0</td>\n",
       "      <td>0</td>\n",
       "      <td>0</td>\n",
       "      <td>0</td>\n",
       "      <td>0</td>\n",
       "      <td>0</td>\n",
       "      <td>0</td>\n",
       "      <td>370</td>\n",
       "    </tr>\n",
       "  </tbody>\n",
       "</table>\n",
       "<p>5 rows × 415 columns</p>\n",
       "</div>"
      ],
      "text/plain": [
       "       day_elapse  achievements  average_playtime  median_playtime     price  \\\n",
       "121     -4.734309     -0.046075          6.717113         0.734522  0.115788   \n",
       "2092    -0.992435     -0.077266         -0.081995        -0.062050  3.036506   \n",
       "20150    1.046134     -0.003541          0.669509         0.921451  3.671445   \n",
       "5063     0.093003     -0.077266          0.076188         0.060728 -0.671536   \n",
       "3818    -0.771494     -0.094279         -0.081995        -0.062050  0.115788   \n",
       "\n",
       "       positive_percentage  english_0  english_1  required_age_0  \\\n",
       "121               1.037266          0          1               1   \n",
       "2092             -0.374186          0          1               1   \n",
       "20150             0.067336          0          1               1   \n",
       "5063              0.436015          0          1               1   \n",
       "3818             -0.248405          0          1               1   \n",
       "\n",
       "       required_age_3  ...  tag_Web Publishing  tag_Werewolves  tag_Western  \\\n",
       "121                 0  ...                   0               0            0   \n",
       "2092                0  ...                   0               0            0   \n",
       "20150               0  ...                   0               0            0   \n",
       "5063                0  ...                   0               0            0   \n",
       "3818                0  ...                   0               0            0   \n",
       "\n",
       "       tag_Word Game  tag_World War I  tag_World War II  tag_Wrestling  \\\n",
       "121                0                0                 0              0   \n",
       "2092               0                0                 0              0   \n",
       "20150              0                0                 0              0   \n",
       "5063               0                0                 0              0   \n",
       "3818               0                0                 0              0   \n",
       "\n",
       "       tag_Zombies  tag_e-sports  negative_ratings  \n",
       "121              0             0             16433  \n",
       "2092             0             0               135  \n",
       "20150            0             0               978  \n",
       "5063             0             0                 9  \n",
       "3818             0             0               370  \n",
       "\n",
       "[5 rows x 415 columns]"
      ]
     },
     "execution_count": 35,
     "metadata": {},
     "output_type": "execute_result"
    }
   ],
   "source": [
    "X_train.head()"
   ]
  },
  {
   "cell_type": "code",
   "execution_count": 36,
   "metadata": {},
   "outputs": [
    {
     "data": {
      "text/plain": [
       "121      Popular\n",
       "2092     Average\n",
       "20150    Popular\n",
       "5063     Average\n",
       "3818     Average\n",
       "Name: popularity, dtype: object"
      ]
     },
     "execution_count": 36,
     "metadata": {},
     "output_type": "execute_result"
    }
   ],
   "source": [
    "y_train.head()"
   ]
  },
  {
   "cell_type": "code",
   "execution_count": 37,
   "metadata": {},
   "outputs": [
    {
     "data": {
      "text/plain": [
       "GradientBoostingClassifier()"
      ]
     },
     "execution_count": 37,
     "metadata": {},
     "output_type": "execute_result"
    }
   ],
   "source": [
    "tr = GradientBoostingClassifier()\n",
    "tr.fit(X_train, y_train)"
   ]
  },
  {
   "cell_type": "code",
   "execution_count": 38,
   "metadata": {},
   "outputs": [
    {
     "data": {
      "text/plain": [
       "0.861"
      ]
     },
     "execution_count": 38,
     "metadata": {},
     "output_type": "execute_result"
    }
   ],
   "source": [
    "tr.score(X_test, y_test).round(3)"
   ]
  },
  {
   "cell_type": "markdown",
   "metadata": {},
   "source": [
    "Baseline was: 0.687"
   ]
  },
  {
   "cell_type": "code",
   "execution_count": 39,
   "metadata": {},
   "outputs": [
    {
     "data": {
      "text/plain": [
       "GridSearchCV(estimator=GradientBoostingClassifier(), n_jobs=-1,\n",
       "             param_grid={'learning_rate': [0.1, 0.05], 'max_depth': [1, 5, 10],\n",
       "                         'n_estimators': [10, 100, 200]},\n",
       "             return_train_score=True)"
      ]
     },
     "execution_count": 39,
     "metadata": {},
     "output_type": "execute_result"
    }
   ],
   "source": [
    "tr = GradientBoostingClassifier()\n",
    "grid = {'n_estimators':[10,100,200], 'max_depth' : [1,5,10], 'learning_rate':[.1,.05]}\n",
    "grid_search = GridSearchCV(tr, param_grid = grid, return_train_score = True, n_jobs=-1)\n",
    "\n",
    "grid_search.fit(X_train,y_train)"
   ]
  },
  {
   "cell_type": "code",
   "execution_count": 40,
   "metadata": {},
   "outputs": [
    {
     "name": "stdout",
     "output_type": "stream",
     "text": [
      "         best B = {'learning_rate': 0.1, 'max_depth': 10, 'n_estimators': 200}\n",
      "  validation R2 = 0.839\n"
     ]
    }
   ],
   "source": [
    "print('         best B =',grid_search.best_params_)\n",
    "print('  validation R2 =',grid_search.best_score_.round(3))"
   ]
  },
  {
   "cell_type": "code",
   "execution_count": 41,
   "metadata": {},
   "outputs": [
    {
     "data": {
      "text/plain": [
       "0.866"
      ]
     },
     "execution_count": 41,
     "metadata": {},
     "output_type": "execute_result"
    }
   ],
   "source": [
    "test_score = grid_search.best_estimator_.score(X_test, y_test).round(3)\n",
    "test_score"
   ]
  },
  {
   "cell_type": "markdown",
   "metadata": {},
   "source": [
    "Baseline was: 0.687"
   ]
  },
  {
   "cell_type": "code",
   "execution_count": 42,
   "metadata": {},
   "outputs": [],
   "source": [
    "from sklearn.metrics import confusion_matrix"
   ]
  },
  {
   "cell_type": "code",
   "execution_count": 43,
   "metadata": {},
   "outputs": [],
   "source": [
    "yh = grid_search.predict(X_test)"
   ]
  },
  {
   "cell_type": "code",
   "execution_count": 44,
   "metadata": {},
   "outputs": [
    {
     "data": {
      "text/html": [
       "<div>\n",
       "<style scoped>\n",
       "    .dataframe tbody tr th:only-of-type {\n",
       "        vertical-align: middle;\n",
       "    }\n",
       "\n",
       "    .dataframe tbody tr th {\n",
       "        vertical-align: top;\n",
       "    }\n",
       "\n",
       "    .dataframe thead th {\n",
       "        text-align: right;\n",
       "    }\n",
       "</style>\n",
       "<table border=\"1\" class=\"dataframe\">\n",
       "  <thead>\n",
       "    <tr style=\"text-align: right;\">\n",
       "      <th></th>\n",
       "      <th>Average</th>\n",
       "      <th>Low popularity</th>\n",
       "      <th>Popular</th>\n",
       "      <th>total</th>\n",
       "    </tr>\n",
       "  </thead>\n",
       "  <tbody>\n",
       "    <tr>\n",
       "      <th>Average</th>\n",
       "      <td>753</td>\n",
       "      <td>93</td>\n",
       "      <td>90</td>\n",
       "      <td>936</td>\n",
       "    </tr>\n",
       "    <tr>\n",
       "      <th>Low popularity</th>\n",
       "      <td>439</td>\n",
       "      <td>3305</td>\n",
       "      <td>2</td>\n",
       "      <td>3746</td>\n",
       "    </tr>\n",
       "    <tr>\n",
       "      <th>Popular</th>\n",
       "      <td>102</td>\n",
       "      <td>0</td>\n",
       "      <td>631</td>\n",
       "      <td>733</td>\n",
       "    </tr>\n",
       "  </tbody>\n",
       "</table>\n",
       "</div>"
      ],
      "text/plain": [
       "                Average  Low popularity  Popular  total\n",
       "Average             753              93       90    936\n",
       "Low popularity      439            3305        2   3746\n",
       "Popular             102               0      631    733"
      ]
     },
     "execution_count": 44,
     "metadata": {},
     "output_type": "execute_result"
    }
   ],
   "source": [
    "y = y_test.astype('category')\n",
    "cols = y.cat.categories\n",
    "M = confusion_matrix(y, yh)\n",
    "ConfusionMatrix = pd.DataFrame(M, index=cols, columns=cols)\n",
    "ConfusionMatrix['total'] = ConfusionMatrix.sum(axis=1)\n",
    "ConfusionMatrix"
   ]
  },
  {
   "cell_type": "markdown",
   "metadata": {},
   "source": [
    "This estimator is able to accurately predict Average!"
   ]
  },
  {
   "cell_type": "code",
   "execution_count": 66,
   "metadata": {},
   "outputs": [],
   "source": [
    "features_importance = pd.Series(grid_search.best_estimator_.feature_importances_,index=X_train.columns)"
   ]
  },
  {
   "cell_type": "code",
   "execution_count": 67,
   "metadata": {},
   "outputs": [],
   "source": [
    "import matplotlib.pyplot as plt"
   ]
  },
  {
   "cell_type": "code",
   "execution_count": 71,
   "metadata": {},
   "outputs": [
    {
     "data": {
      "text/plain": [
       "negative_ratings       0.506367\n",
       "day_elapse             0.089606\n",
       "positive_percentage    0.076427\n",
       "median_playtime        0.073050\n",
       "price                  0.051955\n",
       "                         ...   \n",
       "tag_Skating            0.000000\n",
       "tag_Moddable           0.000000\n",
       "tag_Motocross          0.000000\n",
       "Tutorial               0.000000\n",
       "tag_Blood              0.000000\n",
       "Length: 415, dtype: float64"
      ]
     },
     "execution_count": 71,
     "metadata": {},
     "output_type": "execute_result"
    }
   ],
   "source": [
    "features_importance.sort_values(ascending=False)"
   ]
  },
  {
   "cell_type": "code",
   "execution_count": 76,
   "metadata": {},
   "outputs": [
    {
     "data": {
      "text/plain": [
       "<AxesSubplot:>"
      ]
     },
     "execution_count": 76,
     "metadata": {},
     "output_type": "execute_result"
    },
    {
     "data": {
      "image/png": "[encoded data removed]",
      "text/plain": [
       "<Figure size 432x288 with 1 Axes>"
      ]
     },
     "metadata": {
      "needs_background": "light"
     },
     "output_type": "display_data"
    }
   ],
   "source": [
    "features_importance.sort_values(ascending=False).head(20).plot.barh(color='blue')"
   ]
  },
  {
   "cell_type": "code",
   "execution_count": null,
   "metadata": {},
   "outputs": [],
   "source": []
  }
 ],
 "metadata": {
  "kernelspec": {
   "display_name": "Python 3 (ipykernel)",
   "language": "python",
   "name": "python3"
  },
  "language_info": {
   "codemirror_mode": {
    "name": "ipython",
    "version": 3
   },
   "file_extension": ".py",
   "mimetype": "text/x-python",
   "name": "python",
   "nbconvert_exporter": "python",
   "pygments_lexer": "ipython3",
   "version": "3.9.12"
  }
 },
 "nbformat": 4,
 "nbformat_minor": 4
}
