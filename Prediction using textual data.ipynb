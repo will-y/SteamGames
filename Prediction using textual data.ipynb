{
 "cells": [
  {
   "cell_type": "markdown",
   "id": "b6c6dd3a",
   "metadata": {},
   "source": [
    "# Prediction of game popularity using texual data"
   ]
  },
  {
   "cell_type": "code",
   "execution_count": 12,
   "id": "2b71d89b",
   "metadata": {},
   "outputs": [
    {
     "ename": "ModuleNotFoundError",
     "evalue": "No module named 'graphviz'",
     "output_type": "error",
     "traceback": [
      "\u001b[0;31m---------------------------------------------------------------------------\u001b[0m",
      "\u001b[0;31mModuleNotFoundError\u001b[0m                       Traceback (most recent call last)",
      "\u001b[0;32m/tmp/ipykernel_2979752/651089797.py\u001b[0m in \u001b[0;36m<module>\u001b[0;34m\u001b[0m\n\u001b[0;32m----> 1\u001b[0;31m \u001b[0;32mimport\u001b[0m \u001b[0mgraphviz\u001b[0m\u001b[0;34m\u001b[0m\u001b[0;34m\u001b[0m\u001b[0m\n\u001b[0m",
      "\u001b[0;31mModuleNotFoundError\u001b[0m: No module named 'graphviz'"
     ]
    }
   ],
   "source": [
    "import graphviz"
   ]
  },
  {
   "cell_type": "code",
   "execution_count": 13,
   "id": "2fb1837b",
   "metadata": {},
   "outputs": [],
   "source": [
    "import pandas as pd\n",
    "import os\n",
    "import pandas as pd\n",
    "import numpy as np\n",
    "from sklearn.model_selection import train_test_split\n",
    "from sklearn.model_selection import GridSearchCV\n",
    "from sklearn.neighbors import KNeighborsClassifier\n",
    "from sklearn.tree import DecisionTreeClassifier, export_graphviz\n",
    "from sklearn.svm import SVC\n",
    "from sklearn.metrics import confusion_matrix\n",
    "\n",
    "from sklearn.ensemble import RandomForestClassifier, GradientBoostingClassifier"
   ]
  },
  {
   "cell_type": "code",
   "execution_count": 14,
   "id": "41862bf6",
   "metadata": {},
   "outputs": [],
   "source": [
    "def mergeSteamAndSteamDescription(steamDescriptions, descriptions, steam):\n",
    "    descriptions[\"steam_appid\"]=steamDescriptions[\"steam_appid\"]\n",
    "    df=pd.merge(steam,descriptions,left_on=\"appid\", right_on=\"steam_appid\")\n",
    "    print(df.columns)\n",
    "    res=df.iloc[:,20:-1]\n",
    "#     res[\"Popularity\"]=df;;[\"Popularity\"]\n",
    "    #y=X.iloc[:,-1]\n",
    "    return res"
   ]
  },
  {
   "cell_type": "code",
   "execution_count": 79,
   "id": "aab9cd38",
   "metadata": {},
   "outputs": [
    {
     "data": {
      "text/html": [
       "<div>\n",
       "<style scoped>\n",
       "    .dataframe tbody tr th:only-of-type {\n",
       "        vertical-align: middle;\n",
       "    }\n",
       "\n",
       "    .dataframe tbody tr th {\n",
       "        vertical-align: top;\n",
       "    }\n",
       "\n",
       "    .dataframe thead th {\n",
       "        text-align: right;\n",
       "    }\n",
       "</style>\n",
       "<table border=\"1\" class=\"dataframe\">\n",
       "  <thead>\n",
       "    <tr style=\"text-align: right;\">\n",
       "      <th></th>\n",
       "      <th>action</th>\n",
       "      <th>adventure</th>\n",
       "      <th>available</th>\n",
       "      <th>based</th>\n",
       "      <th>battle</th>\n",
       "      <th>best</th>\n",
       "      <th>build</th>\n",
       "      <th>challenge</th>\n",
       "      <th>challenging</th>\n",
       "      <th>character</th>\n",
       "      <th>...</th>\n",
       "      <th>try</th>\n",
       "      <th>unique</th>\n",
       "      <th>unlock</th>\n",
       "      <th>use</th>\n",
       "      <th>using</th>\n",
       "      <th>various</th>\n",
       "      <th>want</th>\n",
       "      <th>way</th>\n",
       "      <th>weapons</th>\n",
       "      <th>world</th>\n",
       "    </tr>\n",
       "  </thead>\n",
       "  <tbody>\n",
       "    <tr>\n",
       "      <th>0</th>\n",
       "      <td>0.225381</td>\n",
       "      <td>0.0</td>\n",
       "      <td>0.0</td>\n",
       "      <td>0.224651</td>\n",
       "      <td>0.0</td>\n",
       "      <td>0.0</td>\n",
       "      <td>0.0</td>\n",
       "      <td>0.0</td>\n",
       "      <td>0.0</td>\n",
       "      <td>0.000000</td>\n",
       "      <td>...</td>\n",
       "      <td>0.0</td>\n",
       "      <td>0.000000</td>\n",
       "      <td>0.0</td>\n",
       "      <td>0.0</td>\n",
       "      <td>0.0</td>\n",
       "      <td>0.0</td>\n",
       "      <td>0.0</td>\n",
       "      <td>0.0</td>\n",
       "      <td>0.000000</td>\n",
       "      <td>0.163636</td>\n",
       "    </tr>\n",
       "    <tr>\n",
       "      <th>1</th>\n",
       "      <td>0.204416</td>\n",
       "      <td>0.0</td>\n",
       "      <td>0.0</td>\n",
       "      <td>0.000000</td>\n",
       "      <td>0.0</td>\n",
       "      <td>0.0</td>\n",
       "      <td>0.0</td>\n",
       "      <td>0.0</td>\n",
       "      <td>0.0</td>\n",
       "      <td>0.458153</td>\n",
       "      <td>...</td>\n",
       "      <td>0.0</td>\n",
       "      <td>0.346357</td>\n",
       "      <td>0.0</td>\n",
       "      <td>0.0</td>\n",
       "      <td>0.0</td>\n",
       "      <td>0.0</td>\n",
       "      <td>0.0</td>\n",
       "      <td>0.0</td>\n",
       "      <td>0.210029</td>\n",
       "      <td>0.000000</td>\n",
       "    </tr>\n",
       "    <tr>\n",
       "      <th>2</th>\n",
       "      <td>0.000000</td>\n",
       "      <td>0.0</td>\n",
       "      <td>0.0</td>\n",
       "      <td>0.369677</td>\n",
       "      <td>0.0</td>\n",
       "      <td>0.0</td>\n",
       "      <td>0.0</td>\n",
       "      <td>0.0</td>\n",
       "      <td>0.0</td>\n",
       "      <td>0.000000</td>\n",
       "      <td>...</td>\n",
       "      <td>0.0</td>\n",
       "      <td>0.314201</td>\n",
       "      <td>0.0</td>\n",
       "      <td>0.0</td>\n",
       "      <td>0.0</td>\n",
       "      <td>0.0</td>\n",
       "      <td>0.0</td>\n",
       "      <td>0.0</td>\n",
       "      <td>0.000000</td>\n",
       "      <td>0.000000</td>\n",
       "    </tr>\n",
       "    <tr>\n",
       "      <th>3</th>\n",
       "      <td>0.000000</td>\n",
       "      <td>0.0</td>\n",
       "      <td>0.0</td>\n",
       "      <td>0.000000</td>\n",
       "      <td>0.0</td>\n",
       "      <td>0.0</td>\n",
       "      <td>0.0</td>\n",
       "      <td>0.0</td>\n",
       "      <td>0.0</td>\n",
       "      <td>0.000000</td>\n",
       "      <td>...</td>\n",
       "      <td>0.0</td>\n",
       "      <td>0.000000</td>\n",
       "      <td>0.0</td>\n",
       "      <td>0.0</td>\n",
       "      <td>0.0</td>\n",
       "      <td>0.0</td>\n",
       "      <td>0.0</td>\n",
       "      <td>0.0</td>\n",
       "      <td>0.000000</td>\n",
       "      <td>0.000000</td>\n",
       "    </tr>\n",
       "    <tr>\n",
       "      <th>4</th>\n",
       "      <td>0.395474</td>\n",
       "      <td>0.0</td>\n",
       "      <td>0.0</td>\n",
       "      <td>0.000000</td>\n",
       "      <td>0.0</td>\n",
       "      <td>0.0</td>\n",
       "      <td>0.0</td>\n",
       "      <td>0.0</td>\n",
       "      <td>0.0</td>\n",
       "      <td>0.000000</td>\n",
       "      <td>...</td>\n",
       "      <td>0.0</td>\n",
       "      <td>0.000000</td>\n",
       "      <td>0.0</td>\n",
       "      <td>0.0</td>\n",
       "      <td>0.0</td>\n",
       "      <td>0.0</td>\n",
       "      <td>0.0</td>\n",
       "      <td>0.0</td>\n",
       "      <td>0.000000</td>\n",
       "      <td>0.000000</td>\n",
       "    </tr>\n",
       "  </tbody>\n",
       "</table>\n",
       "<p>5 rows × 89 columns</p>\n",
       "</div>"
      ],
      "text/plain": [
       "     action  adventure  available     based  battle  best  build  challenge  \\\n",
       "0  0.225381        0.0        0.0  0.224651     0.0   0.0    0.0        0.0   \n",
       "1  0.204416        0.0        0.0  0.000000     0.0   0.0    0.0        0.0   \n",
       "2  0.000000        0.0        0.0  0.369677     0.0   0.0    0.0        0.0   \n",
       "3  0.000000        0.0        0.0  0.000000     0.0   0.0    0.0        0.0   \n",
       "4  0.395474        0.0        0.0  0.000000     0.0   0.0    0.0        0.0   \n",
       "\n",
       "   challenging  character  ...  try    unique  unlock  use  using  various  \\\n",
       "0          0.0   0.000000  ...  0.0  0.000000     0.0  0.0    0.0      0.0   \n",
       "1          0.0   0.458153  ...  0.0  0.346357     0.0  0.0    0.0      0.0   \n",
       "2          0.0   0.000000  ...  0.0  0.314201     0.0  0.0    0.0      0.0   \n",
       "3          0.0   0.000000  ...  0.0  0.000000     0.0  0.0    0.0      0.0   \n",
       "4          0.0   0.000000  ...  0.0  0.000000     0.0  0.0    0.0      0.0   \n",
       "\n",
       "   want  way   weapons     world  \n",
       "0   0.0  0.0  0.000000  0.163636  \n",
       "1   0.0  0.0  0.210029  0.000000  \n",
       "2   0.0  0.0  0.000000  0.000000  \n",
       "3   0.0  0.0  0.000000  0.000000  \n",
       "4   0.0  0.0  0.000000  0.000000  \n",
       "\n",
       "[5 rows x 89 columns]"
      ]
     },
     "execution_count": 79,
     "metadata": {},
     "output_type": "execute_result"
    }
   ],
   "source": [
    "steam=pd.read_csv(\"preprocess_project.csv\")\n",
    "originalSteam=pd.read_csv(\"steam.csv\")\n",
    "steamDescriptions=pd.read_csv(\"steam_description_data.csv\")\n",
    "TFIDFDescriptions=pd.read_csv(\"TFIDFDescriptions.csv\")\n",
    "\n",
    "BOWDescriptions=pd.read_csv(\"BOWDescriptions.csv\")\n",
    "\n",
    "steam.head()\n",
    "TFIDFDescriptions.head()"
   ]
  },
  {
   "cell_type": "code",
   "execution_count": 80,
   "id": "c33f206c",
   "metadata": {},
   "outputs": [
    {
     "name": "stdout",
     "output_type": "stream",
     "text": [
      "Index(['appid', 'name', 'release_date', 'english', 'developer', 'publisher',\n",
      "       'platforms', 'required_age', 'categories', 'genres',\n",
      "       ...\n",
      "       'unique', 'unlock', 'use', 'using', 'various', 'want', 'way', 'weapons',\n",
      "       'world', 'steam_appid'],\n",
      "      dtype='object', length=108)\n"
     ]
    },
    {
     "data": {
      "text/html": [
       "<div>\n",
       "<style scoped>\n",
       "    .dataframe tbody tr th:only-of-type {\n",
       "        vertical-align: middle;\n",
       "    }\n",
       "\n",
       "    .dataframe tbody tr th {\n",
       "        vertical-align: top;\n",
       "    }\n",
       "\n",
       "    .dataframe thead th {\n",
       "        text-align: right;\n",
       "    }\n",
       "</style>\n",
       "<table border=\"1\" class=\"dataframe\">\n",
       "  <thead>\n",
       "    <tr style=\"text-align: right;\">\n",
       "      <th></th>\n",
       "      <th>available</th>\n",
       "      <th>based</th>\n",
       "      <th>battle</th>\n",
       "      <th>best</th>\n",
       "      <th>build</th>\n",
       "      <th>challenge</th>\n",
       "      <th>challenging</th>\n",
       "      <th>character</th>\n",
       "      <th>characters</th>\n",
       "      <th>choose</th>\n",
       "      <th>...</th>\n",
       "      <th>unique</th>\n",
       "      <th>unlock</th>\n",
       "      <th>use</th>\n",
       "      <th>using</th>\n",
       "      <th>various</th>\n",
       "      <th>want</th>\n",
       "      <th>way</th>\n",
       "      <th>weapons</th>\n",
       "      <th>world</th>\n",
       "      <th>popularity</th>\n",
       "    </tr>\n",
       "  </thead>\n",
       "  <tbody>\n",
       "    <tr>\n",
       "      <th>0</th>\n",
       "      <td>0.0</td>\n",
       "      <td>0.224651</td>\n",
       "      <td>0.0</td>\n",
       "      <td>0.0</td>\n",
       "      <td>0.0</td>\n",
       "      <td>0.0</td>\n",
       "      <td>0.0</td>\n",
       "      <td>0.000000</td>\n",
       "      <td>0.0</td>\n",
       "      <td>0.0</td>\n",
       "      <td>...</td>\n",
       "      <td>0.000000</td>\n",
       "      <td>0.0</td>\n",
       "      <td>0.0</td>\n",
       "      <td>0.0</td>\n",
       "      <td>0.0</td>\n",
       "      <td>0.0</td>\n",
       "      <td>0.0</td>\n",
       "      <td>0.000000</td>\n",
       "      <td>0.163636</td>\n",
       "      <td>Popular</td>\n",
       "    </tr>\n",
       "    <tr>\n",
       "      <th>1</th>\n",
       "      <td>0.0</td>\n",
       "      <td>0.000000</td>\n",
       "      <td>0.0</td>\n",
       "      <td>0.0</td>\n",
       "      <td>0.0</td>\n",
       "      <td>0.0</td>\n",
       "      <td>0.0</td>\n",
       "      <td>0.458153</td>\n",
       "      <td>0.0</td>\n",
       "      <td>0.0</td>\n",
       "      <td>...</td>\n",
       "      <td>0.346357</td>\n",
       "      <td>0.0</td>\n",
       "      <td>0.0</td>\n",
       "      <td>0.0</td>\n",
       "      <td>0.0</td>\n",
       "      <td>0.0</td>\n",
       "      <td>0.0</td>\n",
       "      <td>0.210029</td>\n",
       "      <td>0.000000</td>\n",
       "      <td>Popular</td>\n",
       "    </tr>\n",
       "    <tr>\n",
       "      <th>2</th>\n",
       "      <td>0.0</td>\n",
       "      <td>0.369677</td>\n",
       "      <td>0.0</td>\n",
       "      <td>0.0</td>\n",
       "      <td>0.0</td>\n",
       "      <td>0.0</td>\n",
       "      <td>0.0</td>\n",
       "      <td>0.000000</td>\n",
       "      <td>0.0</td>\n",
       "      <td>0.0</td>\n",
       "      <td>...</td>\n",
       "      <td>0.314201</td>\n",
       "      <td>0.0</td>\n",
       "      <td>0.0</td>\n",
       "      <td>0.0</td>\n",
       "      <td>0.0</td>\n",
       "      <td>0.0</td>\n",
       "      <td>0.0</td>\n",
       "      <td>0.000000</td>\n",
       "      <td>0.000000</td>\n",
       "      <td>Popular</td>\n",
       "    </tr>\n",
       "    <tr>\n",
       "      <th>3</th>\n",
       "      <td>0.0</td>\n",
       "      <td>0.000000</td>\n",
       "      <td>0.0</td>\n",
       "      <td>0.0</td>\n",
       "      <td>0.0</td>\n",
       "      <td>0.0</td>\n",
       "      <td>0.0</td>\n",
       "      <td>0.000000</td>\n",
       "      <td>0.0</td>\n",
       "      <td>0.0</td>\n",
       "      <td>...</td>\n",
       "      <td>0.000000</td>\n",
       "      <td>0.0</td>\n",
       "      <td>0.0</td>\n",
       "      <td>0.0</td>\n",
       "      <td>0.0</td>\n",
       "      <td>0.0</td>\n",
       "      <td>0.0</td>\n",
       "      <td>0.000000</td>\n",
       "      <td>0.000000</td>\n",
       "      <td>Popular</td>\n",
       "    </tr>\n",
       "    <tr>\n",
       "      <th>4</th>\n",
       "      <td>0.0</td>\n",
       "      <td>0.000000</td>\n",
       "      <td>0.0</td>\n",
       "      <td>0.0</td>\n",
       "      <td>0.0</td>\n",
       "      <td>0.0</td>\n",
       "      <td>0.0</td>\n",
       "      <td>0.000000</td>\n",
       "      <td>0.0</td>\n",
       "      <td>0.0</td>\n",
       "      <td>...</td>\n",
       "      <td>0.000000</td>\n",
       "      <td>0.0</td>\n",
       "      <td>0.0</td>\n",
       "      <td>0.0</td>\n",
       "      <td>0.0</td>\n",
       "      <td>0.0</td>\n",
       "      <td>0.0</td>\n",
       "      <td>0.000000</td>\n",
       "      <td>0.000000</td>\n",
       "      <td>Popular</td>\n",
       "    </tr>\n",
       "  </tbody>\n",
       "</table>\n",
       "<p>5 rows × 88 columns</p>\n",
       "</div>"
      ],
      "text/plain": [
       "   available     based  battle  best  build  challenge  challenging  \\\n",
       "0        0.0  0.224651     0.0   0.0    0.0        0.0          0.0   \n",
       "1        0.0  0.000000     0.0   0.0    0.0        0.0          0.0   \n",
       "2        0.0  0.369677     0.0   0.0    0.0        0.0          0.0   \n",
       "3        0.0  0.000000     0.0   0.0    0.0        0.0          0.0   \n",
       "4        0.0  0.000000     0.0   0.0    0.0        0.0          0.0   \n",
       "\n",
       "   character  characters  choose  ...    unique  unlock  use  using  various  \\\n",
       "0   0.000000         0.0     0.0  ...  0.000000     0.0  0.0    0.0      0.0   \n",
       "1   0.458153         0.0     0.0  ...  0.346357     0.0  0.0    0.0      0.0   \n",
       "2   0.000000         0.0     0.0  ...  0.314201     0.0  0.0    0.0      0.0   \n",
       "3   0.000000         0.0     0.0  ...  0.000000     0.0  0.0    0.0      0.0   \n",
       "4   0.000000         0.0     0.0  ...  0.000000     0.0  0.0    0.0      0.0   \n",
       "\n",
       "   want  way   weapons     world  popularity  \n",
       "0   0.0  0.0  0.000000  0.163636     Popular  \n",
       "1   0.0  0.0  0.210029  0.000000     Popular  \n",
       "2   0.0  0.0  0.000000  0.000000     Popular  \n",
       "3   0.0  0.0  0.000000  0.000000     Popular  \n",
       "4   0.0  0.0  0.000000  0.000000     Popular  \n",
       "\n",
       "[5 rows x 88 columns]"
      ]
     },
     "execution_count": 80,
     "metadata": {},
     "output_type": "execute_result"
    }
   ],
   "source": [
    "res=mergeSteamAndSteamDescription(steamDescriptions,TFIDFDescriptions , originalSteam)\n",
    "res[\"popularity\"] = steam[\"popularity\"]\n",
    "res.head()\n",
    "\n"
   ]
  },
  {
   "cell_type": "code",
   "execution_count": 96,
   "id": "227edc85",
   "metadata": {},
   "outputs": [
    {
     "name": "stdout",
     "output_type": "stream",
     "text": [
      "Index(['appid', 'name', 'release_date', 'english', 'developer', 'publisher',\n",
      "       'platforms', 'required_age', 'categories', 'genres',\n",
      "       ...\n",
      "       'unique', 'unlock', 'use', 'using', 'various', 'want', 'way', 'weapons',\n",
      "       'world', 'steam_appid'],\n",
      "      dtype='object', length=108)\n"
     ]
    },
    {
     "data": {
      "text/html": [
       "<div>\n",
       "<style scoped>\n",
       "    .dataframe tbody tr th:only-of-type {\n",
       "        vertical-align: middle;\n",
       "    }\n",
       "\n",
       "    .dataframe tbody tr th {\n",
       "        vertical-align: top;\n",
       "    }\n",
       "\n",
       "    .dataframe thead th {\n",
       "        text-align: right;\n",
       "    }\n",
       "</style>\n",
       "<table border=\"1\" class=\"dataframe\">\n",
       "  <thead>\n",
       "    <tr style=\"text-align: right;\">\n",
       "      <th></th>\n",
       "      <th>available</th>\n",
       "      <th>based</th>\n",
       "      <th>battle</th>\n",
       "      <th>best</th>\n",
       "      <th>build</th>\n",
       "      <th>challenge</th>\n",
       "      <th>challenging</th>\n",
       "      <th>character</th>\n",
       "      <th>characters</th>\n",
       "      <th>choose</th>\n",
       "      <th>...</th>\n",
       "      <th>unique</th>\n",
       "      <th>unlock</th>\n",
       "      <th>use</th>\n",
       "      <th>using</th>\n",
       "      <th>various</th>\n",
       "      <th>want</th>\n",
       "      <th>way</th>\n",
       "      <th>weapons</th>\n",
       "      <th>world</th>\n",
       "      <th>popularity</th>\n",
       "    </tr>\n",
       "  </thead>\n",
       "  <tbody>\n",
       "    <tr>\n",
       "      <th>0</th>\n",
       "      <td>0</td>\n",
       "      <td>1</td>\n",
       "      <td>0</td>\n",
       "      <td>0</td>\n",
       "      <td>0</td>\n",
       "      <td>0</td>\n",
       "      <td>0</td>\n",
       "      <td>0</td>\n",
       "      <td>0</td>\n",
       "      <td>0</td>\n",
       "      <td>...</td>\n",
       "      <td>0</td>\n",
       "      <td>0</td>\n",
       "      <td>0</td>\n",
       "      <td>0</td>\n",
       "      <td>0</td>\n",
       "      <td>0</td>\n",
       "      <td>0</td>\n",
       "      <td>0</td>\n",
       "      <td>1</td>\n",
       "      <td>Popular</td>\n",
       "    </tr>\n",
       "    <tr>\n",
       "      <th>1</th>\n",
       "      <td>0</td>\n",
       "      <td>0</td>\n",
       "      <td>0</td>\n",
       "      <td>0</td>\n",
       "      <td>0</td>\n",
       "      <td>0</td>\n",
       "      <td>0</td>\n",
       "      <td>2</td>\n",
       "      <td>0</td>\n",
       "      <td>0</td>\n",
       "      <td>...</td>\n",
       "      <td>2</td>\n",
       "      <td>0</td>\n",
       "      <td>0</td>\n",
       "      <td>0</td>\n",
       "      <td>0</td>\n",
       "      <td>0</td>\n",
       "      <td>0</td>\n",
       "      <td>1</td>\n",
       "      <td>0</td>\n",
       "      <td>Popular</td>\n",
       "    </tr>\n",
       "    <tr>\n",
       "      <th>2</th>\n",
       "      <td>0</td>\n",
       "      <td>1</td>\n",
       "      <td>0</td>\n",
       "      <td>0</td>\n",
       "      <td>0</td>\n",
       "      <td>0</td>\n",
       "      <td>0</td>\n",
       "      <td>0</td>\n",
       "      <td>0</td>\n",
       "      <td>0</td>\n",
       "      <td>...</td>\n",
       "      <td>1</td>\n",
       "      <td>0</td>\n",
       "      <td>0</td>\n",
       "      <td>0</td>\n",
       "      <td>0</td>\n",
       "      <td>0</td>\n",
       "      <td>0</td>\n",
       "      <td>0</td>\n",
       "      <td>0</td>\n",
       "      <td>Popular</td>\n",
       "    </tr>\n",
       "    <tr>\n",
       "      <th>3</th>\n",
       "      <td>0</td>\n",
       "      <td>0</td>\n",
       "      <td>0</td>\n",
       "      <td>0</td>\n",
       "      <td>0</td>\n",
       "      <td>0</td>\n",
       "      <td>0</td>\n",
       "      <td>0</td>\n",
       "      <td>0</td>\n",
       "      <td>0</td>\n",
       "      <td>...</td>\n",
       "      <td>0</td>\n",
       "      <td>0</td>\n",
       "      <td>0</td>\n",
       "      <td>0</td>\n",
       "      <td>0</td>\n",
       "      <td>0</td>\n",
       "      <td>0</td>\n",
       "      <td>0</td>\n",
       "      <td>0</td>\n",
       "      <td>Popular</td>\n",
       "    </tr>\n",
       "    <tr>\n",
       "      <th>4</th>\n",
       "      <td>0</td>\n",
       "      <td>0</td>\n",
       "      <td>0</td>\n",
       "      <td>0</td>\n",
       "      <td>0</td>\n",
       "      <td>0</td>\n",
       "      <td>0</td>\n",
       "      <td>0</td>\n",
       "      <td>0</td>\n",
       "      <td>0</td>\n",
       "      <td>...</td>\n",
       "      <td>0</td>\n",
       "      <td>0</td>\n",
       "      <td>0</td>\n",
       "      <td>0</td>\n",
       "      <td>0</td>\n",
       "      <td>0</td>\n",
       "      <td>0</td>\n",
       "      <td>0</td>\n",
       "      <td>0</td>\n",
       "      <td>Popular</td>\n",
       "    </tr>\n",
       "  </tbody>\n",
       "</table>\n",
       "<p>5 rows × 88 columns</p>\n",
       "</div>"
      ],
      "text/plain": [
       "   available  based  battle  best  build  challenge  challenging  character  \\\n",
       "0          0      1       0     0      0          0            0          0   \n",
       "1          0      0       0     0      0          0            0          2   \n",
       "2          0      1       0     0      0          0            0          0   \n",
       "3          0      0       0     0      0          0            0          0   \n",
       "4          0      0       0     0      0          0            0          0   \n",
       "\n",
       "   characters  choose  ...  unique  unlock  use  using  various  want  way  \\\n",
       "0           0       0  ...       0       0    0      0        0     0    0   \n",
       "1           0       0  ...       2       0    0      0        0     0    0   \n",
       "2           0       0  ...       1       0    0      0        0     0    0   \n",
       "3           0       0  ...       0       0    0      0        0     0    0   \n",
       "4           0       0  ...       0       0    0      0        0     0    0   \n",
       "\n",
       "   weapons  world  popularity  \n",
       "0        0      1     Popular  \n",
       "1        1      0     Popular  \n",
       "2        0      0     Popular  \n",
       "3        0      0     Popular  \n",
       "4        0      0     Popular  \n",
       "\n",
       "[5 rows x 88 columns]"
      ]
     },
     "execution_count": 96,
     "metadata": {},
     "output_type": "execute_result"
    }
   ],
   "source": [
    "dfBow=mergeSteamAndSteamDescription(steamDescriptions,BOWDescriptions , originalSteam)\n",
    "dfBow[\"popularity\"] = steam[\"popularity\"]\n",
    "dfBow.head()"
   ]
  },
  {
   "cell_type": "markdown",
   "id": "f4c9938c",
   "metadata": {},
   "source": [
    "## Train Test Split"
   ]
  },
  {
   "cell_type": "code",
   "execution_count": 82,
   "id": "abc8a4fe",
   "metadata": {},
   "outputs": [],
   "source": [
    "(df_train, df_test) = train_test_split(res, random_state=0)\n",
    "X_train = df_train.drop(\"popularity\", axis=1)\n",
    "X_test = df_test.drop(\"popularity\", axis=1)\n",
    "y_train = df_train.popularity\n",
    "y_test = df_test.popularity"
   ]
  },
  {
   "cell_type": "code",
   "execution_count": 110,
   "id": "319f4156",
   "metadata": {},
   "outputs": [],
   "source": [
    "(bow_train, bow_test) = train_test_split(dfBow , random_state=0)\n",
    "Xb_train = bow_train.drop(\"popularity\", axis=1)\n",
    "Xb_test = bow_test.drop(\"popularity\", axis=1)\n",
    "yb_train = bow_train.popularity\n",
    "yb_test = bow_test.popularity"
   ]
  },
  {
   "cell_type": "markdown",
   "id": "98c22ea4",
   "metadata": {},
   "source": [
    "## Decision Tree"
   ]
  },
  {
   "cell_type": "code",
   "execution_count": null,
   "id": "31549895",
   "metadata": {},
   "outputs": [],
   "source": []
  },
  {
   "cell_type": "code",
   "execution_count": 83,
   "id": "4c461edd",
   "metadata": {},
   "outputs": [],
   "source": [
    "grid = {'max_depth': np.arange(1,15)}"
   ]
  },
  {
   "cell_type": "code",
   "execution_count": 84,
   "id": "428ce844",
   "metadata": {},
   "outputs": [
    {
     "data": {
      "text/plain": [
       "GridSearchCV(estimator=DecisionTreeClassifier(), n_jobs=-1,\n",
       "             param_grid={'max_depth': array([ 1,  2,  3,  4,  5,  6,  7,  8,  9, 10, 11, 12, 13, 14])},\n",
       "             return_train_score=True)"
      ]
     },
     "execution_count": 84,
     "metadata": {},
     "output_type": "execute_result"
    }
   ],
   "source": [
    "dt = DecisionTreeClassifier()\n",
    "dtCV = GridSearchCV(dt, param_grid=grid, return_train_score=True, n_jobs=-1)\n",
    "dtCV.fit(X_train, y_train)"
   ]
  },
  {
   "cell_type": "code",
   "execution_count": 85,
   "id": "5c46ef49",
   "metadata": {},
   "outputs": [
    {
     "data": {
      "text/plain": [
       "0.6892050828508767"
      ]
     },
     "execution_count": 85,
     "metadata": {},
     "output_type": "execute_result"
    }
   ],
   "source": [
    "dtCV.best_score_"
   ]
  },
  {
   "cell_type": "code",
   "execution_count": 86,
   "id": "7ad4840c-697c-43d8-bc43-ea14397990c6",
   "metadata": {},
   "outputs": [
    {
     "data": {
      "text/plain": [
       "0.6910917417639237"
      ]
     },
     "execution_count": 86,
     "metadata": {},
     "output_type": "execute_result"
    }
   ],
   "source": [
    "tree=dtCV.best_estimator_\n",
    "tree.score(X_test, y_test)"
   ]
  },
  {
   "cell_type": "code",
   "execution_count": 87,
   "id": "96702813",
   "metadata": {},
   "outputs": [
    {
     "data": {
      "text/plain": [
       "{'max_depth': 3}"
      ]
     },
     "execution_count": 87,
     "metadata": {},
     "output_type": "execute_result"
    }
   ],
   "source": [
    "dtCV.best_params_"
   ]
  },
  {
   "cell_type": "code",
   "execution_count": 89,
   "id": "70c716e8",
   "metadata": {},
   "outputs": [
    {
     "ename": "NameError",
     "evalue": "name 'graphviz' is not defined",
     "output_type": "error",
     "traceback": [
      "\u001b[0;31m---------------------------------------------------------------------------\u001b[0m",
      "\u001b[0;31mNameError\u001b[0m                                 Traceback (most recent call last)",
      "\u001b[0;32m/tmp/ipykernel_2979752/735018379.py\u001b[0m in \u001b[0;36m<module>\u001b[0;34m\u001b[0m\n\u001b[1;32m      6\u001b[0m                            \u001b[0mfilled\u001b[0m\u001b[0;34m=\u001b[0m\u001b[0;32mTrue\u001b[0m\u001b[0;34m,\u001b[0m\u001b[0;34m\u001b[0m\u001b[0;34m\u001b[0m\u001b[0m\n\u001b[1;32m      7\u001b[0m                            rounded=True)\n\u001b[0;32m----> 8\u001b[0;31m \u001b[0mgraph\u001b[0m\u001b[0;34m=\u001b[0m\u001b[0mgraphviz\u001b[0m\u001b[0;34m.\u001b[0m\u001b[0mSource\u001b[0m\u001b[0;34m(\u001b[0m\u001b[0mdot_data\u001b[0m\u001b[0;34m)\u001b[0m\u001b[0;34m\u001b[0m\u001b[0;34m\u001b[0m\u001b[0m\n\u001b[0m\u001b[1;32m      9\u001b[0m \u001b[0mgraph\u001b[0m\u001b[0;34m.\u001b[0m\u001b[0mrender\u001b[0m\u001b[0;34m(\u001b[0m\u001b[0;34m'WordTree'\u001b[0m\u001b[0;34m)\u001b[0m\u001b[0;34m\u001b[0m\u001b[0;34m\u001b[0m\u001b[0m\n\u001b[1;32m     10\u001b[0m \u001b[0mgraph\u001b[0m\u001b[0;34m\u001b[0m\u001b[0;34m\u001b[0m\u001b[0m\n",
      "\u001b[0;31mNameError\u001b[0m: name 'graphviz' is not defined"
     ]
    }
   ],
   "source": [
    "\n",
    "dot_data = export_graphviz(tree,\n",
    "                           out_file=None,\n",
    "                           feature_names=X_train.columns,\n",
    "                           proportion=True,\n",
    "                           impurity=True,\n",
    "                           filled=True,\n",
    "                           rounded=True)\n",
    "graph=graphviz.Source(dot_data)\n",
    "graph.render('WordTree')\n",
    "graph"
   ]
  },
  {
   "cell_type": "code",
   "execution_count": null,
   "id": "1f4915a0",
   "metadata": {},
   "outputs": [],
   "source": [
    "\n"
   ]
  },
  {
   "cell_type": "markdown",
   "id": "521c8fef-41b5-45e9-84a1-e99bc3c8e123",
   "metadata": {},
   "source": [
    "## Random Forest"
   ]
  },
  {
   "cell_type": "code",
   "execution_count": 90,
   "id": "d7a44c1d",
   "metadata": {},
   "outputs": [
    {
     "name": "stdout",
     "output_type": "stream",
     "text": [
      "Random Forests:\n",
      "optimal parameters: {'max_depth': 27, 'n_estimators': 200}\n",
      "optimal validation R2 = 0.695\n"
     ]
    }
   ],
   "source": [
    "grid = {'n_estimators':[10,100,200],'max_depth':np.arange(1,30)}\n",
    "rf = RandomForestClassifier(n_jobs=-1)\n",
    "rfCV = GridSearchCV(rf,param_grid=grid,n_jobs=-1)\n",
    "rfCV.fit(X_train,y_train)\n",
    "print('Random Forests:')\n",
    "print('optimal parameters:',rfCV.best_params_)\n",
    "print('optimal validation R2 =',rfCV.best_score_.round(3))"
   ]
  },
  {
   "cell_type": "code",
   "execution_count": 91,
   "id": "34b2b48b-72be-4e99-8201-02958592773f",
   "metadata": {},
   "outputs": [
    {
     "data": {
      "text/plain": [
       "0.6986260895257793"
      ]
     },
     "execution_count": 91,
     "metadata": {},
     "output_type": "execute_result"
    }
   ],
   "source": [
    "rf=rfCV.best_estimator_\n",
    "rf.score(X_test, y_test)\n",
    "\n"
   ]
  },
  {
   "cell_type": "code",
   "execution_count": 121,
   "id": "490665aa",
   "metadata": {},
   "outputs": [],
   "source": [
    "rfCV.best_estimator_\n",
    "feature_importance=pd.Series(rf.feature_importances_, index=X_train.columns)"
   ]
  },
  {
   "cell_type": "code",
   "execution_count": 122,
   "id": "5ac7b7cf",
   "metadata": {},
   "outputs": [
    {
     "data": {
      "text/plain": [
       "new            0.035915\n",
       "game           0.031008\n",
       "world          0.023773\n",
       "play           0.018600\n",
       "time           0.017287\n",
       "                 ...   \n",
       "challenging    0.007096\n",
       "easy           0.007026\n",
       "enjoy          0.006849\n",
       "simple         0.006762\n",
       "right          0.006379\n",
       "Length: 87, dtype: float64"
      ]
     },
     "execution_count": 122,
     "metadata": {},
     "output_type": "execute_result"
    }
   ],
   "source": [
    "feature_importance.sort_values(ascending=False)"
   ]
  },
  {
   "cell_type": "markdown",
   "id": "ae6f1245",
   "metadata": {},
   "source": [
    "## Testing bag of word, if it gets similar result as TFIDF, I'm probably gonna go with TFIDF"
   ]
  },
  {
   "cell_type": "code",
   "execution_count": 111,
   "id": "31311eb7",
   "metadata": {},
   "outputs": [
    {
     "data": {
      "text/plain": [
       "GridSearchCV(estimator=RandomForestClassifier(n_jobs=-1), n_jobs=-1,\n",
       "             param_grid={'max_depth': array([ 1,  2,  3,  4,  5,  6,  7,  8,  9, 10, 11, 12, 13, 14, 15, 16, 17,\n",
       "       18, 19, 20, 21, 22, 23, 24, 25, 26, 27, 28, 29]),\n",
       "                         'n_estimators': [10, 100, 200]})"
      ]
     },
     "execution_count": 111,
     "metadata": {},
     "output_type": "execute_result"
    }
   ],
   "source": [
    "grid = {'n_estimators':[10,100,200],'max_depth':np.arange(1,30)}\n",
    "rf = RandomForestClassifier(n_jobs=-1)\n",
    "rfCV = GridSearchCV(rf,param_grid=grid,n_jobs=-1)\n",
    "rfCV.fit(Xb_train,yb_train)"
   ]
  },
  {
   "cell_type": "code",
   "execution_count": 112,
   "id": "d2b83716",
   "metadata": {},
   "outputs": [
    {
     "data": {
      "text/plain": [
       "0.6961488579322884"
      ]
     },
     "execution_count": 112,
     "metadata": {},
     "output_type": "execute_result"
    }
   ],
   "source": [
    "rfCV.best_score_"
   ]
  },
  {
   "cell_type": "code",
   "execution_count": 113,
   "id": "bd08bbec",
   "metadata": {},
   "outputs": [],
   "source": [
    "rf=rfCV.best_estimator_"
   ]
  },
  {
   "cell_type": "markdown",
   "id": "d0ccbf5e",
   "metadata": {},
   "source": [
    "### Analyze feature importance"
   ]
  },
  {
   "cell_type": "code",
   "execution_count": 140,
   "id": "4cee1488",
   "metadata": {},
   "outputs": [],
   "source": [
    "feature_importance=pd.Series(rf.feature_importances_, index=X_train.columns)"
   ]
  },
  {
   "cell_type": "code",
   "execution_count": 141,
   "id": "d386a4c1",
   "metadata": {},
   "outputs": [
    {
     "data": {
      "text/plain": [
       "new            0.035915\n",
       "game           0.031008\n",
       "world          0.023773\n",
       "play           0.018600\n",
       "time           0.017287\n",
       "                 ...   \n",
       "challenging    0.007096\n",
       "easy           0.007026\n",
       "enjoy          0.006849\n",
       "simple         0.006762\n",
       "right          0.006379\n",
       "Length: 87, dtype: float64"
      ]
     },
     "execution_count": 141,
     "metadata": {},
     "output_type": "execute_result"
    }
   ],
   "source": [
    "feature_importance.sort_values(ascending=False)\n"
   ]
  },
  {
   "cell_type": "code",
   "execution_count": null,
   "id": "ba9d6470",
   "metadata": {},
   "outputs": [],
   "source": []
  },
  {
   "cell_type": "code",
   "execution_count": 142,
   "id": "50dca32b",
   "metadata": {},
   "outputs": [
    {
     "data": {
      "text/plain": [
       "<AxesSubplot:>"
      ]
     },
     "execution_count": 142,
     "metadata": {},
     "output_type": "execute_result"
    },
    {
     "data": {
      "image/png": "[encoded data removed]",
      "text/plain": [
       "<Figure size 432x288 with 1 Axes>"
      ]
     },
     "metadata": {
      "needs_background": "light"
     },
     "output_type": "display_data"
    }
   ],
   "source": [
    "feature_importance.sort_values(ascending=False)[15:35].plot.barh(color=\"salmon\")\n"
   ]
  },
  {
   "cell_type": "code",
   "execution_count": null,
   "id": "e9f713f7",
   "metadata": {},
   "outputs": [],
   "source": []
  },
  {
   "cell_type": "markdown",
   "id": "725069a6-0964-49c8-938b-73c7612d6b4f",
   "metadata": {},
   "source": [
    "# Gradient Boosting"
   ]
  },
  {
   "cell_type": "code",
   "execution_count": 37,
   "id": "b28fb9a4-1d49-4c06-837f-78c4c766996d",
   "metadata": {},
   "outputs": [],
   "source": [
    "# grid = {'learning_rate':[0.01,0.001],'n_estimators':[100,200]}\n",
    "# gbt = GradientBoostingClassifier()\n",
    "# gbtCV = GridSearchCV(gbt,param_grid=grid,n_jobs=-1)\n",
    "# gbtCV.fit(X_train,y_train)\n",
    "# print('Gradient Boosting Trees:')\n",
    "# print('optimal parameters:',gbtCV.best_params_)\n",
    "# print('optimal validation R2 =',gbtCV.best_score_.round(3))"
   ]
  },
  {
   "cell_type": "code",
   "execution_count": 97,
   "id": "9bdeaa4f-3bd1-4893-805e-8d5f5950796c",
   "metadata": {},
   "outputs": [
    {
     "data": {
      "text/plain": [
       "GradientBoostingClassifier(learning_rate=0.01)"
      ]
     },
     "execution_count": 97,
     "metadata": {},
     "output_type": "execute_result"
    }
   ],
   "source": [
    "gbt=GradientBoostingClassifier(learning_rate=0.01, n_estimators=100)\n",
    "gbt.fit(X_train,y_train)"
   ]
  },
  {
   "cell_type": "code",
   "execution_count": 98,
   "id": "97c7e453-d12b-4902-92c6-7e3ed2e2e29a",
   "metadata": {},
   "outputs": [
    {
     "data": {
      "text/plain": [
       "0.6878755047769133"
      ]
     },
     "execution_count": 98,
     "metadata": {},
     "output_type": "execute_result"
    }
   ],
   "source": [
    "gbt.score(X_train,y_train)"
   ]
  },
  {
   "cell_type": "code",
   "execution_count": 99,
   "id": "220c703d-55c6-414b-b14a-397578b4b25e",
   "metadata": {},
   "outputs": [
    {
     "data": {
      "text/plain": [
       "0.6891712217461959"
      ]
     },
     "execution_count": 99,
     "metadata": {},
     "output_type": "execute_result"
    }
   ],
   "source": [
    "gbt.score(X_test,y_test)"
   ]
  },
  {
   "cell_type": "markdown",
   "id": "6c82396f",
   "metadata": {},
   "source": [
    "## KNN"
   ]
  },
  {
   "cell_type": "code",
   "execution_count": 100,
   "id": "907d0850",
   "metadata": {},
   "outputs": [],
   "source": [
    "import numpy as np\n",
    "from sklearn.neighbors import KNeighborsClassifier\n",
    "from sklearn.model_selection import train_test_split, GridSearchCV"
   ]
  },
  {
   "cell_type": "code",
   "execution_count": 101,
   "id": "d8526a11",
   "metadata": {},
   "outputs": [],
   "source": [
    "K=np.arange(20)+1\n",
    "knn = KNeighborsClassifier()\n",
    "knnCV=GridSearchCV(knn, param_grid={\"n_neighbors\":K},return_train_score=True, n_jobs=-1 )"
   ]
  },
  {
   "cell_type": "code",
   "execution_count": 102,
   "id": "09918314",
   "metadata": {},
   "outputs": [
    {
     "data": {
      "text/plain": [
       "GridSearchCV(estimator=KNeighborsClassifier(), n_jobs=-1,\n",
       "             param_grid={'n_neighbors': array([ 1,  2,  3,  4,  5,  6,  7,  8,  9, 10, 11, 12, 13, 14, 15, 16, 17,\n",
       "       18, 19, 20])},\n",
       "             return_train_score=True)"
      ]
     },
     "execution_count": 102,
     "metadata": {},
     "output_type": "execute_result"
    }
   ],
   "source": [
    "knnCV.fit(X_train,y_train)"
   ]
  },
  {
   "cell_type": "code",
   "execution_count": 103,
   "id": "97a80084",
   "metadata": {},
   "outputs": [
    {
     "data": {
      "text/plain": [
       "0.6871862031154389"
      ]
     },
     "execution_count": 103,
     "metadata": {},
     "output_type": "execute_result"
    }
   ],
   "source": [
    "knnCV.best_score_"
   ]
  },
  {
   "cell_type": "code",
   "execution_count": 104,
   "id": "a5f494d0",
   "metadata": {},
   "outputs": [
    {
     "data": {
      "text/plain": [
       "{'n_neighbors': 19}"
      ]
     },
     "execution_count": 104,
     "metadata": {},
     "output_type": "execute_result"
    }
   ],
   "source": [
    "knnCV.best_params_"
   ]
  },
  {
   "cell_type": "code",
   "execution_count": 28,
   "id": "d648b8ad",
   "metadata": {},
   "outputs": [],
   "source": []
  },
  {
   "cell_type": "code",
   "execution_count": 65,
   "id": "1e613248",
   "metadata": {},
   "outputs": [],
   "source": [
    "# keywords=feature_importance.sort_values(ascending=False).index[0:19].values"
   ]
  },
  {
   "cell_type": "code",
   "execution_count": 67,
   "id": "d8079cbf",
   "metadata": {},
   "outputs": [],
   "source": [
    "# steamDescriptions"
   ]
  },
  {
   "cell_type": "code",
   "execution_count": 68,
   "id": "d398f918",
   "metadata": {},
   "outputs": [],
   "source": [
    "from sklearn.decomposition import PCA"
   ]
  },
  {
   "cell_type": "code",
   "execution_count": null,
   "id": "0b8f608c",
   "metadata": {},
   "outputs": [],
   "source": []
  },
  {
   "cell_type": "code",
   "execution_count": null,
   "id": "b4dedd10",
   "metadata": {},
   "outputs": [],
   "source": []
  },
  {
   "cell_type": "code",
   "execution_count": null,
   "id": "e6f78a46",
   "metadata": {},
   "outputs": [],
   "source": []
  }
 ],
 "metadata": {
  "kernelspec": {
   "display_name": "Python 3 (ipykernel)",
   "language": "python",
   "name": "python3"
  },
  "language_info": {
   "codemirror_mode": {
    "name": "ipython",
    "version": 3
   },
   "file_extension": ".py",
   "mimetype": "text/x-python",
   "name": "python",
   "nbconvert_exporter": "python",
   "pygments_lexer": "ipython3",
   "version": "3.7.11"
  }
 },
 "nbformat": 4,
 "nbformat_minor": 5
}
