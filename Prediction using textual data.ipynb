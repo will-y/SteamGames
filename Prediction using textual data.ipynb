{
 "cells": [
  {
   "cell_type": "markdown",
   "id": "b6c6dd3a",
   "metadata": {},
   "source": [
    "# Prediction of game popularity using texual data"
   ]
  },
  {
   "cell_type": "code",
   "execution_count": 12,
   "id": "2b71d89b",
   "metadata": {},
   "outputs": [
    {
     "ename": "ModuleNotFoundError",
     "evalue": "No module named 'graphviz'",
     "output_type": "error",
     "traceback": [
      "\u001b[0;31m---------------------------------------------------------------------------\u001b[0m",
      "\u001b[0;31mModuleNotFoundError\u001b[0m                       Traceback (most recent call last)",
      "\u001b[0;32m/tmp/ipykernel_2979752/651089797.py\u001b[0m in \u001b[0;36m<module>\u001b[0;34m\u001b[0m\n\u001b[0;32m----> 1\u001b[0;31m \u001b[0;32mimport\u001b[0m \u001b[0mgraphviz\u001b[0m\u001b[0;34m\u001b[0m\u001b[0;34m\u001b[0m\u001b[0m\n\u001b[0m",
      "\u001b[0;31mModuleNotFoundError\u001b[0m: No module named 'graphviz'"
     ]
    }
   ],
   "source": [
    "import graphviz"
   ]
  },
  {
   "cell_type": "code",
   "execution_count": 75,
   "id": "2fb1837b",
   "metadata": {},
   "outputs": [],
   "source": [
    "import pandas as pd\n",
    "import os\n",
    "import pandas as pd\n",
    "import numpy as np\n",
    "from sklearn.model_selection import train_test_split\n",
    "from sklearn.model_selection import GridSearchCV\n",
    "from sklearn.neighbors import KNeighborsClassifier\n",
    "from sklearn.tree import DecisionTreeClassifier, export_graphviz\n",
    "from sklearn.svm import SVC\n",
    "from sklearn.metrics import confusion_matrix\n",
    "\n",
    "from sklearn.ensemble import RandomForestClassifier, GradientBoostingClassifier\n"
   ]
  },
  {
   "cell_type": "code",
   "execution_count": 76,
   "id": "41862bf6",
   "metadata": {},
   "outputs": [],
   "source": [
    "def mergeSteamAndSteamDescription(steamDescriptions, descriptions, steam):\n",
    "    descriptions[\"steam_appid\"]=steamDescriptions[\"steam_appid\"]\n",
    "    df=pd.merge(steam,descriptions,left_on=\"appid\", right_on=\"steam_appid\")\n",
    "    print(df.columns)\n",
    "    res=df.iloc[:,20:-1]\n",
    "#     res[\"Popularity\"]=df;;[\"Popularity\"]\n",
    "    #y=X.iloc[:,-1]\n",
    "    return res"
   ]
  },
  {
   "cell_type": "code",
   "execution_count": 106,
   "id": "aab9cd38",
   "metadata": {},
   "outputs": [
    {
     "data": {
      "text/html": [
       "<div>\n",
       "<style scoped>\n",
       "    .dataframe tbody tr th:only-of-type {\n",
       "        vertical-align: middle;\n",
       "    }\n",
       "\n",
       "    .dataframe tbody tr th {\n",
       "        vertical-align: top;\n",
       "    }\n",
       "\n",
       "    .dataframe thead th {\n",
       "        text-align: right;\n",
       "    }\n",
       "</style>\n",
       "<table border=\"1\" class=\"dataframe\">\n",
       "  <thead>\n",
       "    <tr style=\"text-align: right;\">\n",
       "      <th></th>\n",
       "      <th>day_elapse</th>\n",
       "      <th>achievements</th>\n",
       "      <th>average_playtime</th>\n",
       "      <th>median_playtime</th>\n",
       "      <th>price</th>\n",
       "      <th>positive_percentage</th>\n",
       "      <th>english_0</th>\n",
       "      <th>english_1</th>\n",
       "      <th>required_age_0</th>\n",
       "      <th>required_age_3</th>\n",
       "      <th>...</th>\n",
       "      <th>Web Publishing.1</th>\n",
       "      <th>Werewolves</th>\n",
       "      <th>Western</th>\n",
       "      <th>Word Game</th>\n",
       "      <th>World War I</th>\n",
       "      <th>World War II</th>\n",
       "      <th>Wrestling</th>\n",
       "      <th>Zombies</th>\n",
       "      <th>e-sports</th>\n",
       "      <th>popularity</th>\n",
       "    </tr>\n",
       "  </thead>\n",
       "  <tbody>\n",
       "    <tr>\n",
       "      <th>0</th>\n",
       "      <td>-3.511424</td>\n",
       "      <td>-0.128306</td>\n",
       "      <td>0.356428</td>\n",
       "      <td>0.278245</td>\n",
       "      <td>-0.163585</td>\n",
       "      <td>0.848583</td>\n",
       "      <td>0</td>\n",
       "      <td>1</td>\n",
       "      <td>1</td>\n",
       "      <td>0</td>\n",
       "      <td>...</td>\n",
       "      <td>0</td>\n",
       "      <td>0</td>\n",
       "      <td>0</td>\n",
       "      <td>0</td>\n",
       "      <td>0</td>\n",
       "      <td>0</td>\n",
       "      <td>0</td>\n",
       "      <td>0</td>\n",
       "      <td>0</td>\n",
       "      <td>Popular</td>\n",
       "    </tr>\n",
       "    <tr>\n",
       "      <th>1</th>\n",
       "      <td>0.321652</td>\n",
       "      <td>-0.125470</td>\n",
       "      <td>-0.081995</td>\n",
       "      <td>-0.062050</td>\n",
       "      <td>-0.138187</td>\n",
       "      <td>-0.838904</td>\n",
       "      <td>0</td>\n",
       "      <td>1</td>\n",
       "      <td>1</td>\n",
       "      <td>0</td>\n",
       "      <td>...</td>\n",
       "      <td>0</td>\n",
       "      <td>0</td>\n",
       "      <td>0</td>\n",
       "      <td>0</td>\n",
       "      <td>0</td>\n",
       "      <td>0</td>\n",
       "      <td>0</td>\n",
       "      <td>0</td>\n",
       "      <td>0</td>\n",
       "      <td>Low popularity</td>\n",
       "    </tr>\n",
       "    <tr>\n",
       "      <th>2</th>\n",
       "      <td>-0.093255</td>\n",
       "      <td>-0.102786</td>\n",
       "      <td>-0.081995</td>\n",
       "      <td>-0.062050</td>\n",
       "      <td>-0.138187</td>\n",
       "      <td>-0.666358</td>\n",
       "      <td>0</td>\n",
       "      <td>1</td>\n",
       "      <td>1</td>\n",
       "      <td>0</td>\n",
       "      <td>...</td>\n",
       "      <td>0</td>\n",
       "      <td>0</td>\n",
       "      <td>0</td>\n",
       "      <td>0</td>\n",
       "      <td>0</td>\n",
       "      <td>0</td>\n",
       "      <td>0</td>\n",
       "      <td>0</td>\n",
       "      <td>0</td>\n",
       "      <td>Low popularity</td>\n",
       "    </tr>\n",
       "    <tr>\n",
       "      <th>3</th>\n",
       "      <td>0.285685</td>\n",
       "      <td>-0.128306</td>\n",
       "      <td>-0.081995</td>\n",
       "      <td>-0.062050</td>\n",
       "      <td>-0.569945</td>\n",
       "      <td>1.222322</td>\n",
       "      <td>0</td>\n",
       "      <td>1</td>\n",
       "      <td>1</td>\n",
       "      <td>0</td>\n",
       "      <td>...</td>\n",
       "      <td>0</td>\n",
       "      <td>0</td>\n",
       "      <td>0</td>\n",
       "      <td>0</td>\n",
       "      <td>0</td>\n",
       "      <td>0</td>\n",
       "      <td>0</td>\n",
       "      <td>0</td>\n",
       "      <td>0</td>\n",
       "      <td>Low popularity</td>\n",
       "    </tr>\n",
       "    <tr>\n",
       "      <th>4</th>\n",
       "      <td>-3.208272</td>\n",
       "      <td>0.004965</td>\n",
       "      <td>0.921834</td>\n",
       "      <td>1.167432</td>\n",
       "      <td>0.369764</td>\n",
       "      <td>0.602712</td>\n",
       "      <td>0</td>\n",
       "      <td>1</td>\n",
       "      <td>1</td>\n",
       "      <td>0</td>\n",
       "      <td>...</td>\n",
       "      <td>0</td>\n",
       "      <td>0</td>\n",
       "      <td>0</td>\n",
       "      <td>0</td>\n",
       "      <td>0</td>\n",
       "      <td>0</td>\n",
       "      <td>0</td>\n",
       "      <td>0</td>\n",
       "      <td>0</td>\n",
       "      <td>Popular</td>\n",
       "    </tr>\n",
       "  </tbody>\n",
       "</table>\n",
       "<p>5 rows × 415 columns</p>\n",
       "</div>"
      ],
      "text/plain": [
       "   day_elapse  achievements  average_playtime  median_playtime     price  \\\n",
       "0   -3.511424     -0.128306          0.356428         0.278245 -0.163585   \n",
       "1    0.321652     -0.125470         -0.081995        -0.062050 -0.138187   \n",
       "2   -0.093255     -0.102786         -0.081995        -0.062050 -0.138187   \n",
       "3    0.285685     -0.128306         -0.081995        -0.062050 -0.569945   \n",
       "4   -3.208272      0.004965          0.921834         1.167432  0.369764   \n",
       "\n",
       "   positive_percentage  english_0  english_1  required_age_0  required_age_3  \\\n",
       "0             0.848583          0          1               1               0   \n",
       "1            -0.838904          0          1               1               0   \n",
       "2            -0.666358          0          1               1               0   \n",
       "3             1.222322          0          1               1               0   \n",
       "4             0.602712          0          1               1               0   \n",
       "\n",
       "   ...  Web Publishing.1  Werewolves  Western  Word Game  World War I  \\\n",
       "0  ...                 0           0        0          0            0   \n",
       "1  ...                 0           0        0          0            0   \n",
       "2  ...                 0           0        0          0            0   \n",
       "3  ...                 0           0        0          0            0   \n",
       "4  ...                 0           0        0          0            0   \n",
       "\n",
       "   World War II  Wrestling  Zombies  e-sports      popularity  \n",
       "0             0          0        0         0         Popular  \n",
       "1             0          0        0         0  Low popularity  \n",
       "2             0          0        0         0  Low popularity  \n",
       "3             0          0        0         0  Low popularity  \n",
       "4             0          0        0         0         Popular  \n",
       "\n",
       "[5 rows x 415 columns]"
      ]
     },
     "execution_count": 106,
     "metadata": {},
     "output_type": "execute_result"
    }
   ],
   "source": [
    "steam=pd.read_csv(\"preprocess_project.csv\")\n",
    "originalSteam=pd.read_csv(\"steam.csv\")\n",
    "steamDescriptions=pd.read_csv(\"steam_description_data.csv\")\n",
    "TFIDFDescriptions=pd.read_csv(\"TFIDFDescriptions.csv\")\n",
    "\n",
    "BOWDescriptions=pd.read_csv(\"BOWDescriptions.csv\")\n",
    "\n",
    "steam.head()\n"
   ]
  },
  {
   "cell_type": "code",
   "execution_count": 107,
   "id": "c33f206c",
   "metadata": {},
   "outputs": [
    {
     "data": {
      "text/html": [
       "<div>\n",
       "<style scoped>\n",
       "    .dataframe tbody tr th:only-of-type {\n",
       "        vertical-align: middle;\n",
       "    }\n",
       "\n",
       "    .dataframe tbody tr th {\n",
       "        vertical-align: top;\n",
       "    }\n",
       "\n",
       "    .dataframe thead th {\n",
       "        text-align: right;\n",
       "    }\n",
       "</style>\n",
       "<table border=\"1\" class=\"dataframe\">\n",
       "  <thead>\n",
       "    <tr style=\"text-align: right;\">\n",
       "      <th></th>\n",
       "      <th>popularity</th>\n",
       "      <th>action</th>\n",
       "      <th>adventure</th>\n",
       "      <th>available</th>\n",
       "      <th>based</th>\n",
       "      <th>battle</th>\n",
       "      <th>best</th>\n",
       "      <th>build</th>\n",
       "      <th>challenge</th>\n",
       "      <th>challenging</th>\n",
       "      <th>...</th>\n",
       "      <th>try</th>\n",
       "      <th>unique</th>\n",
       "      <th>unlock</th>\n",
       "      <th>use</th>\n",
       "      <th>using</th>\n",
       "      <th>various</th>\n",
       "      <th>want</th>\n",
       "      <th>way</th>\n",
       "      <th>weapons</th>\n",
       "      <th>world</th>\n",
       "    </tr>\n",
       "  </thead>\n",
       "  <tbody>\n",
       "    <tr>\n",
       "      <th>0</th>\n",
       "      <td>Popular</td>\n",
       "      <td>0.225381</td>\n",
       "      <td>0.0</td>\n",
       "      <td>0.0</td>\n",
       "      <td>0.224651</td>\n",
       "      <td>0.0</td>\n",
       "      <td>0.0</td>\n",
       "      <td>0.0</td>\n",
       "      <td>0.0</td>\n",
       "      <td>0.0</td>\n",
       "      <td>...</td>\n",
       "      <td>0.0</td>\n",
       "      <td>0.000000</td>\n",
       "      <td>0.0</td>\n",
       "      <td>0.0</td>\n",
       "      <td>0.0</td>\n",
       "      <td>0.0</td>\n",
       "      <td>0.0</td>\n",
       "      <td>0.0</td>\n",
       "      <td>0.000000</td>\n",
       "      <td>0.163636</td>\n",
       "    </tr>\n",
       "    <tr>\n",
       "      <th>1</th>\n",
       "      <td>Popular</td>\n",
       "      <td>0.204416</td>\n",
       "      <td>0.0</td>\n",
       "      <td>0.0</td>\n",
       "      <td>0.000000</td>\n",
       "      <td>0.0</td>\n",
       "      <td>0.0</td>\n",
       "      <td>0.0</td>\n",
       "      <td>0.0</td>\n",
       "      <td>0.0</td>\n",
       "      <td>...</td>\n",
       "      <td>0.0</td>\n",
       "      <td>0.346357</td>\n",
       "      <td>0.0</td>\n",
       "      <td>0.0</td>\n",
       "      <td>0.0</td>\n",
       "      <td>0.0</td>\n",
       "      <td>0.0</td>\n",
       "      <td>0.0</td>\n",
       "      <td>0.210029</td>\n",
       "      <td>0.000000</td>\n",
       "    </tr>\n",
       "    <tr>\n",
       "      <th>2</th>\n",
       "      <td>Popular</td>\n",
       "      <td>0.000000</td>\n",
       "      <td>0.0</td>\n",
       "      <td>0.0</td>\n",
       "      <td>0.369677</td>\n",
       "      <td>0.0</td>\n",
       "      <td>0.0</td>\n",
       "      <td>0.0</td>\n",
       "      <td>0.0</td>\n",
       "      <td>0.0</td>\n",
       "      <td>...</td>\n",
       "      <td>0.0</td>\n",
       "      <td>0.314201</td>\n",
       "      <td>0.0</td>\n",
       "      <td>0.0</td>\n",
       "      <td>0.0</td>\n",
       "      <td>0.0</td>\n",
       "      <td>0.0</td>\n",
       "      <td>0.0</td>\n",
       "      <td>0.000000</td>\n",
       "      <td>0.000000</td>\n",
       "    </tr>\n",
       "    <tr>\n",
       "      <th>3</th>\n",
       "      <td>Popular</td>\n",
       "      <td>0.000000</td>\n",
       "      <td>0.0</td>\n",
       "      <td>0.0</td>\n",
       "      <td>0.000000</td>\n",
       "      <td>0.0</td>\n",
       "      <td>0.0</td>\n",
       "      <td>0.0</td>\n",
       "      <td>0.0</td>\n",
       "      <td>0.0</td>\n",
       "      <td>...</td>\n",
       "      <td>0.0</td>\n",
       "      <td>0.000000</td>\n",
       "      <td>0.0</td>\n",
       "      <td>0.0</td>\n",
       "      <td>0.0</td>\n",
       "      <td>0.0</td>\n",
       "      <td>0.0</td>\n",
       "      <td>0.0</td>\n",
       "      <td>0.000000</td>\n",
       "      <td>0.000000</td>\n",
       "    </tr>\n",
       "    <tr>\n",
       "      <th>4</th>\n",
       "      <td>Popular</td>\n",
       "      <td>0.395474</td>\n",
       "      <td>0.0</td>\n",
       "      <td>0.0</td>\n",
       "      <td>0.000000</td>\n",
       "      <td>0.0</td>\n",
       "      <td>0.0</td>\n",
       "      <td>0.0</td>\n",
       "      <td>0.0</td>\n",
       "      <td>0.0</td>\n",
       "      <td>...</td>\n",
       "      <td>0.0</td>\n",
       "      <td>0.000000</td>\n",
       "      <td>0.0</td>\n",
       "      <td>0.0</td>\n",
       "      <td>0.0</td>\n",
       "      <td>0.0</td>\n",
       "      <td>0.0</td>\n",
       "      <td>0.0</td>\n",
       "      <td>0.000000</td>\n",
       "      <td>0.000000</td>\n",
       "    </tr>\n",
       "  </tbody>\n",
       "</table>\n",
       "<p>5 rows × 90 columns</p>\n",
       "</div>"
      ],
      "text/plain": [
       "  popularity    action  adventure  available     based  battle  best  build  \\\n",
       "0    Popular  0.225381        0.0        0.0  0.224651     0.0   0.0    0.0   \n",
       "1    Popular  0.204416        0.0        0.0  0.000000     0.0   0.0    0.0   \n",
       "2    Popular  0.000000        0.0        0.0  0.369677     0.0   0.0    0.0   \n",
       "3    Popular  0.000000        0.0        0.0  0.000000     0.0   0.0    0.0   \n",
       "4    Popular  0.395474        0.0        0.0  0.000000     0.0   0.0    0.0   \n",
       "\n",
       "   challenge  challenging  ...  try    unique  unlock  use  using  various  \\\n",
       "0        0.0          0.0  ...  0.0  0.000000     0.0  0.0    0.0      0.0   \n",
       "1        0.0          0.0  ...  0.0  0.346357     0.0  0.0    0.0      0.0   \n",
       "2        0.0          0.0  ...  0.0  0.314201     0.0  0.0    0.0      0.0   \n",
       "3        0.0          0.0  ...  0.0  0.000000     0.0  0.0    0.0      0.0   \n",
       "4        0.0          0.0  ...  0.0  0.000000     0.0  0.0    0.0      0.0   \n",
       "\n",
       "   want  way   weapons     world  \n",
       "0   0.0  0.0  0.000000  0.163636  \n",
       "1   0.0  0.0  0.210029  0.000000  \n",
       "2   0.0  0.0  0.000000  0.000000  \n",
       "3   0.0  0.0  0.000000  0.000000  \n",
       "4   0.0  0.0  0.000000  0.000000  \n",
       "\n",
       "[5 rows x 90 columns]"
      ]
     },
     "execution_count": 107,
     "metadata": {},
     "output_type": "execute_result"
    }
   ],
   "source": [
    "#res=mergeSteamAndSteamDescription(steamDescriptions,TFIDFDescriptions , originalSteam)\n",
    "#res[\"popularity\"] = steam[\"popularity\"]\n",
    "res=TFIDFDescriptions\n",
    "#res=res.drop(\"steam_appid\")\n",
    "res.head()\n",
    "\n"
   ]
  },
  {
   "cell_type": "code",
   "execution_count": 110,
   "id": "227edc85",
   "metadata": {
    "scrolled": true
   },
   "outputs": [
    {
     "data": {
      "text/html": [
       "<div>\n",
       "<style scoped>\n",
       "    .dataframe tbody tr th:only-of-type {\n",
       "        vertical-align: middle;\n",
       "    }\n",
       "\n",
       "    .dataframe tbody tr th {\n",
       "        vertical-align: top;\n",
       "    }\n",
       "\n",
       "    .dataframe thead th {\n",
       "        text-align: right;\n",
       "    }\n",
       "</style>\n",
       "<table border=\"1\" class=\"dataframe\">\n",
       "  <thead>\n",
       "    <tr style=\"text-align: right;\">\n",
       "      <th></th>\n",
       "      <th>popularity</th>\n",
       "      <th>action</th>\n",
       "      <th>adventure</th>\n",
       "      <th>also</th>\n",
       "      <th>around</th>\n",
       "      <th>available</th>\n",
       "      <th>back</th>\n",
       "      <th>based</th>\n",
       "      <th>battle</th>\n",
       "      <th>become</th>\n",
       "      <th>...</th>\n",
       "      <th>unique</th>\n",
       "      <th>unlock</th>\n",
       "      <th>use</th>\n",
       "      <th>using</th>\n",
       "      <th>various</th>\n",
       "      <th>want</th>\n",
       "      <th>way</th>\n",
       "      <th>weapons</th>\n",
       "      <th>well</th>\n",
       "      <th>world</th>\n",
       "    </tr>\n",
       "  </thead>\n",
       "  <tbody>\n",
       "    <tr>\n",
       "      <th>0</th>\n",
       "      <td>Popular</td>\n",
       "      <td>1</td>\n",
       "      <td>0</td>\n",
       "      <td>0</td>\n",
       "      <td>0</td>\n",
       "      <td>0</td>\n",
       "      <td>0</td>\n",
       "      <td>1</td>\n",
       "      <td>0</td>\n",
       "      <td>0</td>\n",
       "      <td>...</td>\n",
       "      <td>0</td>\n",
       "      <td>0</td>\n",
       "      <td>0</td>\n",
       "      <td>0</td>\n",
       "      <td>0</td>\n",
       "      <td>0</td>\n",
       "      <td>0</td>\n",
       "      <td>0</td>\n",
       "      <td>0</td>\n",
       "      <td>1</td>\n",
       "    </tr>\n",
       "    <tr>\n",
       "      <th>1</th>\n",
       "      <td>Popular</td>\n",
       "      <td>1</td>\n",
       "      <td>0</td>\n",
       "      <td>0</td>\n",
       "      <td>0</td>\n",
       "      <td>0</td>\n",
       "      <td>0</td>\n",
       "      <td>0</td>\n",
       "      <td>0</td>\n",
       "      <td>0</td>\n",
       "      <td>...</td>\n",
       "      <td>2</td>\n",
       "      <td>0</td>\n",
       "      <td>0</td>\n",
       "      <td>0</td>\n",
       "      <td>0</td>\n",
       "      <td>0</td>\n",
       "      <td>0</td>\n",
       "      <td>1</td>\n",
       "      <td>0</td>\n",
       "      <td>0</td>\n",
       "    </tr>\n",
       "    <tr>\n",
       "      <th>2</th>\n",
       "      <td>Popular</td>\n",
       "      <td>0</td>\n",
       "      <td>0</td>\n",
       "      <td>0</td>\n",
       "      <td>0</td>\n",
       "      <td>0</td>\n",
       "      <td>0</td>\n",
       "      <td>1</td>\n",
       "      <td>0</td>\n",
       "      <td>0</td>\n",
       "      <td>...</td>\n",
       "      <td>1</td>\n",
       "      <td>0</td>\n",
       "      <td>0</td>\n",
       "      <td>0</td>\n",
       "      <td>0</td>\n",
       "      <td>0</td>\n",
       "      <td>0</td>\n",
       "      <td>0</td>\n",
       "      <td>0</td>\n",
       "      <td>0</td>\n",
       "    </tr>\n",
       "    <tr>\n",
       "      <th>3</th>\n",
       "      <td>Popular</td>\n",
       "      <td>0</td>\n",
       "      <td>0</td>\n",
       "      <td>0</td>\n",
       "      <td>0</td>\n",
       "      <td>0</td>\n",
       "      <td>0</td>\n",
       "      <td>0</td>\n",
       "      <td>0</td>\n",
       "      <td>0</td>\n",
       "      <td>...</td>\n",
       "      <td>0</td>\n",
       "      <td>0</td>\n",
       "      <td>0</td>\n",
       "      <td>0</td>\n",
       "      <td>0</td>\n",
       "      <td>0</td>\n",
       "      <td>0</td>\n",
       "      <td>0</td>\n",
       "      <td>0</td>\n",
       "      <td>0</td>\n",
       "    </tr>\n",
       "    <tr>\n",
       "      <th>4</th>\n",
       "      <td>Popular</td>\n",
       "      <td>1</td>\n",
       "      <td>0</td>\n",
       "      <td>0</td>\n",
       "      <td>0</td>\n",
       "      <td>0</td>\n",
       "      <td>0</td>\n",
       "      <td>0</td>\n",
       "      <td>0</td>\n",
       "      <td>0</td>\n",
       "      <td>...</td>\n",
       "      <td>0</td>\n",
       "      <td>0</td>\n",
       "      <td>0</td>\n",
       "      <td>0</td>\n",
       "      <td>0</td>\n",
       "      <td>0</td>\n",
       "      <td>0</td>\n",
       "      <td>0</td>\n",
       "      <td>0</td>\n",
       "      <td>0</td>\n",
       "    </tr>\n",
       "  </tbody>\n",
       "</table>\n",
       "<p>5 rows × 112 columns</p>\n",
       "</div>"
      ],
      "text/plain": [
       "  popularity  action  adventure  also  around  available  back  based  battle  \\\n",
       "0    Popular       1          0     0       0          0     0      1       0   \n",
       "1    Popular       1          0     0       0          0     0      0       0   \n",
       "2    Popular       0          0     0       0          0     0      1       0   \n",
       "3    Popular       0          0     0       0          0     0      0       0   \n",
       "4    Popular       1          0     0       0          0     0      0       0   \n",
       "\n",
       "   become  ...  unique  unlock  use  using  various  want  way  weapons  well  \\\n",
       "0       0  ...       0       0    0      0        0     0    0        0     0   \n",
       "1       0  ...       2       0    0      0        0     0    0        1     0   \n",
       "2       0  ...       1       0    0      0        0     0    0        0     0   \n",
       "3       0  ...       0       0    0      0        0     0    0        0     0   \n",
       "4       0  ...       0       0    0      0        0     0    0        0     0   \n",
       "\n",
       "   world  \n",
       "0      1  \n",
       "1      0  \n",
       "2      0  \n",
       "3      0  \n",
       "4      0  \n",
       "\n",
       "[5 rows x 112 columns]"
      ]
     },
     "execution_count": 110,
     "metadata": {},
     "output_type": "execute_result"
    }
   ],
   "source": [
    "#dfBow=mergeSteamAndSteamDescription(steamDescriptions,BOWDescriptions , originalSteam)\n",
    "#dfBow[\"popularity\"] = steam[\"popularity\"]\n",
    "\n",
    "dfBow=BOWDescriptions\n",
    "dfBow.head()"
   ]
  },
  {
   "cell_type": "markdown",
   "id": "f4c9938c",
   "metadata": {},
   "source": [
    "## Train Test Split"
   ]
  },
  {
   "cell_type": "code",
   "execution_count": 111,
   "id": "abc8a4fe",
   "metadata": {},
   "outputs": [],
   "source": [
    "(df_train, df_test) = train_test_split(res, random_state=0)\n",
    "X_train = df_train.drop(\"popularity\", axis=1)\n",
    "X_test = df_test.drop(\"popularity\", axis=1)\n",
    "y_train = df_train.popularity\n",
    "y_test = df_test.popularity"
   ]
  },
  {
   "cell_type": "code",
   "execution_count": 112,
   "id": "319f4156",
   "metadata": {},
   "outputs": [],
   "source": [
    "(bow_train, bow_test) = train_test_split(dfBow , random_state=0)\n",
    "Xb_train = bow_train.drop(\"popularity\", axis=1)\n",
    "Xb_test = bow_test.drop(\"popularity\", axis=1)\n",
    "yb_train = bow_train.popularity\n",
    "yb_test = bow_test.popularity"
   ]
  },
  {
   "cell_type": "markdown",
   "id": "98c22ea4",
   "metadata": {},
   "source": [
    "## Decision Tree"
   ]
  },
  {
   "cell_type": "code",
   "execution_count": null,
   "id": "31549895",
   "metadata": {},
   "outputs": [],
   "source": []
  },
  {
   "cell_type": "code",
   "execution_count": 91,
   "id": "4c461edd",
   "metadata": {},
   "outputs": [],
   "source": [
    "grid = {'max_depth': np.arange(1,15)}"
   ]
  },
  {
   "cell_type": "code",
   "execution_count": 92,
   "id": "428ce844",
   "metadata": {},
   "outputs": [
    {
     "data": {
      "text/plain": [
       "GridSearchCV(estimator=DecisionTreeClassifier(), n_jobs=-1,\n",
       "             param_grid={'max_depth': array([ 1,  2,  3,  4,  5,  6,  7,  8,  9, 10, 11, 12, 13, 14])},\n",
       "             return_train_score=True)"
      ]
     },
     "execution_count": 92,
     "metadata": {},
     "output_type": "execute_result"
    }
   ],
   "source": [
    "dt = DecisionTreeClassifier()\n",
    "dtCV = GridSearchCV(dt, param_grid=grid, return_train_score=True, n_jobs=-1)\n",
    "dtCV.fit(X_train, y_train)"
   ]
  },
  {
   "cell_type": "code",
   "execution_count": 30,
   "id": "5c46ef49",
   "metadata": {},
   "outputs": [
    {
     "data": {
      "text/plain": [
       "0.6892050828508767"
      ]
     },
     "execution_count": 30,
     "metadata": {},
     "output_type": "execute_result"
    }
   ],
   "source": [
    "dtCV.best_score_"
   ]
  },
  {
   "cell_type": "code",
   "execution_count": 31,
   "id": "7ad4840c-697c-43d8-bc43-ea14397990c6",
   "metadata": {},
   "outputs": [
    {
     "data": {
      "text/plain": [
       "0.6910917417639237"
      ]
     },
     "execution_count": 31,
     "metadata": {},
     "output_type": "execute_result"
    }
   ],
   "source": [
    "tree=dtCV.best_estimator_\n",
    "tree.score(X_test, y_test)"
   ]
  },
  {
   "cell_type": "code",
   "execution_count": 32,
   "id": "96702813",
   "metadata": {},
   "outputs": [
    {
     "data": {
      "text/plain": [
       "{'max_depth': 3}"
      ]
     },
     "execution_count": 32,
     "metadata": {},
     "output_type": "execute_result"
    }
   ],
   "source": [
    "dtCV.best_params_"
   ]
  },
  {
   "cell_type": "code",
   "execution_count": 33,
   "id": "70c716e8",
   "metadata": {},
   "outputs": [
    {
     "ename": "NameError",
     "evalue": "name 'graphviz' is not defined",
     "output_type": "error",
     "traceback": [
      "\u001b[0;31m---------------------------------------------------------------------------\u001b[0m",
      "\u001b[0;31mNameError\u001b[0m                                 Traceback (most recent call last)",
      "\u001b[0;32m/tmp/ipykernel_3775397/735018379.py\u001b[0m in \u001b[0;36m<module>\u001b[0;34m\u001b[0m\n\u001b[1;32m      6\u001b[0m                            \u001b[0mfilled\u001b[0m\u001b[0;34m=\u001b[0m\u001b[0;32mTrue\u001b[0m\u001b[0;34m,\u001b[0m\u001b[0;34m\u001b[0m\u001b[0;34m\u001b[0m\u001b[0m\n\u001b[1;32m      7\u001b[0m                            rounded=True)\n\u001b[0;32m----> 8\u001b[0;31m \u001b[0mgraph\u001b[0m\u001b[0;34m=\u001b[0m\u001b[0mgraphviz\u001b[0m\u001b[0;34m.\u001b[0m\u001b[0mSource\u001b[0m\u001b[0;34m(\u001b[0m\u001b[0mdot_data\u001b[0m\u001b[0;34m)\u001b[0m\u001b[0;34m\u001b[0m\u001b[0;34m\u001b[0m\u001b[0m\n\u001b[0m\u001b[1;32m      9\u001b[0m \u001b[0mgraph\u001b[0m\u001b[0;34m.\u001b[0m\u001b[0mrender\u001b[0m\u001b[0;34m(\u001b[0m\u001b[0;34m'WordTree'\u001b[0m\u001b[0;34m)\u001b[0m\u001b[0;34m\u001b[0m\u001b[0;34m\u001b[0m\u001b[0m\n\u001b[1;32m     10\u001b[0m \u001b[0mgraph\u001b[0m\u001b[0;34m\u001b[0m\u001b[0;34m\u001b[0m\u001b[0m\n",
      "\u001b[0;31mNameError\u001b[0m: name 'graphviz' is not defined"
     ]
    }
   ],
   "source": [
    "\n",
    "dot_data = export_graphviz(tree,\n",
    "                           out_file=None,\n",
    "                           feature_names=X_train.columns,\n",
    "                           proportion=True,\n",
    "                           impurity=True,\n",
    "                           filled=True,\n",
    "                           rounded=True)\n",
    "graph=graphviz.Source(dot_data)\n",
    "graph.render('WordTree')\n",
    "graph"
   ]
  },
  {
   "cell_type": "code",
   "execution_count": null,
   "id": "1f4915a0",
   "metadata": {},
   "outputs": [],
   "source": [
    "\n"
   ]
  },
  {
   "cell_type": "markdown",
   "id": "521c8fef-41b5-45e9-84a1-e99bc3c8e123",
   "metadata": {},
   "source": [
    "## Random Forest"
   ]
  },
  {
   "cell_type": "code",
   "execution_count": 54,
   "id": "d7a44c1d",
   "metadata": {},
   "outputs": [
    {
     "name": "stdout",
     "output_type": "stream",
     "text": [
      "Random Forests:\n",
      "optimal parameters: {'max_depth': 29, 'n_estimators': 200}\n",
      "optimal validation R2 = 0.695\n"
     ]
    }
   ],
   "source": [
    "grid = {'n_estimators':[10,100,200],'max_depth':np.arange(1,30)}\n",
    "rf = RandomForestClassifier(n_jobs=-1)\n",
    "rfCV = GridSearchCV(rf,param_grid=grid,n_jobs=-1)\n",
    "rfCV.fit(X_train,y_train)\n",
    "print('Random Forests:')\n",
    "print('optimal parameters:',rfCV.best_params_)\n",
    "print('optimal validation R2 =',rfCV.best_score_.round(3))"
   ]
  },
  {
   "cell_type": "code",
   "execution_count": 55,
   "id": "34b2b48b-72be-4e99-8201-02958592773f",
   "metadata": {},
   "outputs": [
    {
     "data": {
      "text/plain": [
       "0.6981828925986113"
      ]
     },
     "execution_count": 55,
     "metadata": {},
     "output_type": "execute_result"
    }
   ],
   "source": [
    "rf=rfCV.best_estimator_\n",
    "rf.score(X_test, y_test)\n",
    "\n"
   ]
  },
  {
   "cell_type": "code",
   "execution_count": 56,
   "id": "490665aa",
   "metadata": {},
   "outputs": [
    {
     "data": {
      "text/plain": [
       "action       0.013162\n",
       "adventure    0.013258\n",
       "available    0.008490\n",
       "based        0.011024\n",
       "battle       0.013293\n",
       "               ...   \n",
       "various      0.006435\n",
       "want         0.006920\n",
       "way          0.013989\n",
       "weapons      0.011970\n",
       "world        0.025720\n",
       "Length: 89, dtype: float64"
      ]
     },
     "execution_count": 56,
     "metadata": {},
     "output_type": "execute_result"
    }
   ],
   "source": [
    "rfCV.best_estimator_\n",
    "feature_importance=pd.Series(rf.feature_importances_, index=X_train.columns)\n",
    "feature_importance"
   ]
  },
  {
   "cell_type": "code",
   "execution_count": 61,
   "id": "5ac7b7cf",
   "metadata": {},
   "outputs": [
    {
     "data": {
      "text/plain": [
       "<AxesSubplot:>"
      ]
     },
     "execution_count": 61,
     "metadata": {},
     "output_type": "execute_result"
    },
    {
     "data": {
      "image/png": "[encoded data removed]",
      "text/plain": [
       "<Figure size 432x288 with 1 Axes>"
      ]
     },
     "metadata": {
      "needs_background": "light"
     },
     "output_type": "display_data"
    }
   ],
   "source": [
    "feature_importance.sort_values(ascending=False)\n",
    "feature_importance.sort_values(ascending=False)[0:20].plot.barh(color=\"salmon\")"
   ]
  },
  {
   "cell_type": "markdown",
   "id": "ae6f1245",
   "metadata": {},
   "source": [
    "## Testing bag of word, if it gets similar result as TFIDF, I'm probably gonna go with TFIDF"
   ]
  },
  {
   "cell_type": "code",
   "execution_count": 62,
   "id": "31311eb7",
   "metadata": {},
   "outputs": [
    {
     "data": {
      "text/plain": [
       "GridSearchCV(estimator=RandomForestClassifier(n_jobs=-1), n_jobs=-1,\n",
       "             param_grid={'max_depth': array([ 1,  2,  3,  4,  5,  6,  7,  8,  9, 10, 11, 12, 13, 14, 15, 16, 17,\n",
       "       18, 19, 20, 21, 22, 23, 24, 25, 26, 27, 28, 29]),\n",
       "                         'n_estimators': [10, 100, 200]})"
      ]
     },
     "execution_count": 62,
     "metadata": {},
     "output_type": "execute_result"
    }
   ],
   "source": [
    "grid = {'n_estimators':[10,100,200],'max_depth':np.arange(1,30)}\n",
    "rf = RandomForestClassifier(n_jobs=-1)\n",
    "rfCV = GridSearchCV(rf,param_grid=grid,n_jobs=-1)\n",
    "rfCV.fit(Xb_train,yb_train)"
   ]
  },
  {
   "cell_type": "code",
   "execution_count": 63,
   "id": "d2b83716",
   "metadata": {},
   "outputs": [
    {
     "data": {
      "text/plain": [
       "0.6867542090463672"
      ]
     },
     "execution_count": 63,
     "metadata": {},
     "output_type": "execute_result"
    }
   ],
   "source": [
    "rfCV.best_score_"
   ]
  },
  {
   "cell_type": "code",
   "execution_count": 64,
   "id": "bd08bbec",
   "metadata": {},
   "outputs": [],
   "source": [
    "rf=rfCV.best_estimator_"
   ]
  },
  {
   "cell_type": "code",
   "execution_count": 65,
   "id": "4161d485",
   "metadata": {},
   "outputs": [
    {
     "data": {
      "text/plain": [
       "array([0.0085958 , 0.01037288, 0.0075367 , 0.00694622, 0.00705633,\n",
       "       0.00923922, 0.00999504, 0.00746331, 0.00734022, 0.00814857,\n",
       "       0.00788165, 0.00635599, 0.00799281, 0.00843131, 0.00817075,\n",
       "       0.00775306, 0.00634054, 0.00846376, 0.00769304, 0.00886103,\n",
       "       0.00803971, 0.01420456, 0.0061162 , 0.00638403, 0.01139807,\n",
       "       0.00948096, 0.00646768, 0.00970289, 0.01012998, 0.01092098,\n",
       "       0.00738612, 0.00604022, 0.01384314, 0.00815825, 0.01081426,\n",
       "       0.00938539, 0.00926413, 0.0091481 , 0.0083714 , 0.0092879 ,\n",
       "       0.02428027, 0.01005785, 0.01076059, 0.01172991, 0.00699807,\n",
       "       0.00598951, 0.00906615, 0.00655993, 0.00729918, 0.00755917,\n",
       "       0.00783561, 0.00618295, 0.00766747, 0.01090947, 0.01193047,\n",
       "       0.00920767, 0.01151769, 0.00657884, 0.01102126, 0.00967255,\n",
       "       0.01178965, 0.00759953, 0.00787047, 0.00793751, 0.00781925,\n",
       "       0.00876116, 0.01725554, 0.01366143, 0.00711214, 0.00794397,\n",
       "       0.00795598, 0.0152596 , 0.01408684, 0.01300586, 0.00774318,\n",
       "       0.00695749, 0.0080304 , 0.00767615, 0.01178534, 0.00835334,\n",
       "       0.00648628, 0.00651772, 0.00627172, 0.00755147, 0.00662934,\n",
       "       0.00732352, 0.01027275, 0.00893758, 0.00718186, 0.00837787,\n",
       "       0.01115598, 0.0071389 , 0.00816098, 0.0096454 , 0.01072874,\n",
       "       0.00928278, 0.00839457, 0.01496456, 0.00593526, 0.00830078,\n",
       "       0.01189827, 0.00703441, 0.01161061, 0.0077885 , 0.00569193,\n",
       "       0.00729773, 0.00941809, 0.01047894, 0.00749385, 0.01541798])"
      ]
     },
     "execution_count": 65,
     "metadata": {},
     "output_type": "execute_result"
    }
   ],
   "source": [
    "rf.feature_importances_"
   ]
  },
  {
   "cell_type": "code",
   "execution_count": null,
   "id": "323792ea",
   "metadata": {},
   "outputs": [],
   "source": []
  },
  {
   "cell_type": "markdown",
   "id": "d0ccbf5e",
   "metadata": {},
   "source": [
    "### Analyze feature importance"
   ]
  },
  {
   "cell_type": "code",
   "execution_count": 49,
   "id": "4cee1488",
   "metadata": {},
   "outputs": [],
   "source": [
    "feature_importance=pd.Series(rf.feature_importances_, index=Xb_train.columns)"
   ]
  },
  {
   "cell_type": "code",
   "execution_count": 50,
   "id": "d386a4c1",
   "metadata": {},
   "outputs": [
    {
     "data": {
      "text/plain": [
       "<AxesSubplot:>"
      ]
     },
     "execution_count": 50,
     "metadata": {},
     "output_type": "execute_result"
    },
    {
     "data": {
      "image/png": "[encoded data removed]",
      "text/plain": [
       "<Figure size 432x288 with 1 Axes>"
      ]
     },
     "metadata": {
      "needs_background": "light"
     },
     "output_type": "display_data"
    }
   ],
   "source": [
    "feature_importance.sort_values(ascending=False)\n",
    "\n"
   ]
  },
  {
   "cell_type": "code",
   "execution_count": null,
   "id": "ba9d6470",
   "metadata": {},
   "outputs": [],
   "source": []
  },
  {
   "cell_type": "code",
   "execution_count": 47,
   "id": "50dca32b",
   "metadata": {},
   "outputs": [
    {
     "data": {
      "text/plain": [
       "<AxesSubplot:>"
      ]
     },
     "execution_count": 47,
     "metadata": {},
     "output_type": "execute_result"
    },
    {
     "data": {
      "image/png": "[encoded data removed]",
      "text/plain": [
       "<Figure size 432x288 with 1 Axes>"
      ]
     },
     "metadata": {
      "needs_background": "light"
     },
     "output_type": "display_data"
    }
   ],
   "source": [
    "feature_importance.sort_values(ascending=False)[0:20].plot.barh(color=\"salmon\")\n"
   ]
  },
  {
   "cell_type": "code",
   "execution_count": null,
   "id": "e9f713f7",
   "metadata": {},
   "outputs": [],
   "source": []
  },
  {
   "cell_type": "code",
   "execution_count": 102,
   "id": "d1d39e34",
   "metadata": {},
   "outputs": [
    {
     "data": {
      "text/html": [
       "<div>\n",
       "<style scoped>\n",
       "    .dataframe tbody tr th:only-of-type {\n",
       "        vertical-align: middle;\n",
       "    }\n",
       "\n",
       "    .dataframe tbody tr th {\n",
       "        vertical-align: top;\n",
       "    }\n",
       "\n",
       "    .dataframe thead th {\n",
       "        text-align: right;\n",
       "    }\n",
       "</style>\n",
       "<table border=\"1\" class=\"dataframe\">\n",
       "  <thead>\n",
       "    <tr style=\"text-align: right;\">\n",
       "      <th></th>\n",
       "      <th>action</th>\n",
       "      <th>adventure</th>\n",
       "      <th>available</th>\n",
       "      <th>based</th>\n",
       "      <th>battle</th>\n",
       "      <th>best</th>\n",
       "      <th>build</th>\n",
       "      <th>challenge</th>\n",
       "      <th>challenging</th>\n",
       "      <th>character</th>\n",
       "      <th>...</th>\n",
       "      <th>unique</th>\n",
       "      <th>unlock</th>\n",
       "      <th>use</th>\n",
       "      <th>using</th>\n",
       "      <th>various</th>\n",
       "      <th>want</th>\n",
       "      <th>way</th>\n",
       "      <th>weapons</th>\n",
       "      <th>world</th>\n",
       "      <th>steam_appid</th>\n",
       "    </tr>\n",
       "  </thead>\n",
       "  <tbody>\n",
       "    <tr>\n",
       "      <th>20829</th>\n",
       "      <td>0.000000</td>\n",
       "      <td>0.000000</td>\n",
       "      <td>0.0</td>\n",
       "      <td>0.078392</td>\n",
       "      <td>0.000000</td>\n",
       "      <td>0.256997</td>\n",
       "      <td>0.000000</td>\n",
       "      <td>0.089488</td>\n",
       "      <td>0.000000</td>\n",
       "      <td>0.0</td>\n",
       "      <td>...</td>\n",
       "      <td>0.066628</td>\n",
       "      <td>0.000000</td>\n",
       "      <td>0.0</td>\n",
       "      <td>0.0</td>\n",
       "      <td>0.0</td>\n",
       "      <td>0.000000</td>\n",
       "      <td>0.135877</td>\n",
       "      <td>0.000000</td>\n",
       "      <td>0.000000</td>\n",
       "      <td>810510</td>\n",
       "    </tr>\n",
       "    <tr>\n",
       "      <th>13497</th>\n",
       "      <td>0.000000</td>\n",
       "      <td>0.000000</td>\n",
       "      <td>0.0</td>\n",
       "      <td>0.000000</td>\n",
       "      <td>0.000000</td>\n",
       "      <td>0.162973</td>\n",
       "      <td>0.086847</td>\n",
       "      <td>0.085122</td>\n",
       "      <td>0.000000</td>\n",
       "      <td>0.0</td>\n",
       "      <td>...</td>\n",
       "      <td>0.190134</td>\n",
       "      <td>0.087379</td>\n",
       "      <td>0.0</td>\n",
       "      <td>0.0</td>\n",
       "      <td>0.0</td>\n",
       "      <td>0.000000</td>\n",
       "      <td>0.000000</td>\n",
       "      <td>0.000000</td>\n",
       "      <td>0.000000</td>\n",
       "      <td>597110</td>\n",
       "    </tr>\n",
       "    <tr>\n",
       "      <th>14628</th>\n",
       "      <td>0.000000</td>\n",
       "      <td>0.000000</td>\n",
       "      <td>0.0</td>\n",
       "      <td>0.000000</td>\n",
       "      <td>0.000000</td>\n",
       "      <td>0.000000</td>\n",
       "      <td>0.000000</td>\n",
       "      <td>0.000000</td>\n",
       "      <td>0.232369</td>\n",
       "      <td>0.0</td>\n",
       "      <td>...</td>\n",
       "      <td>0.000000</td>\n",
       "      <td>0.000000</td>\n",
       "      <td>0.0</td>\n",
       "      <td>0.0</td>\n",
       "      <td>0.0</td>\n",
       "      <td>0.000000</td>\n",
       "      <td>0.167696</td>\n",
       "      <td>0.000000</td>\n",
       "      <td>0.000000</td>\n",
       "      <td>635010</td>\n",
       "    </tr>\n",
       "    <tr>\n",
       "      <th>3709</th>\n",
       "      <td>0.000000</td>\n",
       "      <td>0.111469</td>\n",
       "      <td>0.0</td>\n",
       "      <td>0.000000</td>\n",
       "      <td>0.000000</td>\n",
       "      <td>0.119516</td>\n",
       "      <td>0.000000</td>\n",
       "      <td>0.000000</td>\n",
       "      <td>0.000000</td>\n",
       "      <td>0.0</td>\n",
       "      <td>...</td>\n",
       "      <td>0.000000</td>\n",
       "      <td>0.000000</td>\n",
       "      <td>0.0</td>\n",
       "      <td>0.0</td>\n",
       "      <td>0.0</td>\n",
       "      <td>0.000000</td>\n",
       "      <td>0.000000</td>\n",
       "      <td>0.000000</td>\n",
       "      <td>0.159329</td>\n",
       "      <td>316930</td>\n",
       "    </tr>\n",
       "    <tr>\n",
       "      <th>27058</th>\n",
       "      <td>0.000000</td>\n",
       "      <td>0.000000</td>\n",
       "      <td>0.0</td>\n",
       "      <td>0.000000</td>\n",
       "      <td>0.258073</td>\n",
       "      <td>0.000000</td>\n",
       "      <td>0.000000</td>\n",
       "      <td>0.000000</td>\n",
       "      <td>0.000000</td>\n",
       "      <td>0.0</td>\n",
       "      <td>...</td>\n",
       "      <td>0.206680</td>\n",
       "      <td>0.000000</td>\n",
       "      <td>0.0</td>\n",
       "      <td>0.0</td>\n",
       "      <td>0.0</td>\n",
       "      <td>0.000000</td>\n",
       "      <td>0.000000</td>\n",
       "      <td>0.000000</td>\n",
       "      <td>0.000000</td>\n",
       "      <td>1039080</td>\n",
       "    </tr>\n",
       "    <tr>\n",
       "      <th>...</th>\n",
       "      <td>...</td>\n",
       "      <td>...</td>\n",
       "      <td>...</td>\n",
       "      <td>...</td>\n",
       "      <td>...</td>\n",
       "      <td>...</td>\n",
       "      <td>...</td>\n",
       "      <td>...</td>\n",
       "      <td>...</td>\n",
       "      <td>...</td>\n",
       "      <td>...</td>\n",
       "      <td>...</td>\n",
       "      <td>...</td>\n",
       "      <td>...</td>\n",
       "      <td>...</td>\n",
       "      <td>...</td>\n",
       "      <td>...</td>\n",
       "      <td>...</td>\n",
       "      <td>...</td>\n",
       "      <td>...</td>\n",
       "      <td>...</td>\n",
       "    </tr>\n",
       "    <tr>\n",
       "      <th>13123</th>\n",
       "      <td>0.000000</td>\n",
       "      <td>0.196312</td>\n",
       "      <td>0.0</td>\n",
       "      <td>0.192612</td>\n",
       "      <td>0.000000</td>\n",
       "      <td>0.000000</td>\n",
       "      <td>0.000000</td>\n",
       "      <td>0.000000</td>\n",
       "      <td>0.231302</td>\n",
       "      <td>0.0</td>\n",
       "      <td>...</td>\n",
       "      <td>0.163708</td>\n",
       "      <td>0.000000</td>\n",
       "      <td>0.0</td>\n",
       "      <td>0.0</td>\n",
       "      <td>0.0</td>\n",
       "      <td>0.000000</td>\n",
       "      <td>0.166927</td>\n",
       "      <td>0.000000</td>\n",
       "      <td>0.140299</td>\n",
       "      <td>586340</td>\n",
       "    </tr>\n",
       "    <tr>\n",
       "      <th>19648</th>\n",
       "      <td>0.000000</td>\n",
       "      <td>0.000000</td>\n",
       "      <td>0.0</td>\n",
       "      <td>0.000000</td>\n",
       "      <td>0.000000</td>\n",
       "      <td>0.000000</td>\n",
       "      <td>0.000000</td>\n",
       "      <td>0.000000</td>\n",
       "      <td>0.000000</td>\n",
       "      <td>0.0</td>\n",
       "      <td>...</td>\n",
       "      <td>0.000000</td>\n",
       "      <td>0.000000</td>\n",
       "      <td>0.0</td>\n",
       "      <td>0.0</td>\n",
       "      <td>0.0</td>\n",
       "      <td>0.000000</td>\n",
       "      <td>0.000000</td>\n",
       "      <td>0.000000</td>\n",
       "      <td>0.000000</td>\n",
       "      <td>777860</td>\n",
       "    </tr>\n",
       "    <tr>\n",
       "      <th>9845</th>\n",
       "      <td>0.000000</td>\n",
       "      <td>0.000000</td>\n",
       "      <td>0.0</td>\n",
       "      <td>0.000000</td>\n",
       "      <td>0.000000</td>\n",
       "      <td>0.397469</td>\n",
       "      <td>0.000000</td>\n",
       "      <td>0.000000</td>\n",
       "      <td>0.000000</td>\n",
       "      <td>0.0</td>\n",
       "      <td>...</td>\n",
       "      <td>0.000000</td>\n",
       "      <td>0.000000</td>\n",
       "      <td>0.0</td>\n",
       "      <td>0.0</td>\n",
       "      <td>0.0</td>\n",
       "      <td>0.000000</td>\n",
       "      <td>0.157609</td>\n",
       "      <td>0.000000</td>\n",
       "      <td>0.000000</td>\n",
       "      <td>497260</td>\n",
       "    </tr>\n",
       "    <tr>\n",
       "      <th>10799</th>\n",
       "      <td>0.000000</td>\n",
       "      <td>0.000000</td>\n",
       "      <td>0.0</td>\n",
       "      <td>0.000000</td>\n",
       "      <td>0.164031</td>\n",
       "      <td>0.000000</td>\n",
       "      <td>0.000000</td>\n",
       "      <td>0.000000</td>\n",
       "      <td>0.000000</td>\n",
       "      <td>0.0</td>\n",
       "      <td>...</td>\n",
       "      <td>0.000000</td>\n",
       "      <td>0.000000</td>\n",
       "      <td>0.0</td>\n",
       "      <td>0.0</td>\n",
       "      <td>0.0</td>\n",
       "      <td>0.177314</td>\n",
       "      <td>0.000000</td>\n",
       "      <td>0.318638</td>\n",
       "      <td>0.112582</td>\n",
       "      <td>522340</td>\n",
       "    </tr>\n",
       "    <tr>\n",
       "      <th>2732</th>\n",
       "      <td>0.264633</td>\n",
       "      <td>0.000000</td>\n",
       "      <td>0.0</td>\n",
       "      <td>0.000000</td>\n",
       "      <td>0.000000</td>\n",
       "      <td>0.000000</td>\n",
       "      <td>0.000000</td>\n",
       "      <td>0.000000</td>\n",
       "      <td>0.000000</td>\n",
       "      <td>0.0</td>\n",
       "      <td>...</td>\n",
       "      <td>0.000000</td>\n",
       "      <td>0.000000</td>\n",
       "      <td>0.0</td>\n",
       "      <td>0.0</td>\n",
       "      <td>0.0</td>\n",
       "      <td>0.000000</td>\n",
       "      <td>0.000000</td>\n",
       "      <td>0.271899</td>\n",
       "      <td>0.000000</td>\n",
       "      <td>283560</td>\n",
       "    </tr>\n",
       "  </tbody>\n",
       "</table>\n",
       "<p>20306 rows × 90 columns</p>\n",
       "</div>"
      ],
      "text/plain": [
       "         action  adventure  available     based    battle      best     build  \\\n",
       "20829  0.000000   0.000000        0.0  0.078392  0.000000  0.256997  0.000000   \n",
       "13497  0.000000   0.000000        0.0  0.000000  0.000000  0.162973  0.086847   \n",
       "14628  0.000000   0.000000        0.0  0.000000  0.000000  0.000000  0.000000   \n",
       "3709   0.000000   0.111469        0.0  0.000000  0.000000  0.119516  0.000000   \n",
       "27058  0.000000   0.000000        0.0  0.000000  0.258073  0.000000  0.000000   \n",
       "...         ...        ...        ...       ...       ...       ...       ...   \n",
       "13123  0.000000   0.196312        0.0  0.192612  0.000000  0.000000  0.000000   \n",
       "19648  0.000000   0.000000        0.0  0.000000  0.000000  0.000000  0.000000   \n",
       "9845   0.000000   0.000000        0.0  0.000000  0.000000  0.397469  0.000000   \n",
       "10799  0.000000   0.000000        0.0  0.000000  0.164031  0.000000  0.000000   \n",
       "2732   0.264633   0.000000        0.0  0.000000  0.000000  0.000000  0.000000   \n",
       "\n",
       "       challenge  challenging  character  ...    unique    unlock  use  using  \\\n",
       "20829   0.089488     0.000000        0.0  ...  0.066628  0.000000  0.0    0.0   \n",
       "13497   0.085122     0.000000        0.0  ...  0.190134  0.087379  0.0    0.0   \n",
       "14628   0.000000     0.232369        0.0  ...  0.000000  0.000000  0.0    0.0   \n",
       "3709    0.000000     0.000000        0.0  ...  0.000000  0.000000  0.0    0.0   \n",
       "27058   0.000000     0.000000        0.0  ...  0.206680  0.000000  0.0    0.0   \n",
       "...          ...          ...        ...  ...       ...       ...  ...    ...   \n",
       "13123   0.000000     0.231302        0.0  ...  0.163708  0.000000  0.0    0.0   \n",
       "19648   0.000000     0.000000        0.0  ...  0.000000  0.000000  0.0    0.0   \n",
       "9845    0.000000     0.000000        0.0  ...  0.000000  0.000000  0.0    0.0   \n",
       "10799   0.000000     0.000000        0.0  ...  0.000000  0.000000  0.0    0.0   \n",
       "2732    0.000000     0.000000        0.0  ...  0.000000  0.000000  0.0    0.0   \n",
       "\n",
       "       various      want       way   weapons     world  steam_appid  \n",
       "20829      0.0  0.000000  0.135877  0.000000  0.000000       810510  \n",
       "13497      0.0  0.000000  0.000000  0.000000  0.000000       597110  \n",
       "14628      0.0  0.000000  0.167696  0.000000  0.000000       635010  \n",
       "3709       0.0  0.000000  0.000000  0.000000  0.159329       316930  \n",
       "27058      0.0  0.000000  0.000000  0.000000  0.000000      1039080  \n",
       "...        ...       ...       ...       ...       ...          ...  \n",
       "13123      0.0  0.000000  0.166927  0.000000  0.140299       586340  \n",
       "19648      0.0  0.000000  0.000000  0.000000  0.000000       777860  \n",
       "9845       0.0  0.000000  0.157609  0.000000  0.000000       497260  \n",
       "10799      0.0  0.177314  0.000000  0.318638  0.112582       522340  \n",
       "2732       0.0  0.000000  0.000000  0.271899  0.000000       283560  \n",
       "\n",
       "[20306 rows x 90 columns]"
      ]
     },
     "execution_count": 102,
     "metadata": {},
     "output_type": "execute_result"
    }
   ],
   "source": [
    "X_train"
   ]
  },
  {
   "cell_type": "markdown",
   "id": "725069a6-0964-49c8-938b-73c7612d6b4f",
   "metadata": {},
   "source": [
    "# Gradient Boosting"
   ]
  },
  {
   "cell_type": "code",
   "execution_count": 113,
   "id": "b28fb9a4-1d49-4c06-837f-78c4c766996d",
   "metadata": {},
   "outputs": [
    {
     "name": "stdout",
     "output_type": "stream",
     "text": [
      "Gradient Boosting Trees:\n",
      "optimal parameters: {'learning_rate': 0.01, 'n_estimators': 200}\n",
      "optimal validation R2 = 0.692\n"
     ]
    }
   ],
   "source": [
    "grid = {'learning_rate':[0.01,0.001],'n_estimators':[100,200]}\n",
    "gbt = GradientBoostingClassifier()\n",
    "gbtCV = GridSearchCV(gbt,param_grid=grid,n_jobs=-1)\n",
    "gbtCV.fit(X_train,y_train)\n",
    "print('Gradient Boosting Trees:')\n",
    "print('optimal parameters:',gbtCV.best_params_)\n",
    "print('optimal validation R2 =',gbtCV.best_score_.round(3))"
   ]
  },
  {
   "cell_type": "code",
   "execution_count": 114,
   "id": "9bdeaa4f-3bd1-4893-805e-8d5f5950796c",
   "metadata": {},
   "outputs": [
    {
     "data": {
      "text/plain": [
       "GradientBoostingClassifier(learning_rate=0.01, n_estimators=200)"
      ]
     },
     "execution_count": 114,
     "metadata": {},
     "output_type": "execute_result"
    }
   ],
   "source": [
    "gbt=GradientBoostingClassifier(learning_rate=0.01, n_estimators=200)\n",
    "gbt.fit(X_train,y_train)"
   ]
  },
  {
   "cell_type": "code",
   "execution_count": 115,
   "id": "97c7e453-d12b-4902-92c6-7e3ed2e2e29a",
   "metadata": {},
   "outputs": [
    {
     "data": {
      "text/plain": [
       "0.6939328277356447"
      ]
     },
     "execution_count": 115,
     "metadata": {},
     "output_type": "execute_result"
    }
   ],
   "source": [
    "gbt.score(X_train,y_train)"
   ]
  },
  {
   "cell_type": "code",
   "execution_count": 116,
   "id": "220c703d-55c6-414b-b14a-397578b4b25e",
   "metadata": {},
   "outputs": [
    {
     "data": {
      "text/plain": [
       "0.6941941202540995"
      ]
     },
     "execution_count": 116,
     "metadata": {},
     "output_type": "execute_result"
    }
   ],
   "source": [
    "gbt.score(X_test,y_test)"
   ]
  },
  {
   "cell_type": "markdown",
   "id": "6c82396f",
   "metadata": {},
   "source": [
    "## KNN"
   ]
  },
  {
   "cell_type": "code",
   "execution_count": 100,
   "id": "907d0850",
   "metadata": {},
   "outputs": [],
   "source": [
    "import numpy as np\n",
    "from sklearn.neighbors import KNeighborsClassifier\n",
    "from sklearn.model_selection import train_test_split, GridSearchCV"
   ]
  },
  {
   "cell_type": "code",
   "execution_count": 101,
   "id": "d8526a11",
   "metadata": {},
   "outputs": [],
   "source": [
    "K=np.arange(20)+1\n",
    "knn = KNeighborsClassifier()\n",
    "knnCV=GridSearchCV(knn, param_grid={\"n_neighbors\":K},return_train_score=True, n_jobs=-1 )"
   ]
  },
  {
   "cell_type": "code",
   "execution_count": 102,
   "id": "09918314",
   "metadata": {},
   "outputs": [
    {
     "data": {
      "text/plain": [
       "GridSearchCV(estimator=KNeighborsClassifier(), n_jobs=-1,\n",
       "             param_grid={'n_neighbors': array([ 1,  2,  3,  4,  5,  6,  7,  8,  9, 10, 11, 12, 13, 14, 15, 16, 17,\n",
       "       18, 19, 20])},\n",
       "             return_train_score=True)"
      ]
     },
     "execution_count": 102,
     "metadata": {},
     "output_type": "execute_result"
    }
   ],
   "source": [
    "knnCV.fit(X_train,y_train)"
   ]
  },
  {
   "cell_type": "code",
   "execution_count": 103,
   "id": "97a80084",
   "metadata": {},
   "outputs": [
    {
     "data": {
      "text/plain": [
       "0.6871862031154389"
      ]
     },
     "execution_count": 103,
     "metadata": {},
     "output_type": "execute_result"
    }
   ],
   "source": [
    "knnCV.best_score_"
   ]
  },
  {
   "cell_type": "code",
   "execution_count": 104,
   "id": "a5f494d0",
   "metadata": {},
   "outputs": [
    {
     "data": {
      "text/plain": [
       "{'n_neighbors': 19}"
      ]
     },
     "execution_count": 104,
     "metadata": {},
     "output_type": "execute_result"
    }
   ],
   "source": [
    "knnCV.best_params_"
   ]
  },
  {
   "cell_type": "code",
   "execution_count": 28,
   "id": "d648b8ad",
   "metadata": {},
   "outputs": [],
   "source": []
  },
  {
   "cell_type": "code",
   "execution_count": 65,
   "id": "1e613248",
   "metadata": {},
   "outputs": [],
   "source": [
    "# keywords=feature_importance.sort_values(ascending=False).index[0:19].values"
   ]
  },
  {
   "cell_type": "code",
   "execution_count": 67,
   "id": "d8079cbf",
   "metadata": {},
   "outputs": [],
   "source": [
    "# steamDescriptions"
   ]
  },
  {
   "cell_type": "code",
   "execution_count": null,
   "id": "e6f78a46",
   "metadata": {},
   "outputs": [],
   "source": []
  }
 ],
 "metadata": {
  "kernelspec": {
   "display_name": "Python 3 (ipykernel)",
   "language": "python",
   "name": "python3"
  },
  "language_info": {
   "codemirror_mode": {
    "name": "ipython",
    "version": 3
   },
   "file_extension": ".py",
   "mimetype": "text/x-python",
   "name": "python",
   "nbconvert_exporter": "python",
   "pygments_lexer": "ipython3",
   "version": "3.7.11"
  }
 },
 "nbformat": 4,
 "nbformat_minor": 5
}
