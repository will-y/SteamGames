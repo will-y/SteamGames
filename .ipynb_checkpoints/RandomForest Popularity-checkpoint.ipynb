{
 "cells": [
  {
   "cell_type": "markdown",
   "metadata": {},
   "source": [
    "Random Forest to predict popularity"
   ]
  },
  {
   "cell_type": "code",
   "execution_count": 1,
   "metadata": {},
   "outputs": [],
   "source": [
    "import numpy as np\n",
    "import pandas as pd\n",
    "from sklearn.ensemble import RandomForestClassifier\n",
    "from sklearn.model_selection import train_test_split, GridSearchCV, cross_validate"
   ]
  },
  {
   "cell_type": "code",
   "execution_count": 2,
   "metadata": {},
   "outputs": [
    {
     "data": {
      "text/html": [
       "<div>\n",
       "<style scoped>\n",
       "    .dataframe tbody tr th:only-of-type {\n",
       "        vertical-align: middle;\n",
       "    }\n",
       "\n",
       "    .dataframe tbody tr th {\n",
       "        vertical-align: top;\n",
       "    }\n",
       "\n",
       "    .dataframe thead th {\n",
       "        text-align: right;\n",
       "    }\n",
       "</style>\n",
       "<table border=\"1\" class=\"dataframe\">\n",
       "  <thead>\n",
       "    <tr style=\"text-align: right;\">\n",
       "      <th></th>\n",
       "      <th>day_elapse</th>\n",
       "      <th>achievements</th>\n",
       "      <th>average_playtime</th>\n",
       "      <th>median_playtime</th>\n",
       "      <th>price</th>\n",
       "      <th>positive_percentage</th>\n",
       "      <th>english_0</th>\n",
       "      <th>english_1</th>\n",
       "      <th>required_age_0</th>\n",
       "      <th>required_age_3</th>\n",
       "      <th>...</th>\n",
       "      <th>tag_Werewolves</th>\n",
       "      <th>tag_Western</th>\n",
       "      <th>tag_Word Game</th>\n",
       "      <th>tag_World War I</th>\n",
       "      <th>tag_World War II</th>\n",
       "      <th>tag_Wrestling</th>\n",
       "      <th>tag_Zombies</th>\n",
       "      <th>tag_e-sports</th>\n",
       "      <th>popularity</th>\n",
       "      <th>positive_ratings</th>\n",
       "    </tr>\n",
       "  </thead>\n",
       "  <tbody>\n",
       "    <tr>\n",
       "      <th>0</th>\n",
       "      <td>-7.584710</td>\n",
       "      <td>-0.128306</td>\n",
       "      <td>9.557829</td>\n",
       "      <td>0.072624</td>\n",
       "      <td>0.141186</td>\n",
       "      <td>1.110537</td>\n",
       "      <td>0</td>\n",
       "      <td>1</td>\n",
       "      <td>1</td>\n",
       "      <td>0</td>\n",
       "      <td>...</td>\n",
       "      <td>0</td>\n",
       "      <td>0</td>\n",
       "      <td>0</td>\n",
       "      <td>0</td>\n",
       "      <td>0</td>\n",
       "      <td>0</td>\n",
       "      <td>0</td>\n",
       "      <td>0</td>\n",
       "      <td>Popular</td>\n",
       "      <td>124534</td>\n",
       "    </tr>\n",
       "    <tr>\n",
       "      <th>1</th>\n",
       "      <td>-8.329745</td>\n",
       "      <td>-0.128306</td>\n",
       "      <td>0.069619</td>\n",
       "      <td>-0.035710</td>\n",
       "      <td>-0.265175</td>\n",
       "      <td>0.536451</td>\n",
       "      <td>0</td>\n",
       "      <td>1</td>\n",
       "      <td>1</td>\n",
       "      <td>0</td>\n",
       "      <td>...</td>\n",
       "      <td>0</td>\n",
       "      <td>0</td>\n",
       "      <td>0</td>\n",
       "      <td>0</td>\n",
       "      <td>0</td>\n",
       "      <td>0</td>\n",
       "      <td>0</td>\n",
       "      <td>0</td>\n",
       "      <td>Popular</td>\n",
       "      <td>3318</td>\n",
       "    </tr>\n",
       "    <tr>\n",
       "      <th>2</th>\n",
       "      <td>-6.414491</td>\n",
       "      <td>-0.128306</td>\n",
       "      <td>0.020358</td>\n",
       "      <td>-0.047606</td>\n",
       "      <td>-0.265175</td>\n",
       "      <td>0.775589</td>\n",
       "      <td>0</td>\n",
       "      <td>1</td>\n",
       "      <td>1</td>\n",
       "      <td>0</td>\n",
       "      <td>...</td>\n",
       "      <td>0</td>\n",
       "      <td>0</td>\n",
       "      <td>0</td>\n",
       "      <td>0</td>\n",
       "      <td>1</td>\n",
       "      <td>0</td>\n",
       "      <td>0</td>\n",
       "      <td>0</td>\n",
       "      <td>Popular</td>\n",
       "      <td>3416</td>\n",
       "    </tr>\n",
       "    <tr>\n",
       "      <th>3</th>\n",
       "      <td>-7.312387</td>\n",
       "      <td>-0.128306</td>\n",
       "      <td>0.059220</td>\n",
       "      <td>0.016120</td>\n",
       "      <td>-0.265175</td>\n",
       "      <td>0.480095</td>\n",
       "      <td>0</td>\n",
       "      <td>1</td>\n",
       "      <td>1</td>\n",
       "      <td>0</td>\n",
       "      <td>...</td>\n",
       "      <td>0</td>\n",
       "      <td>0</td>\n",
       "      <td>0</td>\n",
       "      <td>0</td>\n",
       "      <td>0</td>\n",
       "      <td>0</td>\n",
       "      <td>0</td>\n",
       "      <td>0</td>\n",
       "      <td>Popular</td>\n",
       "      <td>1273</td>\n",
       "    </tr>\n",
       "    <tr>\n",
       "      <th>4</th>\n",
       "      <td>-8.054853</td>\n",
       "      <td>-0.128306</td>\n",
       "      <td>0.259548</td>\n",
       "      <td>0.114258</td>\n",
       "      <td>-0.265175</td>\n",
       "      <td>0.999691</td>\n",
       "      <td>0</td>\n",
       "      <td>1</td>\n",
       "      <td>1</td>\n",
       "      <td>0</td>\n",
       "      <td>...</td>\n",
       "      <td>0</td>\n",
       "      <td>0</td>\n",
       "      <td>0</td>\n",
       "      <td>0</td>\n",
       "      <td>0</td>\n",
       "      <td>0</td>\n",
       "      <td>0</td>\n",
       "      <td>0</td>\n",
       "      <td>Popular</td>\n",
       "      <td>5250</td>\n",
       "    </tr>\n",
       "  </tbody>\n",
       "</table>\n",
       "<p>5 rows × 416 columns</p>\n",
       "</div>"
      ],
      "text/plain": [
       "   day_elapse  achievements  average_playtime  median_playtime     price  \\\n",
       "0   -7.584710     -0.128306          9.557829         0.072624  0.141186   \n",
       "1   -8.329745     -0.128306          0.069619        -0.035710 -0.265175   \n",
       "2   -6.414491     -0.128306          0.020358        -0.047606 -0.265175   \n",
       "3   -7.312387     -0.128306          0.059220         0.016120 -0.265175   \n",
       "4   -8.054853     -0.128306          0.259548         0.114258 -0.265175   \n",
       "\n",
       "   positive_percentage  english_0  english_1  required_age_0  required_age_3  \\\n",
       "0             1.110537          0          1               1               0   \n",
       "1             0.536451          0          1               1               0   \n",
       "2             0.775589          0          1               1               0   \n",
       "3             0.480095          0          1               1               0   \n",
       "4             0.999691          0          1               1               0   \n",
       "\n",
       "   ...  tag_Werewolves  tag_Western  tag_Word Game  tag_World War I  \\\n",
       "0  ...               0            0              0                0   \n",
       "1  ...               0            0              0                0   \n",
       "2  ...               0            0              0                0   \n",
       "3  ...               0            0              0                0   \n",
       "4  ...               0            0              0                0   \n",
       "\n",
       "   tag_World War II  tag_Wrestling  tag_Zombies  tag_e-sports  popularity  \\\n",
       "0                 0              0            0             0     Popular   \n",
       "1                 0              0            0             0     Popular   \n",
       "2                 1              0            0             0     Popular   \n",
       "3                 0              0            0             0     Popular   \n",
       "4                 0              0            0             0     Popular   \n",
       "\n",
       "   positive_ratings  \n",
       "0            124534  \n",
       "1              3318  \n",
       "2              3416  \n",
       "3              1273  \n",
       "4              5250  \n",
       "\n",
       "[5 rows x 416 columns]"
      ]
     },
     "execution_count": 2,
     "metadata": {},
     "output_type": "execute_result"
    }
   ],
   "source": [
    "df = pd.read_csv('project_preprocess.csv')\n",
    "df.head()"
   ]
  },
  {
   "cell_type": "code",
   "execution_count": 3,
   "metadata": {},
   "outputs": [],
   "source": [
    "(df_train,df_test) = train_test_split(df,train_size=0.8,test_size=0.2,random_state=0)"
   ]
  },
  {
   "cell_type": "code",
   "execution_count": 4,
   "metadata": {},
   "outputs": [],
   "source": [
    "X_train = df_train.drop('popularity', axis = 1).drop('positive_ratings', axis = 1)\n",
    "y_train = df_train['popularity']\n",
    "X_test = df_test.drop('popularity', axis = 1).drop('positive_ratings', axis = 1)\n",
    "y_test = df_test['popularity']"
   ]
  },
  {
   "cell_type": "code",
   "execution_count": 5,
   "metadata": {},
   "outputs": [
    {
     "data": {
      "text/html": [
       "<div>\n",
       "<style scoped>\n",
       "    .dataframe tbody tr th:only-of-type {\n",
       "        vertical-align: middle;\n",
       "    }\n",
       "\n",
       "    .dataframe tbody tr th {\n",
       "        vertical-align: top;\n",
       "    }\n",
       "\n",
       "    .dataframe thead th {\n",
       "        text-align: right;\n",
       "    }\n",
       "</style>\n",
       "<table border=\"1\" class=\"dataframe\">\n",
       "  <thead>\n",
       "    <tr style=\"text-align: right;\">\n",
       "      <th></th>\n",
       "      <th>day_elapse</th>\n",
       "      <th>achievements</th>\n",
       "      <th>average_playtime</th>\n",
       "      <th>median_playtime</th>\n",
       "      <th>price</th>\n",
       "      <th>positive_percentage</th>\n",
       "      <th>english_0</th>\n",
       "      <th>english_1</th>\n",
       "      <th>required_age_0</th>\n",
       "      <th>required_age_3</th>\n",
       "      <th>...</th>\n",
       "      <th>tag_Warhammer 40K</th>\n",
       "      <th>tag_Web Publishing</th>\n",
       "      <th>tag_Werewolves</th>\n",
       "      <th>tag_Western</th>\n",
       "      <th>tag_Word Game</th>\n",
       "      <th>tag_World War I</th>\n",
       "      <th>tag_World War II</th>\n",
       "      <th>tag_Wrestling</th>\n",
       "      <th>tag_Zombies</th>\n",
       "      <th>tag_e-sports</th>\n",
       "    </tr>\n",
       "  </thead>\n",
       "  <tbody>\n",
       "    <tr>\n",
       "      <th>9267</th>\n",
       "      <td>0.015931</td>\n",
       "      <td>0.058841</td>\n",
       "      <td>-0.081995</td>\n",
       "      <td>-0.062050</td>\n",
       "      <td>0.623739</td>\n",
       "      <td>-0.753527</td>\n",
       "      <td>0</td>\n",
       "      <td>1</td>\n",
       "      <td>1</td>\n",
       "      <td>0</td>\n",
       "      <td>...</td>\n",
       "      <td>0</td>\n",
       "      <td>0</td>\n",
       "      <td>0</td>\n",
       "      <td>0</td>\n",
       "      <td>0</td>\n",
       "      <td>0</td>\n",
       "      <td>0</td>\n",
       "      <td>0</td>\n",
       "      <td>0</td>\n",
       "      <td>0</td>\n",
       "    </tr>\n",
       "    <tr>\n",
       "      <th>19313</th>\n",
       "      <td>0.492496</td>\n",
       "      <td>-0.099950</td>\n",
       "      <td>-0.081995</td>\n",
       "      <td>-0.062050</td>\n",
       "      <td>-0.557247</td>\n",
       "      <td>0.152070</td>\n",
       "      <td>0</td>\n",
       "      <td>1</td>\n",
       "      <td>1</td>\n",
       "      <td>0</td>\n",
       "      <td>...</td>\n",
       "      <td>0</td>\n",
       "      <td>0</td>\n",
       "      <td>0</td>\n",
       "      <td>0</td>\n",
       "      <td>0</td>\n",
       "      <td>0</td>\n",
       "      <td>0</td>\n",
       "      <td>0</td>\n",
       "      <td>0</td>\n",
       "      <td>0</td>\n",
       "    </tr>\n",
       "    <tr>\n",
       "      <th>26925</th>\n",
       "      <td>1.060264</td>\n",
       "      <td>-0.128306</td>\n",
       "      <td>-0.081995</td>\n",
       "      <td>-0.062050</td>\n",
       "      <td>-0.771856</td>\n",
       "      <td>-0.204680</td>\n",
       "      <td>0</td>\n",
       "      <td>1</td>\n",
       "      <td>1</td>\n",
       "      <td>0</td>\n",
       "      <td>...</td>\n",
       "      <td>0</td>\n",
       "      <td>0</td>\n",
       "      <td>0</td>\n",
       "      <td>0</td>\n",
       "      <td>0</td>\n",
       "      <td>0</td>\n",
       "      <td>0</td>\n",
       "      <td>0</td>\n",
       "      <td>0</td>\n",
       "      <td>0</td>\n",
       "    </tr>\n",
       "    <tr>\n",
       "      <th>121</th>\n",
       "      <td>-4.734309</td>\n",
       "      <td>-0.046075</td>\n",
       "      <td>6.717113</td>\n",
       "      <td>0.734522</td>\n",
       "      <td>0.115788</td>\n",
       "      <td>1.037266</td>\n",
       "      <td>0</td>\n",
       "      <td>1</td>\n",
       "      <td>1</td>\n",
       "      <td>0</td>\n",
       "      <td>...</td>\n",
       "      <td>0</td>\n",
       "      <td>0</td>\n",
       "      <td>0</td>\n",
       "      <td>0</td>\n",
       "      <td>0</td>\n",
       "      <td>0</td>\n",
       "      <td>0</td>\n",
       "      <td>0</td>\n",
       "      <td>0</td>\n",
       "      <td>0</td>\n",
       "    </tr>\n",
       "    <tr>\n",
       "      <th>2092</th>\n",
       "      <td>-0.992435</td>\n",
       "      <td>-0.077266</td>\n",
       "      <td>-0.081995</td>\n",
       "      <td>-0.062050</td>\n",
       "      <td>3.036506</td>\n",
       "      <td>-0.374186</td>\n",
       "      <td>0</td>\n",
       "      <td>1</td>\n",
       "      <td>1</td>\n",
       "      <td>0</td>\n",
       "      <td>...</td>\n",
       "      <td>0</td>\n",
       "      <td>0</td>\n",
       "      <td>0</td>\n",
       "      <td>0</td>\n",
       "      <td>0</td>\n",
       "      <td>0</td>\n",
       "      <td>0</td>\n",
       "      <td>0</td>\n",
       "      <td>0</td>\n",
       "      <td>0</td>\n",
       "    </tr>\n",
       "  </tbody>\n",
       "</table>\n",
       "<p>5 rows × 414 columns</p>\n",
       "</div>"
      ],
      "text/plain": [
       "       day_elapse  achievements  average_playtime  median_playtime     price  \\\n",
       "9267     0.015931      0.058841         -0.081995        -0.062050  0.623739   \n",
       "19313    0.492496     -0.099950         -0.081995        -0.062050 -0.557247   \n",
       "26925    1.060264     -0.128306         -0.081995        -0.062050 -0.771856   \n",
       "121     -4.734309     -0.046075          6.717113         0.734522  0.115788   \n",
       "2092    -0.992435     -0.077266         -0.081995        -0.062050  3.036506   \n",
       "\n",
       "       positive_percentage  english_0  english_1  required_age_0  \\\n",
       "9267             -0.753527          0          1               1   \n",
       "19313             0.152070          0          1               1   \n",
       "26925            -0.204680          0          1               1   \n",
       "121               1.037266          0          1               1   \n",
       "2092             -0.374186          0          1               1   \n",
       "\n",
       "       required_age_3  ...  tag_Warhammer 40K  tag_Web Publishing  \\\n",
       "9267                0  ...                  0                   0   \n",
       "19313               0  ...                  0                   0   \n",
       "26925               0  ...                  0                   0   \n",
       "121                 0  ...                  0                   0   \n",
       "2092                0  ...                  0                   0   \n",
       "\n",
       "       tag_Werewolves  tag_Western  tag_Word Game  tag_World War I  \\\n",
       "9267                0            0              0                0   \n",
       "19313               0            0              0                0   \n",
       "26925               0            0              0                0   \n",
       "121                 0            0              0                0   \n",
       "2092                0            0              0                0   \n",
       "\n",
       "       tag_World War II  tag_Wrestling  tag_Zombies  tag_e-sports  \n",
       "9267                  0              0            0             0  \n",
       "19313                 0              0            0             0  \n",
       "26925                 0              0            0             0  \n",
       "121                   0              0            0             0  \n",
       "2092                  0              0            0             0  \n",
       "\n",
       "[5 rows x 414 columns]"
      ]
     },
     "execution_count": 5,
     "metadata": {},
     "output_type": "execute_result"
    }
   ],
   "source": [
    "X_train.head()"
   ]
  },
  {
   "cell_type": "code",
   "execution_count": 6,
   "metadata": {},
   "outputs": [
    {
     "data": {
      "text/plain": [
       "9267     Low popularity\n",
       "19313    Low popularity\n",
       "26925    Low popularity\n",
       "121             Popular\n",
       "2092            Average\n",
       "Name: popularity, dtype: object"
      ]
     },
     "execution_count": 6,
     "metadata": {},
     "output_type": "execute_result"
    }
   ],
   "source": [
    "y_train.head()"
   ]
  },
  {
   "cell_type": "code",
   "execution_count": 7,
   "metadata": {},
   "outputs": [
    {
     "name": "stdout",
     "output_type": "stream",
     "text": [
      "\n",
      "         best B = {'n_estimators': 130}\n",
      "  validation R2 = 0.831\n"
     ]
    },
    {
     "data": {
      "text/plain": [
       "<AxesSubplot:xlabel='trees'>"
      ]
     },
     "execution_count": 7,
     "metadata": {},
     "output_type": "execute_result"
    },
    {
     "data": {
      "image/png": "[encoded data removed]",
      "text/plain": [
       "<Figure size 432x288 with 1 Axes>"
      ]
     },
     "metadata": {
      "needs_background": "light"
     },
     "output_type": "display_data"
    }
   ],
   "source": [
    "B = np.arange(10,200,10)\n",
    "grid = {'n_estimators':B}\n",
    "\n",
    "rf = RandomForestClassifier()\n",
    "rfCV = GridSearchCV(rf,param_grid=grid,return_train_score=True,n_jobs=-1)\n",
    "rfCV.fit(X_train,y_train)\n",
    "\n",
    "print()\n",
    "print('         best B =',rfCV.best_params_)\n",
    "print('  validation R2 =',rfCV.best_score_.round(3))\n",
    "\n",
    "results = pd.DataFrame()\n",
    "results['trees'] = grid['n_estimators']\n",
    "results['train R2'] = rfCV.cv_results_['mean_train_score']\n",
    "results['valid R2']  = rfCV.cv_results_['mean_test_score']\n",
    "ax1 = results.plot.line(x='trees',y='train R2')\n",
    "results.plot.line(x='trees',y='valid R2',ax=ax1)"
   ]
  },
  {
   "cell_type": "code",
   "execution_count": 8,
   "metadata": {},
   "outputs": [
    {
     "name": "stdout",
     "output_type": "stream",
     "text": [
      "test R2 0.832\n"
     ]
    }
   ],
   "source": [
    "print('test R2',rfCV.score(X_test,y_test).round(3))"
   ]
  },
  {
   "cell_type": "markdown",
   "metadata": {},
   "source": [
    "Baseline was: 0.687\n",
    "\n",
    "(18596/df['popularity'].count()).round(3)\n"
   ]
  },
  {
   "cell_type": "markdown",
   "metadata": {},
   "source": [
    "Random forest did pretty well"
   ]
  },
  {
   "cell_type": "markdown",
   "metadata": {},
   "source": [
    "Lets try to refine the grid"
   ]
  },
  {
   "cell_type": "code",
   "execution_count": 9,
   "metadata": {},
   "outputs": [
    {
     "name": "stdout",
     "output_type": "stream",
     "text": [
      "\n",
      "         best B = {'n_estimators': 120}\n",
      "  validation R2 = 0.83\n"
     ]
    },
    {
     "data": {
      "text/plain": [
       "<AxesSubplot:xlabel='trees'>"
      ]
     },
     "execution_count": 9,
     "metadata": {},
     "output_type": "execute_result"
    },
    {
     "data": {
      "image/png": "[encoded data removed]",
      "text/plain": [
       "<Figure size 432x288 with 1 Axes>"
      ]
     },
     "metadata": {
      "needs_background": "light"
     },
     "output_type": "display_data"
    }
   ],
   "source": [
    "B = np.arange(100,150,10)\n",
    "grid = {'n_estimators':B}\n",
    "\n",
    "rf = RandomForestClassifier()\n",
    "rfCV = GridSearchCV(rf,param_grid=grid,return_train_score=True,n_jobs=-1)\n",
    "rfCV.fit(X_train,y_train)\n",
    "\n",
    "print()\n",
    "print('         best B =',rfCV.best_params_)\n",
    "print('  validation R2 =',rfCV.best_score_.round(3))\n",
    "\n",
    "results = pd.DataFrame()\n",
    "results['trees'] = grid['n_estimators']\n",
    "results['train R2'] = rfCV.cv_results_['mean_train_score']\n",
    "results['valid R2']  = rfCV.cv_results_['mean_test_score']\n",
    "ax1 = results.plot.line(x='trees',y='train R2')\n",
    "results.plot.line(x='trees',y='valid R2',ax=ax1)"
   ]
  },
  {
   "cell_type": "code",
   "execution_count": 10,
   "metadata": {},
   "outputs": [
    {
     "name": "stdout",
     "output_type": "stream",
     "text": [
      "test R2 0.832\n"
     ]
    }
   ],
   "source": [
    "print('test R2',rfCV.score(X_test,y_test).round(3))"
   ]
  },
  {
   "cell_type": "markdown",
   "metadata": {},
   "source": [
    "The test score is the same as with 130"
   ]
  },
  {
   "cell_type": "code",
   "execution_count": 13,
   "metadata": {},
   "outputs": [],
   "source": [
    "from sklearn.metrics import confusion_matrix"
   ]
  },
  {
   "cell_type": "code",
   "execution_count": 14,
   "metadata": {},
   "outputs": [],
   "source": [
    "yh = rfCV.predict(X_test)"
   ]
  },
  {
   "cell_type": "code",
   "execution_count": 15,
   "metadata": {},
   "outputs": [
    {
     "data": {
      "text/html": [
       "<div>\n",
       "<style scoped>\n",
       "    .dataframe tbody tr th:only-of-type {\n",
       "        vertical-align: middle;\n",
       "    }\n",
       "\n",
       "    .dataframe tbody tr th {\n",
       "        vertical-align: top;\n",
       "    }\n",
       "\n",
       "    .dataframe thead th {\n",
       "        text-align: right;\n",
       "    }\n",
       "</style>\n",
       "<table border=\"1\" class=\"dataframe\">\n",
       "  <thead>\n",
       "    <tr style=\"text-align: right;\">\n",
       "      <th></th>\n",
       "      <th>Average</th>\n",
       "      <th>Low popularity</th>\n",
       "      <th>Popular</th>\n",
       "      <th>total</th>\n",
       "    </tr>\n",
       "  </thead>\n",
       "  <tbody>\n",
       "    <tr>\n",
       "      <th>Average</th>\n",
       "      <td>365</td>\n",
       "      <td>407</td>\n",
       "      <td>164</td>\n",
       "      <td>936</td>\n",
       "    </tr>\n",
       "    <tr>\n",
       "      <th>Low popularity</th>\n",
       "      <td>131</td>\n",
       "      <td>3588</td>\n",
       "      <td>27</td>\n",
       "      <td>3746</td>\n",
       "    </tr>\n",
       "    <tr>\n",
       "      <th>Popular</th>\n",
       "      <td>147</td>\n",
       "      <td>32</td>\n",
       "      <td>554</td>\n",
       "      <td>733</td>\n",
       "    </tr>\n",
       "  </tbody>\n",
       "</table>\n",
       "</div>"
      ],
      "text/plain": [
       "                Average  Low popularity  Popular  total\n",
       "Average             365             407      164    936\n",
       "Low popularity      131            3588       27   3746\n",
       "Popular             147              32      554    733"
      ]
     },
     "execution_count": 15,
     "metadata": {},
     "output_type": "execute_result"
    }
   ],
   "source": [
    "y = y_test.astype('category')\n",
    "cols = y.cat.categories\n",
    "M = confusion_matrix(y, yh)\n",
    "ConfusionMatrix = pd.DataFrame(M, index=cols, columns=cols)\n",
    "ConfusionMatrix['total'] = ConfusionMatrix.sum(axis=1)\n",
    "ConfusionMatrix"
   ]
  },
  {
   "cell_type": "markdown",
   "metadata": {},
   "source": [
    "The confusion matrix is similar to the logistic regression, just more accurate this time, \n",
    "\n",
    "popular has become reached a good level of accuracy only confusing 32 of 733 with low popularity despite it being the most common category by far\n",
    "\n",
    "Average is similar with predicting more as low popularity, but it does a little better this time"
   ]
  },
  {
   "cell_type": "code",
   "execution_count": 1,
   "metadata": {},
   "outputs": [
    {
     "ename": "NameError",
     "evalue": "name 'rfCV' is not defined",
     "output_type": "error",
     "traceback": [
      "\u001b[1;31m---------------------------------------------------------------------------\u001b[0m",
      "\u001b[1;31mNameError\u001b[0m                                 Traceback (most recent call last)",
      "\u001b[1;32m~\\AppData\\Local\\Temp/ipykernel_12228/166531097.py\u001b[0m in \u001b[0;36m<module>\u001b[1;34m\u001b[0m\n\u001b[1;32m----> 1\u001b[1;33m \u001b[0mrfCV\u001b[0m\u001b[1;33m.\u001b[0m\u001b[0mbest_score_\u001b[0m\u001b[1;33m\u001b[0m\u001b[1;33m\u001b[0m\u001b[0m\n\u001b[0m",
      "\u001b[1;31mNameError\u001b[0m: name 'rfCV' is not defined"
     ]
    }
   ],
   "source": [
    "rfCV.best_score_"
   ]
  },
  {
   "cell_type": "code",
   "execution_count": null,
   "metadata": {},
   "outputs": [],
   "source": []
  }
 ],
 "metadata": {
  "kernelspec": {
   "display_name": "Python 3 (ipykernel)",
   "language": "python",
   "name": "python3"
  },
  "language_info": {
   "codemirror_mode": {
    "name": "ipython",
    "version": 3
   },
   "file_extension": ".py",
   "mimetype": "text/x-python",
   "name": "python",
   "nbconvert_exporter": "python",
   "pygments_lexer": "ipython3",
   "version": "3.9.5"
  }
 },
 "nbformat": 4,
 "nbformat_minor": 4
}
